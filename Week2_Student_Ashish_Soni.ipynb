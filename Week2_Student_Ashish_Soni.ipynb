{
  "cells": [
    {
      "cell_type": "markdown",
      "metadata": {
        "id": "view-in-github",
        "colab_type": "text"
      },
      "source": [
        "<a href=\"https://colab.research.google.com/github/Ashish-Soni08/CoRise-Deep_Learning_Essentials/blob/main/Week2_Student_Ashish_Soni.ipynb\" target=\"_parent\"><img src=\"https://colab.research.google.com/assets/colab-badge.svg\" alt=\"Open In Colab\"/></a>"
      ]
    },
    {
      "cell_type": "markdown",
      "metadata": {
        "id": "Lw_39UUTNaE5"
      },
      "source": [
        "# Welcome to Week 2!"
      ]
    },
    {
      "cell_type": "markdown",
      "metadata": {
        "id": "tcUSUQomg-pY"
      },
      "source": [
        "## Prerequisites:\n",
        "\n",
        "Run the below cell to install the dependencies for this project and mount the drive:"
      ]
    },
    {
      "cell_type": "code",
      "execution_count": null,
      "metadata": {
        "id": "SU_ao81igG67"
      },
      "outputs": [],
      "source": [
        "%%capture \n",
        "!pip install numpy pandas matplotlib emoji==1.6.3 torch lrcurve gradio wandb fsspec dask[bag]"
      ]
    },
    {
      "cell_type": "code",
      "execution_count": null,
      "metadata": {
        "id": "KlqaJcHHJiv0",
        "colab": {
          "base_uri": "https://localhost:8080/"
        },
        "outputId": "2c1f1183-b3e4-4480-ebc0-28268e6be465"
      },
      "outputs": [
        {
          "output_type": "stream",
          "name": "stdout",
          "text": [
            "Mounted at /content/drive\n"
          ]
        }
      ],
      "source": [
        "from google.colab import drive\n",
        "import os\n",
        "import sys\n",
        "drive.mount('/content/drive', force_remount=False)\n",
        "\n",
        "#@markdown Specify the full \"DLE-Projects\" folder in your Google Drive. \n",
        "#@markdown You can find this by navigating in the folder icon tab on the left.\n",
        "directory = '/content/drive/MyDrive/DLE-Projects/' #@param {type:\"string\"}\n",
        "\n",
        "sys.path.append(directory)\n",
        "sys.path.append(os.path.join(directory, 'utils'))\n",
        "os.chdir(os.path.join(directory, 'Week2'))\n",
        "%matplotlib inline\n",
        "\n",
        "# This is the directory that local changes get saved to.\n",
        "# Change this if you'd like to save them somewhere else!\n",
        "os.chdir('/content/drive/MyDrive/Colab Notebooks/')\n"
      ]
    },
    {
      "cell_type": "code",
      "execution_count": null,
      "metadata": {
        "id": "zZJTVwa63r7-"
      },
      "outputs": [],
      "source": [
        "%load_ext autoreload\n",
        "%autoreload 2 \n",
        "import gradio as gr\n",
        "import torch\n",
        "import torch.nn as nn\n",
        "import math\n",
        "import numpy as np\n",
        "import matplotlib.pyplot as plt\n",
        "import emoji\n",
        "import wandb\n",
        "import pandas as pd\n",
        "import lrcurve\n",
        "from functools import partial\n",
        "from scipy.special import softmax\n",
        "from sklearn.metrics import accuracy_score, f1_score, classification_report\n",
        "\n",
        "import constants as const\n",
        "from utils import *\n",
        "from quickdraw import *\n",
        "from assignment_helpers import *\n",
        "\n",
        "torch.manual_seed(0)\n",
        "import random\n",
        "random.seed(0)"
      ]
    },
    {
      "cell_type": "markdown",
      "metadata": {
        "id": "yBjB3pDhdgZ1"
      },
      "source": [
        "# Week 2 - Training Neural Networks\n",
        "\n",
        "Welcome back! \n",
        "\n",
        "This week, we are extending our knowledge of neural networks and PyTorch by creating an end-to-end deep learning training/evaluation pipeline. We will be using an object doodle database and create our own sketch-to-emoji app!\n",
        "\n",
        "## Overview of Week 2\n",
        "\n",
        "1. The QuickDraw dataset\n",
        "2. Dataloaders\n",
        "3. Training the model\n",
        "  - `zero_grad()`\n",
        "  - `backward()`\n",
        "  - `step()`\n",
        "4. Monitoring\n",
        "  - Weights and Biases\n",
        "  - Evaluation\n",
        "5. Optimizers\n",
        "6. Model Improvements"
      ]
    },
    {
      "cell_type": "markdown",
      "metadata": {
        "id": "jjQB_5DnhiwB"
      },
      "source": [
        "## Doodle to Emoji Demo App\n",
        "Let's say you're working for a mobile messaging company. You've noticed how much time people spend trying to find the right emoji, scrolling endlessly through the options given in the keyboard. Sometimes, even searching for it using keywords doesn't give you what you want!\n",
        "\n",
        "To solve this, you've taken it on your own to create a way for users to just *draw* the emoji they want! \n",
        "\n",
        "**Using a neural network, develop a model that can translate a user-drawn doodle into its corresponding emoji.**\n",
        "\n",
        "\n",
        "<img src=\"https://drive.google.com/uc?id=1XGb5lO0t-vAx7rSs_LUVHngFTbfdlrr8\" width=\"600\">\n",
        "\n",
        "You've been given the user interface below, and your job is to train ```model``` such that it gives accurate results. Currently, ```model``` is just a dummy function, but feel free to try out the interface! (The predictions will just be placeholders).\n",
        "\n",
        "To make things a little simpler, we will focus on emojis for this project. However, you can scale to hundreds using the same approach.\n",
        "\n",
        "The ten emojis are:\n",
        "\n",
        "    smile 😄. eyes 👀, car 🚗, star ⭐, stop sign 🛑, bed 🛏️, baseball ⚾, basketball 🏀, pizza 🍕, bicycle 🚲\n"
      ]
    },
    {
      "cell_type": "code",
      "execution_count": null,
      "metadata": {
        "id": "3o521IRamVBw",
        "colab": {
          "base_uri": "https://localhost:8080/",
          "height": 678
        },
        "outputId": "7b948598-c782-4842-c451-49b185c56a71"
      },
      "outputs": [
        {
          "output_type": "stream",
          "name": "stdout",
          "text": [
            "Hint: Set streaming=True for Sketchpad component to use live streaming.\n",
            "Colab notebook detected. This cell will run indefinitely so that you can see errors and logs. To turn off, set debug=False in launch().\n",
            "Running on public URL: https://d2e3e74983d9d708.gradio.app\n",
            "\n",
            "This share link expires in 72 hours. For free permanent hosting and GPU upgrades (NEW!), check out Spaces: https://huggingface.co/spaces\n"
          ]
        },
        {
          "output_type": "display_data",
          "data": {
            "text/plain": [
              "<IPython.core.display.HTML object>"
            ],
            "text/html": [
              "<div><iframe src=\"https://d2e3e74983d9d708.gradio.app\" width=\"900\" height=\"500\" allow=\"autoplay; camera; microphone; clipboard-read; clipboard-write;\" frameborder=\"0\" allowfullscreen></iframe></div>"
            ]
          },
          "metadata": {}
        },
        {
          "output_type": "stream",
          "name": "stdout",
          "text": [
            "Keyboard interruption in main thread... closing server.\n"
          ]
        },
        {
          "output_type": "execute_result",
          "data": {
            "text/plain": [
              "(<gradio.routes.App at 0x7f43fd873950>,\n",
              " 'http://127.0.0.1:7860/',\n",
              " 'https://d2e3e74983d9d708.gradio.app')"
            ]
          },
          "metadata": {},
          "execution_count": 7
        }
      ],
      "source": [
        "def model(doodle):\n",
        "  '''\n",
        "  A placeholder for your model!\n",
        "  This function returns equal probability to each of the ten classes above.\n",
        "  '''\n",
        "  return np.array([0.1]*10)\n",
        "\n",
        "def predict(doodle):\n",
        "    doodle = doodle / 255.\n",
        "    y_hats = model(doodle)\n",
        "    emoji_names = np.array(list(const.DOODLE_TO_EMOJI_MAP.values()))\n",
        "    emoji_dict = {emoji.emojize(f':{emoji_names[i]}:', use_aliases=True): float(y_hat) \\\n",
        "                  for i, y_hat in enumerate(y_hats)}\n",
        "    return emoji_dict\n",
        "\n",
        "interface = gr.Interface(predict, inputs='sketchpad', outputs='label', theme=\"default\", live=True, description=\"Guess the Doodle!\")\n",
        "interface.launch(debug=True)"
      ]
    },
    {
      "cell_type": "markdown",
      "metadata": {
        "id": "Gyv-6qFlosRs"
      },
      "source": [
        "Our goal for this week is to populate ```model()``` with a working emoji classifier from scratch by:\n",
        "1. Loading the QuickDraw dataset\n",
        "2. Creating our own MLP model\n",
        "3. Training the model\n",
        "4. Optimizing the model"
      ]
    },
    {
      "cell_type": "markdown",
      "metadata": {
        "id": "kNEG0IREo0F6"
      },
      "source": [
        "# 1. The QuickDraw Dataset\n",
        "\n",
        "For this project, we will be using the [Quick Draw dataset](https://www.kaggle.com/c/quickdraw-doodle-recognition/data) from Google Research, which contains human-drawn doodles from over 300 categories (we'll just be working with 10 this week).\n",
        "\n",
        "Here, we provide you with a few helper functions to access the dataset, located in the `quickdraw.py` file in the `utils/` folder.\n",
        "\n",
        "`download_quickdraw_dataset(data_dir, class_names)`: This function downloads each of the classes listed in `class_names` as Numpy files from a Google Storage bucket and saves them into `data_dir`.\n",
        "\n",
        "`load_quickdraw_data(data_dir, class_names, max_items_per_class)`: This function reads the Numpy files from `data_dir` for each of the classes in `class_names` (up to `max_items_per_class` number of examples). Returns the images and labels as a tuple `(X, y)`.\n",
        "\n",
        "We encourage you to open up `quickdraw.py` and take a look at what they do!\n",
        "\n",
        "**TODO**: Use the two functions above to download the data and load it into variables `X` (the images) and `Y` (the labels). Print the shapes of both variables.\n",
        "\n",
        "Hint: `const.DOODLE_TO_EMOJI_MAP` is a dictionary with the keys as the dataset class names and the values as the corresponding emoji names. Use `list(const.DOODLE_TO_EMOJI_MAP.keys())` to get a list of class names. "
      ]
    },
    {
      "cell_type": "code",
      "execution_count": null,
      "metadata": {
        "id": "Te_XsCvs2G7s",
        "colab": {
          "base_uri": "https://localhost:8080/",
          "height": 136,
          "referenced_widgets": [
            "ced337ce75ff4b0dbd844d667607d575",
            "6ebadbf927864b168b06b9b2fbcd802d",
            "30f3531b7dfb4beb8299219d4985966b",
            "5be88bf8b7924762afd929e3b86c8359",
            "e131e06acbfa493abfd019a5f88ebdee",
            "fbd3d002027a44ff995e4a65a8ed0f26",
            "2f0beac2fcb84b2f9a40bb9db0351e6c",
            "baba01aab99d4c1d83dd1b105ad7f9e6",
            "861936874143410b84eef95c5d0e2f98",
            "c5b26dc90e74410780b9266813f6c4bb",
            "ce0c53b1c726476f9efeeab23e9b0bff"
          ]
        },
        "outputId": "7b753a12-b177-44ba-fe68-27e3b6553905"
      },
      "outputs": [
        {
          "output_type": "stream",
          "name": "stdout",
          "text": [
            "Class Names: ['smiley face', 'stop sign', 'baseball', 'basketball', 'bed', 'bicycle', 'eye', 'car', 'pizza', 'star']\n",
            "Downloading Quickdraw Dataset...\n"
          ]
        },
        {
          "output_type": "display_data",
          "data": {
            "text/plain": [
              "  0%|          | 0/10 [00:00<?, ?it/s]"
            ],
            "application/vnd.jupyter.widget-view+json": {
              "version_major": 2,
              "version_minor": 0,
              "model_id": "ced337ce75ff4b0dbd844d667607d575"
            }
          },
          "metadata": {}
        },
        {
          "output_type": "stream",
          "name": "stdout",
          "text": [
            "Loading 20000 examples for each class from the Quickdraw Dataset...\n",
            "Shape of X, (200000, 784)\n",
            "Shape of Y, (200000,)\n"
          ]
        }
      ],
      "source": [
        "data_dir = './data'\n",
        "max_items_per_class = 20000 # to retreive equal samples for each class\n",
        "# TODO: Load the names of classes\n",
        "class_names = list(const.DOODLE_TO_EMOJI_MAP.keys())\n",
        "print(f'Class Names: {class_names}')\n",
        "\n",
        "# TODO: Download the dataset\n",
        "download_quickdraw_dataset(data_dir, class_names)\n",
        "\n",
        "# TODO: Load the images and labels\n",
        "X, Y = load_quickdraw_data(data_dir, class_names, max_items_per_class)\n",
        "\n",
        "# TODO: Print the shapes of X and Y\n",
        "print(f\"Shape of X, {X.shape}\")\n",
        "print(f\"Shape of Y, {Y.shape}\")"
      ]
    },
    {
      "cell_type": "code",
      "execution_count": null,
      "metadata": {
        "id": "K4VvXXd2Gvi0",
        "colab": {
          "base_uri": "https://localhost:8080/",
          "height": 64
        },
        "outputId": "e9fc2da6-51e3-45bd-c4ed-bee121bd30ee"
      },
      "outputs": [
        {
          "output_type": "execute_result",
          "data": {
            "text/plain": [
              "<IPython.core.display.Markdown object>"
            ],
            "text/markdown": "## Correct! 🎉"
          },
          "metadata": {},
          "execution_count": 9
        }
      ],
      "source": [
        "#@title Run this cell to check your answer!\n",
        "\n",
        "check_answer(X.shape == (200000, 784) and Y.shape == (200000,))"
      ]
    },
    {
      "cell_type": "markdown",
      "metadata": {
        "id": "NT0iubSuS9sK"
      },
      "source": [
        "## The `Dataset` class\n",
        "\n",
        "As you might imagine, loading data is a big part of training a neural network. To make things easier, PyTorch has a whole class defined that just deals with loading data for the neural network.\n",
        "\n",
        "This class is called a [PyTorch Dataset](https://pytorch.org/tutorials/beginner/basics/data_tutorial.html). To create a PyTorch Dataset, just create a class that inherits the `torch.utils.data.Dataset` abstract class. There are a lot of methods that come along for the ride, but the two that you need to override to customize any PyTorch Dataset are:\n",
        "\n",
        "- `__len__` so that `len(dataset)` returns the size of the dataset.\n",
        "- `__getitem__` to support the indexing such that `dataset[i]` can be used to get `i`th sample.\n",
        "\n",
        "**TODO**: Create a PyTorch Dataset class. Implement the two methods above and use the `download_quickdraw_dataset` and `load_quickdraw_data` methods in the initialization.\n",
        "\n",
        "We've included a function, `split()`, which returns three Datasets: a train, validation, and test dataset with the validation and test dataset each containing `pct` percent of the total data and the training data containing the rest."
      ]
    },
    {
      "cell_type": "code",
      "execution_count": null,
      "metadata": {
        "id": "_vDRRh7LPXWb"
      },
      "outputs": [],
      "source": [
        "import math\n",
        "from quickdraw import *\n",
        "\n",
        "class QuickDrawDataset(torch.utils.data.Dataset):\n",
        "    def __init__(self, data_dir=None, class_names=None):\n",
        "        super().__init__()\n",
        "        \n",
        "        # TODO: Initialize data_dir, class_names, and num_classes instance variables\n",
        "        self.data_dir = data_dir\n",
        "        self.class_names = class_names\n",
        "        self.num_classes = len(class_names)\n",
        "\n",
        "        # TODO: Run download_quickdraw_dataset\n",
        "        download_quickdraw_dataset(data_dir, class_names)\n",
        "\n",
        "        # TODO: Get and set X, Y\n",
        "        self.X, self.Y = load_quickdraw_data(data_dir, class_names, max_items_per_class)\n",
        "\n",
        "    def __getitem__(self, idx):\n",
        "\n",
        "        # TODO: Get X[idx] \n",
        "        # TODO: Reshape image to (1, 28, 28)\n",
        "        # TODO: Convert datatype to np.float32\n",
        "        # TODO: Normalize image to [0, 1] range\n",
        "        # TODO: Return cleaned up x, y\n",
        "\n",
        "        x = X[idx]\n",
        "        x = np.reshape(x, (1,28,28))\n",
        "        x = x.astype(np.float32)\n",
        "        x /= 255\n",
        "        x = torch.tensor(x)\n",
        "\n",
        "        y = self.Y[idx]\n",
        "\n",
        "        return x, y\n",
        "\n",
        "    def __len__(self):\n",
        "\n",
        "        # TODO: Return the number of images in X\n",
        "        len_X = X.shape[0]\n",
        "        \n",
        "        return len_X\n",
        "    \n",
        "    def split(self, pct=0.1, seed=0):\n",
        "\n",
        "        # Nothing to do here, this function just splits your data\n",
        "\n",
        "        torch.manual_seed(seed)\n",
        "        indices = torch.randperm(len(self)).tolist()\n",
        "        n_pct = math.floor(len(indices) * pct)\n",
        "        train_ds = torch.utils.data.Subset(self, indices[:-(2*n_pct)])\n",
        "        val_ds = torch.utils.data.Subset(self, indices[-(2*n_pct):-n_pct])\n",
        "        test_ds = torch.utils.data.Subset(self, indices[-n_pct:])\n",
        "        return train_ds, val_ds, test_ds\n"
      ]
    },
    {
      "cell_type": "markdown",
      "metadata": {
        "id": "1mUyFIVLFfW9"
      },
      "source": [
        "Now use the `QuickDrawDataset` class to create `train_ds`, `val_ds`, and `test_ds`. Set `pct=0.1`. This will randomly split the entire dataset into 80\\% training, 10\\% validation, and 10\\% testing data."
      ]
    },
    {
      "cell_type": "code",
      "execution_count": null,
      "metadata": {
        "id": "s1yN_v01-OUI",
        "colab": {
          "base_uri": "https://localhost:8080/",
          "height": 84,
          "referenced_widgets": [
            "b48984a113a84895bbb31625c69e0c15",
            "6e9954be055b4477a7c13d2e08b8a84d",
            "72e06da494204cc8a820882ae09eb7b5",
            "bbc7f2263370461da853eec7f3ae6e79",
            "47c5e096b62e42b8b729b8ffed8ec120",
            "b70a5dc16c254e43a1816c4e553f2743",
            "248847e0492943e3b6e22d364d0068cd",
            "840eab94e0b0417daedf9ecdf8c424d6",
            "f9d95933c7604561a6902963f40557df",
            "16d06acfac734fe4a9cc255ae1c89035",
            "8a3902c177004a6c86eba46b93b827d6"
          ]
        },
        "outputId": "709da6dc-10cf-41f7-8d6f-0dd05fb05fec"
      },
      "outputs": [
        {
          "output_type": "stream",
          "name": "stdout",
          "text": [
            "Downloading Quickdraw Dataset...\n"
          ]
        },
        {
          "output_type": "display_data",
          "data": {
            "text/plain": [
              "  0%|          | 0/10 [00:00<?, ?it/s]"
            ],
            "application/vnd.jupyter.widget-view+json": {
              "version_major": 2,
              "version_minor": 0,
              "model_id": "b48984a113a84895bbb31625c69e0c15"
            }
          },
          "metadata": {}
        },
        {
          "output_type": "stream",
          "name": "stdout",
          "text": [
            "Loading 20000 examples for each class from the Quickdraw Dataset...\n"
          ]
        }
      ],
      "source": [
        "# TODO: Load QuickDrawDataset\n",
        "data_dir = './data'\n",
        "labels = list(const.DOODLE_TO_EMOJI_MAP.keys())\n",
        "ds = QuickDrawDataset(data_dir, labels)\n",
        "\n",
        "# TODO: Partition ds into train_ds, val_ds, test_ds\n",
        "train_ds, val_ds, test_ds = ds.split(pct=0.1)"
      ]
    },
    {
      "cell_type": "code",
      "execution_count": null,
      "metadata": {
        "id": "K0QNqvJj5HSt",
        "colab": {
          "base_uri": "https://localhost:8080/",
          "height": 64
        },
        "outputId": "a293269e-6f93-477f-f96b-70206786bbd1",
        "cellView": "form"
      },
      "outputs": [
        {
          "output_type": "execute_result",
          "data": {
            "text/plain": [
              "<IPython.core.display.Markdown object>"
            ],
            "text/markdown": "## Correct! 🎉"
          },
          "metadata": {},
          "execution_count": 12
        }
      ],
      "source": [
        "#@title Run this cell to check your answer!\n",
        "\n",
        "cond1 = train_ds[1000][0].shape == (1, 28, 28)\n",
        "cond2 = len(train_ds) == 160000\n",
        "cond3 = int(train_ds[0][0].sum().numpy()) == 109\n",
        "cond4 = int(val_ds[0][0].sum().numpy()) == 131\n",
        "cond5 = int(test_ds[0][0].sum().numpy()) == 100\n",
        "\n",
        "check_answer(cond1 and cond2 and cond3 and cond4 and cond5)"
      ]
    },
    {
      "cell_type": "markdown",
      "metadata": {
        "id": "aG2kZxuap7X1"
      },
      "source": [
        "**TODO:** Now, using the training dataset, visualize the first 10 doodles and print the class name. A `Dataset` object can be accessed in two days:\n",
        "\n",
        "- Access a specific index or range of indices, just as you would with a list.\n",
        "- A dataset is `Iterable`, meaning you can use it in a loop:\n",
        "\n",
        "        for data, label in train_ds:\n",
        "          ...\n",
        "\n",
        "\n"
      ]
    },
    {
      "cell_type": "code",
      "execution_count": null,
      "metadata": {
        "id": "vnh8jxfQO5iu",
        "colab": {
          "base_uri": "https://localhost:8080/",
          "height": 1000
        },
        "outputId": "e1619e8b-3ae0-4214-d08d-58d967bc5bea"
      },
      "outputs": [
        {
          "output_type": "display_data",
          "data": {
            "text/plain": [
              "<Figure size 432x288 with 1 Axes>"
            ],
            "image/png": "[encoded data removed]"
          },
          "metadata": {
            "needs_background": "light"
          }
        },
        {
          "output_type": "display_data",
          "data": {
            "text/plain": [
              "<Figure size 432x288 with 1 Axes>"
            ],
            "image/png": "[encoded data removed]"
          },
          "metadata": {
            "needs_background": "light"
          }
        },
        {
          "output_type": "display_data",
          "data": {
            "text/plain": [
              "<Figure size 432x288 with 1 Axes>"
            ],
            "image/png": "[encoded data removed]"
          },
          "metadata": {
            "needs_background": "light"
          }
        },
        {
          "output_type": "display_data",
          "data": {
            "text/plain": [
              "<Figure size 432x288 with 1 Axes>"
            ],
            "image/png": "[encoded data removed]"
          },
          "metadata": {
            "needs_background": "light"
          }
        },
        {
          "output_type": "display_data",
          "data": {
            "text/plain": [
              "<Figure size 432x288 with 1 Axes>"
            ],
            "image/png": "[encoded data removed]"
          },
          "metadata": {
            "needs_background": "light"
          }
        },
        {
          "output_type": "display_data",
          "data": {
            "text/plain": [
              "<Figure size 432x288 with 1 Axes>"
            ],
            "image/png": "[encoded data removed]"
          },
          "metadata": {
            "needs_background": "light"
          }
        },
        {
          "output_type": "display_data",
          "data": {
            "text/plain": [
              "<Figure size 432x288 with 1 Axes>"
            ],
            "image/png": "[encoded data removed]"
          },
          "metadata": {
            "needs_background": "light"
          }
        },
        {
          "output_type": "display_data",
          "data": {
            "text/plain": [
              "<Figure size 432x288 with 1 Axes>"
            ],
            "image/png": "[encoded data removed]"
          },
          "metadata": {
            "needs_background": "light"
          }
        },
        {
          "output_type": "display_data",
          "data": {
            "text/plain": [
              "<Figure size 432x288 with 1 Axes>"
            ],
            "image/png": "[encoded data removed]"
          },
          "metadata": {
            "needs_background": "light"
          }
        },
        {
          "output_type": "display_data",
          "data": {
            "text/plain": [
              "<Figure size 432x288 with 1 Axes>"
            ],
            "image/png": "[encoded data removed]"
          },
          "metadata": {
            "needs_background": "light"
          }
        }
      ],
      "source": [
        "# TODO: Iterate through train_ds, displaying the image using plt.imshow() and printing the class\n",
        "# No answer checking here, you'll know you've done it right when you see 10 images with labels!\n",
        "\n",
        "for i in range(10):\n",
        "  img, label = train_ds[i]\n",
        "  plt.title(class_names[label])\n",
        "  plt.axis(\"off\")\n",
        "  plt.imshow(img.squeeze(), cmap=\"gray\")\n",
        "  plt.show()"
      ]
    },
    {
      "cell_type": "markdown",
      "metadata": {
        "id": "ZUK7QZ7iH3ZR"
      },
      "source": [
        "## The `DataLoader` class\n",
        "Next, we will create a `DataLoader` object. Since deep learning models are typically trained in batches of data points, the `DataLoader` acts as a wrapper over the `Dataset` object and automatically aggregates data points into batches. It also can perform other useful functions like randomly shuffling the data points.\n",
        "\n",
        "Take a second and read over the PyTorch documentation for DataLoaders to get a sense of the API:\n",
        "\n",
        "https://pytorch.org/tutorials/beginner/basics/data_tutorial.html\n",
        "\n",
        "\n",
        "**TODO**: Now, using the `QuickDrawDataset` class we mentioned above, create three `DataLoader` objects: one for training (call it `train_dataloader`), one for validation (`val_dataloader`), and one for testing (`test_dataloader`). (We've included the code for `train_dataloader`). Set the batch size as a variable `batch_size` to 64 and `shuffle=True`."
      ]
    },
    {
      "cell_type": "code",
      "execution_count": null,
      "metadata": {
        "id": "3_CzfNX_PUEu"
      },
      "outputs": [],
      "source": [
        "# TODO: Create three DataLoader objects\n",
        "from torch.utils.data import DataLoader\n",
        "\n",
        "batch_size = 64\n",
        "train_dataloader = DataLoader(train_ds, batch_size=batch_size, shuffle=True)\n",
        "val_dataloader = DataLoader(val_ds, batch_size=batch_size, shuffle=True)\n",
        "test_dataloader = DataLoader(test_ds, batch_size=batch_size, shuffle=True)"
      ]
    },
    {
      "cell_type": "code",
      "execution_count": null,
      "metadata": {
        "id": "OP9Zr10T60SY",
        "colab": {
          "base_uri": "https://localhost:8080/",
          "height": 64
        },
        "outputId": "1640a561-1f6e-4a64-ec82-1372e683d827"
      },
      "outputs": [
        {
          "output_type": "execute_result",
          "data": {
            "text/plain": [
              "<IPython.core.display.Markdown object>"
            ],
            "text/markdown": "## Correct! 🎉"
          },
          "metadata": {},
          "execution_count": 15
        }
      ],
      "source": [
        "#@title Run this cell to check your answer!\n",
        "torch.manual_seed(0)\n",
        "cond1 = batch_size == 64\n",
        "d = next(iter(train_dataloader))\n",
        "cond2 = d[0].shape == (64, 1, 28, 28)\n",
        "cond3 = len(train_dataloader) == 2500\n",
        "cond4 = len(val_dataloader) == 313\n",
        "cond5 = len(test_dataloader) == 313\n",
        "check_answer(cond1 and cond2 and cond3 and cond4 and cond5)"
      ]
    },
    {
      "cell_type": "markdown",
      "metadata": {
        "id": "5Imj4U4LrCjA"
      },
      "source": [
        "## Visualizing emojis\n",
        "\n",
        "Currently, the `Dataset` labels are simply indices corresponding to the class names. We want a way to print and represent emojis in code (specifically, Unicode). Thankfully, we can use the `emoji` package!\n",
        "\n",
        "The function `emoji.emojize()` takes in an emoji code and converts it to the unicode representation.\n",
        "\n",
        "Feel free to search up an emoji here (https://www.webfx.com/tools/emoji-cheat-sheet/) and see what it looks like printed out in the line commented out below.\n",
        "\n",
        "**TODO**: Using the `emoji` package, print all 10 emoji classes listed above.\n",
        "\n",
        "Hint: Use `list(const.DOODLE_TO_EMOJI_MAP.values())` to get the emoji class names.\n",
        "\n",
        "To print the smile emoji, use `emoji.emojize(f':smile:', use_aliases=True)`."
      ]
    },
    {
      "cell_type": "code",
      "execution_count": null,
      "metadata": {
        "id": "1AWU6b-o_1Zx",
        "colab": {
          "base_uri": "https://localhost:8080/"
        },
        "outputId": "8be09668-155e-4c47-fa79-0ae2d102b0c6"
      },
      "outputs": [
        {
          "output_type": "stream",
          "name": "stdout",
          "text": [
            "😄\n",
            "🛑\n",
            "⚾\n",
            "🏀\n",
            "🛏️\n",
            "🚲\n",
            "👀\n",
            "🚗\n",
            "🍕\n",
            "⭐\n"
          ]
        }
      ],
      "source": [
        "# TODO: Using a for-loop print each emoji class name followed by the emoji.\n",
        "emoji_names = list(const.DOODLE_TO_EMOJI_MAP.values())\n",
        "for name in emoji_names:\n",
        "  print(emoji.emojize(f':{name}:', use_aliases=True))"
      ]
    },
    {
      "cell_type": "markdown",
      "metadata": {
        "id": "JM3ZSShQXaGR"
      },
      "source": [
        "Cool! Now that we can generate data in batches and can print emojis, let's get to training our model."
      ]
    },
    {
      "cell_type": "markdown",
      "metadata": {
        "id": "eaWRoxxSwrzn"
      },
      "source": [
        "# 2. Training the model\n",
        "We will be using an MLP network like we did last week. However, we're making a few modifications. First, since the input is a 28x28 px image, we are going to *flatten* the image into a 784-length vector (28x28=784). Second, the last layer will have 10 output features, corresponding to the 10 emoji class labels.\n"
      ]
    },
    {
      "cell_type": "markdown",
      "metadata": {
        "id": "tIW_xps7X2BD"
      },
      "source": [
        "## Creating the `MLP` class\n",
        "\n",
        "**TODO**: Create a PyTorch model class (call it `MLP`) with the following specifications:\n",
        "- An input `Flatten` layer\n",
        "- An linear layer with:\n",
        " - 784 input features\n",
        " - 64 output features\n",
        " - Followed by ReLU activation function\n",
        "- A second linear layer with:\n",
        " - 64 input features\n",
        " - 32 output features\n",
        " - Followed by ReLU activation function\n",
        "- An output linear layer with:\n",
        " - 32 input features\n",
        " - 10 output features\n",
        " - No activation function"
      ]
    },
    {
      "cell_type": "code",
      "execution_count": null,
      "metadata": {
        "id": "S-4V4jABAGR2"
      },
      "outputs": [],
      "source": [
        "# TODO: Create MLP, a class for the model described above\n",
        "class MLP(nn.Module):\n",
        "  def __init__(self):\n",
        "    super().__init__()\n",
        "    # TODO: Create layers here\n",
        "    self.flatten = nn.Flatten()\n",
        "    self.fc1 = nn.Linear(784, 64)\n",
        "    self.fc2 = nn.Linear(64, 32)\n",
        "    self.fc3 = nn.Linear(32, 10)\n",
        "    \n",
        "  \n",
        "  def forward(self, x):\n",
        "    # TODO: Pass x through each layer. Hint:  You'll first need to change the dimension of x!\n",
        "    x = x.view(-1, 28*28)\n",
        "    x = torch.relu(self.fc1(x))\n",
        "    x = torch.relu(self.fc2(x))\n",
        "    x = self.fc3(x)\n",
        "    return x"
      ]
    },
    {
      "cell_type": "code",
      "execution_count": null,
      "metadata": {
        "cellView": "form",
        "id": "62sXEYLt8Az4",
        "colab": {
          "base_uri": "https://localhost:8080/",
          "height": 64
        },
        "outputId": "f0a9eb4a-3e62-41de-fdc7-93894ad6ad0a"
      },
      "outputs": [
        {
          "output_type": "execute_result",
          "data": {
            "text/plain": [
              "<IPython.core.display.Markdown object>"
            ],
            "text/markdown": "## Correct! 🎉"
          },
          "metadata": {},
          "execution_count": 18
        }
      ],
      "source": [
        "#@title Run this cell to check your answer!\n",
        "torch.manual_seed(0)\n",
        "model = MLP()\n",
        "sizes = [[64, 784], [64], [32, 64], [32], [10, 32], [10]]\n",
        "cond = True\n",
        "for i, parameter in enumerate(model.parameters()):\n",
        "  if list(parameter.size()) != sizes[i]:\n",
        "    cond = False\n",
        "cond = cond and math.isclose(model(train_ds[0][0]).detach().numpy()[0][0], -0.054749712, abs_tol=1e-8)\n",
        "check_answer(cond)"
      ]
    },
    {
      "cell_type": "markdown",
      "metadata": {
        "id": "Bvq_mZdH03OT"
      },
      "source": [
        "## The training loop\n",
        "\n",
        "The training loop performs 5 steps:\n",
        "\n",
        "1. Generate a data batch:\n",
        "  - Using the `train_dataloader` object, generate an `X` and `targets`.\n",
        "\n",
        "2. Forward pass\n",
        "  - Make a prediction using your `model` and save the output to a variable `outputs`.\n",
        "\n",
        "3. Compute loss\n",
        "  - Use the `loss_fn`  function to compute the loss on `outputs` and `targets`. Store the output as `loss` and print it's value with `loss.item()`.\n",
        "\n",
        "4. Backpropagation\n",
        "  - Using this `loss`, we perform backpropagation -- this step computes a gradient for every weight in `model.parameters()` with respect to `loss`. Note: this step doesn't actually update the weights -- it merely stores the gradients in `model.parameters()`.\n",
        "\n",
        "4. Optimizer step\n",
        "  - Now, update the weights using the gradient descent optimizer. Note that the optimizer takes as input `model.parameters()` so it has access to the gradients.\n",
        "\n",
        "5. Zero the gradients\n",
        "  - This is a clean up step. The gradients stored in step 3 aren't automatically zeroed out, so we need to do this before continuing. If we don't do this step, the gradients are aggregated.\n",
        "\n",
        "And this completes an entire training step!"
      ]
    },
    {
      "cell_type": "markdown",
      "metadata": {
        "id": "MLelaCkhCse_"
      },
      "source": [
        "**TODO**: Implement the training loop described above as a `train` function.\n",
        "\n",
        "Hint: Your `train` function should start like this:\n",
        "\n",
        "`def train(epochs=None, model=None, train_dataloader=None, optimizer=None, loss_fn=None):`\n",
        "\n",
        "For flexibility, pass in the dataloaders, optimizer, and loss functions as parameters.\n",
        "\n",
        "Use `torch.optim.Adam` as the optimizer with a learning rate of `1e-4`.\n",
        "\n",
        "Use `nn.CrossEntropyLoss()` as the loss function."
      ]
    },
    {
      "cell_type": "code",
      "execution_count": null,
      "metadata": {
        "id": "wZFDDQAoAs1q"
      },
      "outputs": [],
      "source": [
        "def train(epochs=10, model=None, train_dataloader=None, val_dataloader=None, optimizer=None, loss_fn=None):\n",
        "  \n",
        "  # TODO: Create loop over epochs\n",
        "  for epoch in range(epochs):\n",
        "    # TODO: Create loop over data batches\n",
        "    for i, data in enumerate(train_dataloader):\n",
        "      # TODO: Get x, y from data batch\n",
        "      x, y = data\n",
        "      # TODO: Get outputs from model\n",
        "      outputs = model(x)\n",
        "      # TODO: Compute loss\n",
        "      loss = loss_fn(outputs, y)\n",
        "      # TODO: Run backpropagation\n",
        "      loss.backward()\n",
        "      # TODO: Update weights\n",
        "      optimizer.step()\n",
        "      # TODO: Reset gradients\n",
        "      optimizer.zero_grad()\n",
        "    # TODO: Print loss at the end of every epoch\n",
        "    print(f'Epoch {epoch} Loss: {loss.item()}')"
      ]
    },
    {
      "cell_type": "markdown",
      "metadata": {
        "id": "1pYzFBsHZqU1"
      },
      "source": [
        "**TODO**: Train your model for 10 epochs, printing the loss every epoch.\n"
      ]
    },
    {
      "cell_type": "code",
      "execution_count": null,
      "metadata": {
        "id": "LZjSFMbdGNJN",
        "colab": {
          "base_uri": "https://localhost:8080/"
        },
        "outputId": "5998060a-46fa-4fc9-9e8f-ddb74a38aca3"
      },
      "outputs": [
        {
          "output_type": "stream",
          "name": "stdout",
          "text": [
            "Epoch 0 Loss: 0.9969456195831299\n",
            "Epoch 1 Loss: 1.1405991315841675\n",
            "Epoch 2 Loss: 0.7190476655960083\n",
            "Epoch 3 Loss: 0.6615115404129028\n",
            "Epoch 4 Loss: 0.7381364107131958\n",
            "Epoch 5 Loss: 0.7709081172943115\n",
            "Epoch 6 Loss: 0.7347870469093323\n",
            "Epoch 7 Loss: 0.42845484614372253\n",
            "Epoch 8 Loss: 0.5569443106651306\n",
            "Epoch 9 Loss: 0.5661107301712036\n"
          ]
        }
      ],
      "source": [
        "# TODO: Train model for 10 epochs\n",
        "model = MLP()\n",
        "\n",
        "# TODO: Define variables that go into train()\n",
        "optimizer = torch.optim.Adam(model.parameters(), lr=1e-4)\n",
        "loss_fn = nn.CrossEntropyLoss()\n",
        "\n",
        "# Pass in those parameters and run train()\n",
        "train(model=model, train_dataloader=train_dataloader, optimizer=optimizer, loss_fn=loss_fn)"
      ]
    },
    {
      "cell_type": "code",
      "execution_count": null,
      "metadata": {
        "id": "tH3y0tNSydGW",
        "colab": {
          "base_uri": "https://localhost:8080/",
          "height": 82
        },
        "outputId": "e2145f31-f30d-4da1-9aa6-37ed78d82dc8"
      },
      "outputs": [
        {
          "output_type": "stream",
          "name": "stdout",
          "text": [
            "Epoch 0 Loss: 0.8343640565872192\n"
          ]
        },
        {
          "output_type": "execute_result",
          "data": {
            "text/plain": [
              "<IPython.core.display.Markdown object>"
            ],
            "text/markdown": "## Correct! 🎉"
          },
          "metadata": {},
          "execution_count": 21
        }
      ],
      "source": [
        "#@title Run this cell to check your answer!\n",
        "#@markdown This could take minute -- we're running diagnostics on your function.\n",
        "#from train import train\n",
        "torch.manual_seed(0)\n",
        "model = MLP()\n",
        "loss_fn = nn.CrossEntropyLoss()\n",
        "optimizer = torch.optim.Adam(model.parameters(), lr=1e-4)\n",
        "#sys.stdout = open(os.devnull, 'w')\n",
        "train(epochs=1, model=model, train_dataloader=train_dataloader, optimizer=optimizer, loss_fn=loss_fn)\n",
        "#sys.stdout = sys.__stdout__\n",
        "cond = math.isclose(model(train_ds[0][0]).detach().numpy()[0][0], -0.239, abs_tol=1e-3)\n",
        "check_answer(cond)\n"
      ]
    },
    {
      "cell_type": "markdown",
      "metadata": {
        "id": "rGFoWJM8mi_B"
      },
      "source": [
        "# 3. Monitoring\n",
        "\n",
        "Instead of printing the loss of our model to the console, let's hook it up to an ML monitoring platform. The one we'll be using is **Weights and Biases**,  a cloud platform that makes it easy to keep track of your model's progress and test metrics.\n",
        "\n",
        "**TODO:** Head over to [wandb.ai](https://wandb.ai) and create an account. We recommend using your Github account if you have one!\n",
        "\n",
        "Execute the following cell to initialize a new run under the specific project name. When a run is initiated, a link to the run dashboard will be returned. Navigate there to check it out!"
      ]
    },
    {
      "cell_type": "code",
      "execution_count": null,
      "metadata": {
        "id": "3zhoWshXqo4v",
        "colab": {
          "base_uri": "https://localhost:8080/",
          "height": 194
        },
        "outputId": "07c81c95-40e1-481d-e284-afd608a69ce6"
      },
      "outputs": [
        {
          "output_type": "stream",
          "name": "stderr",
          "text": [
            "ERROR:wandb.jupyter:Failed to detect the name of this notebook, you can set it manually with the WANDB_NOTEBOOK_NAME environment variable to enable code saving.\n"
          ]
        },
        {
          "output_type": "display_data",
          "data": {
            "text/plain": [
              "<IPython.core.display.Javascript object>"
            ],
            "application/javascript": [
              "\n",
              "        window._wandbApiKey = new Promise((resolve, reject) => {\n",
              "            function loadScript(url) {\n",
              "            return new Promise(function(resolve, reject) {\n",
              "                let newScript = document.createElement(\"script\");\n",
              "                newScript.onerror = reject;\n",
              "                newScript.onload = resolve;\n",
              "                document.body.appendChild(newScript);\n",
              "                newScript.src = url;\n",
              "            });\n",
              "            }\n",
              "            loadScript(\"https://cdn.jsdelivr.net/npm/postmate/build/postmate.min.js\").then(() => {\n",
              "            const iframe = document.createElement('iframe')\n",
              "            iframe.style.cssText = \"width:0;height:0;border:none\"\n",
              "            document.body.appendChild(iframe)\n",
              "            const handshake = new Postmate({\n",
              "                container: iframe,\n",
              "                url: 'https://wandb.ai/authorize'\n",
              "            });\n",
              "            const timeout = setTimeout(() => reject(\"Couldn't auto authenticate\"), 5000)\n",
              "            handshake.then(function(child) {\n",
              "                child.on('authorize', data => {\n",
              "                    clearTimeout(timeout)\n",
              "                    resolve(data)\n",
              "                });\n",
              "            });\n",
              "            })\n",
              "        });\n",
              "    "
            ]
          },
          "metadata": {}
        },
        {
          "output_type": "stream",
          "name": "stderr",
          "text": [
            "\u001b[34m\u001b[1mwandb\u001b[0m: Logging into wandb.ai. (Learn how to deploy a W&B server locally: https://wandb.me/wandb-server)\n",
            "\u001b[34m\u001b[1mwandb\u001b[0m: You can find your API key in your browser here: https://wandb.ai/authorize\n",
            "wandb: Paste an API key from your profile and hit enter, or press ctrl+c to quit: "
          ]
        },
        {
          "name": "stdout",
          "output_type": "stream",
          "text": [
            "··········\n"
          ]
        },
        {
          "output_type": "stream",
          "name": "stderr",
          "text": [
            "\u001b[34m\u001b[1mwandb\u001b[0m: Appending key for api.wandb.ai to your netrc file: /root/.netrc\n"
          ]
        },
        {
          "output_type": "display_data",
          "data": {
            "text/plain": [
              "<IPython.core.display.HTML object>"
            ],
            "text/html": [
              "Tracking run with wandb version 0.13.4"
            ]
          },
          "metadata": {}
        },
        {
          "output_type": "display_data",
          "data": {
            "text/plain": [
              "<IPython.core.display.HTML object>"
            ],
            "text/html": [
              "Run data is saved locally in <code>/content/drive/MyDrive/Colab Notebooks/wandb/run-20221103_172425-35h168va</code>"
            ]
          },
          "metadata": {}
        },
        {
          "output_type": "display_data",
          "data": {
            "text/plain": [
              "<IPython.core.display.HTML object>"
            ],
            "text/html": [
              "Syncing run <strong><a href=\"https://wandb.ai/ashish08/deep-learning-essentials/runs/35h168va\" target=\"_blank\">wise-breeze-2</a></strong> to <a href=\"https://wandb.ai/ashish08/deep-learning-essentials\" target=\"_blank\">Weights & Biases</a> (<a href=\"https://wandb.me/run\" target=\"_blank\">docs</a>)<br/>"
            ]
          },
          "metadata": {}
        },
        {
          "output_type": "execute_result",
          "data": {
            "text/html": [
              "<button onClick=\"this.nextSibling.style.display='block';this.style.display='none';\">Display W&B run</button><iframe src=\"https://wandb.ai/ashish08/deep-learning-essentials/runs/35h168va?jupyter=true\" style=\"border:none;width:100%;height:420px;display:none;\"></iframe>"
            ],
            "text/plain": [
              "<wandb.sdk.wandb_run.Run at 0x7f43f9acb310>"
            ]
          },
          "metadata": {},
          "execution_count": 22
        }
      ],
      "source": [
        "import wandb\n",
        "wandb.init(project=\"deep-learning-essentials\")"
      ]
    },
    {
      "cell_type": "markdown",
      "metadata": {
        "id": "GUrq_7ncqn4L"
      },
      "source": [
        "W&B can be directly called anywhere in your training loop.\n",
        "The `log` function is flexible; it takes a dictionary and can log loss values, images, and even tables.\n",
        "\n",
        "```wandb.log({\"loss\": loss})```\n",
        "\n",
        "W&B also keeps track of hyperparameters associated with the run. This can be done at initialization:\n",
        "\n",
        "```wandb.init(config={\"batch_size\": 32})```\n",
        "\n",
        "Or, you can also directly set each hyperparameter in two ways:\n",
        "\n",
        "```wandb.config.lr = 0.1```\n",
        "\n",
        "```wandb.config.update({\"lr\": 0.1})```\n",
        "\n",
        "We highly recommend that you check out the complete documentation [for the W&B PyTorch API](https://docs.wandb.ai/guides/track).\n",
        "\n",
        "**TODO**: Add WandB logging into your training loop, logging the current loss every 100 steps (steps are every time the neural network weights are updated):"
      ]
    },
    {
      "cell_type": "code",
      "execution_count": null,
      "metadata": {
        "id": "DUMwggSZLdLY"
      },
      "outputs": [],
      "source": [
        "def train(epochs=10, model=None, train_dataloader=None, val_dataloader=None, optimizer=None, loss_fn=None, use_wandb=False):\n",
        "\n",
        "  # TODO: Run the wandb.init function if use_wandb is set True\n",
        "  if use_wandb:\n",
        "    print(\"Using wandb\")\n",
        "    wandb.init(config = {\"batch_size\":64, \"lr\": 1e-4})\n",
        "  step = 0\n",
        "\n",
        "  ########## Copy&paste your code from the previous train function ##########  \n",
        "  ##########     You can delete the print statement from earlier.  ########## \n",
        "  for epoch in range(epochs):\n",
        "    # TODO: Create loop over data batches\n",
        "    for i, data in enumerate(train_dataloader):\n",
        "      # TODO: Get x, y from data batch\n",
        "      x, y = data\n",
        "      # TODO: Get outputs from model\n",
        "      outputs = model(x)\n",
        "      # TODO: Compute loss\n",
        "      loss = loss_fn(outputs, y)\n",
        "      # TODO: Run backpropagation\n",
        "      loss.backward()\n",
        "      # TODO: Update weights\n",
        "      optimizer.step()\n",
        "      # TODO: Reset gradients\n",
        "      optimizer.zero_grad()\n",
        "      step +=1\n",
        "      # TODO: Use wandb.log() to store the loss every 100 steps.\n",
        "      if step % 100 == 0:\n",
        "        wandb.log({\"loss\":loss})"
      ]
    },
    {
      "cell_type": "code",
      "execution_count": null,
      "metadata": {
        "id": "3Fa7RLzs2baq",
        "colab": {
          "base_uri": "https://localhost:8080/",
          "height": 255,
          "referenced_widgets": [
            "76d156c3489247ea8d814c1069675f1a",
            "a9daaa18714c45709f62b229b25e886b",
            "048b5f6f2ec44407b554d099dc0a7d3c",
            "2e46c4128fba4a14850b271608e15a5a",
            "d22c268bc92e4897b92df549e390ea8d",
            "eb1a3ad0466d42d0852b9bb86d80ca63",
            "842459c320794e1f98ee2a09913d7b3b",
            "884efa0a59074210b3574868ab9082ae"
          ]
        },
        "outputId": "df67e935-693f-4999-fb0f-b7319840377a"
      },
      "outputs": [
        {
          "output_type": "stream",
          "name": "stdout",
          "text": [
            "Using wandb\n"
          ]
        },
        {
          "output_type": "display_data",
          "data": {
            "text/plain": [
              "<IPython.core.display.HTML object>"
            ],
            "text/html": [
              "Finishing last run (ID:35h168va) before initializing another..."
            ]
          },
          "metadata": {}
        },
        {
          "output_type": "display_data",
          "data": {
            "text/plain": [
              "<IPython.core.display.HTML object>"
            ],
            "text/html": [
              "Waiting for W&B process to finish... <strong style=\"color:green\">(success).</strong>"
            ]
          },
          "metadata": {}
        },
        {
          "output_type": "display_data",
          "data": {
            "text/plain": [
              "VBox(children=(Label(value='0.000 MB of 0.000 MB uploaded (0.000 MB deduped)\\r'), FloatProgress(value=1.0, max…"
            ],
            "application/vnd.jupyter.widget-view+json": {
              "version_major": 2,
              "version_minor": 0,
              "model_id": "76d156c3489247ea8d814c1069675f1a"
            }
          },
          "metadata": {}
        },
        {
          "output_type": "display_data",
          "data": {
            "text/plain": [
              "<IPython.core.display.HTML object>"
            ],
            "text/html": [
              "Synced <strong style=\"color:#cdcd00\">wise-breeze-2</strong>: <a href=\"https://wandb.ai/ashish08/deep-learning-essentials/runs/35h168va\" target=\"_blank\">https://wandb.ai/ashish08/deep-learning-essentials/runs/35h168va</a><br/>Synced 5 W&B file(s), 0 media file(s), 0 artifact file(s) and 0 other file(s)"
            ]
          },
          "metadata": {}
        },
        {
          "output_type": "display_data",
          "data": {
            "text/plain": [
              "<IPython.core.display.HTML object>"
            ],
            "text/html": [
              "Find logs at: <code>./wandb/run-20221103_172425-35h168va/logs</code>"
            ]
          },
          "metadata": {}
        },
        {
          "output_type": "display_data",
          "data": {
            "text/plain": [
              "<IPython.core.display.HTML object>"
            ],
            "text/html": [
              "Successfully finished last run (ID:35h168va). Initializing new run:<br/>"
            ]
          },
          "metadata": {}
        },
        {
          "output_type": "display_data",
          "data": {
            "text/plain": [
              "<IPython.core.display.HTML object>"
            ],
            "text/html": [
              "Tracking run with wandb version 0.13.4"
            ]
          },
          "metadata": {}
        },
        {
          "output_type": "display_data",
          "data": {
            "text/plain": [
              "<IPython.core.display.HTML object>"
            ],
            "text/html": [
              "Run data is saved locally in <code>/content/drive/MyDrive/Colab Notebooks/wandb/run-20221103_172428-3r1cpgh7</code>"
            ]
          },
          "metadata": {}
        },
        {
          "output_type": "display_data",
          "data": {
            "text/plain": [
              "<IPython.core.display.HTML object>"
            ],
            "text/html": [
              "Syncing run <strong><a href=\"https://wandb.ai/ashish08/uncategorized/runs/3r1cpgh7\" target=\"_blank\">bumbling-bush-2</a></strong> to <a href=\"https://wandb.ai/ashish08/uncategorized\" target=\"_blank\">Weights & Biases</a> (<a href=\"https://wandb.me/run\" target=\"_blank\">docs</a>)<br/>"
            ]
          },
          "metadata": {}
        }
      ],
      "source": [
        "# TODO: Using the same code as before, train your model for 10 epochs, only this time with use_wandb=True!\n",
        "\n",
        "model = MLP()\n",
        "optimizer = torch.optim.Adam(model.parameters(), lr=1e-4)\n",
        "loss_fn = nn.CrossEntropyLoss()\n",
        "\n",
        "# Pass in those parameters and run train()\n",
        "train(model=model, train_dataloader=train_dataloader, optimizer=optimizer, loss_fn=loss_fn, use_wandb=True)"
      ]
    },
    {
      "cell_type": "markdown",
      "metadata": {
        "id": "hcO24R2f3OZ5"
      },
      "source": [
        "## Evaluation (validation and testing)\n",
        "\n",
        "Let's finish out the ML development pipeline by adding code for evaluating the trained model on the test dataset.\n",
        "\n",
        "Whenever we train models that we evaluate across multiple hyerparameter values, we need to use a held-out *validation* data set. This data set is formally considered a part of the training set, but it is only used to evaluate the model's performance as it is training. Typically, a model will be evaluated on the validation data set at a fixed interval during training, and then the model state that produced the highest validation performance across all hyperparameter values is chosen. Only then do we freeze this model and evaluate it on the test set.\n",
        "\n",
        "So first, let's incorporate the validation test set into the training pipeline.\n",
        "\n",
        "**TODO**: Create a function, `evaluate()`, which takes as input the model and a dataloader. This function should evaluate the model using a dataloader and return the [accuracy score](https://scikit-learn.org/stable/modules/generated/sklearn.metrics.accuracy_score.html) on the dataset."
      ]
    },
    {
      "cell_type": "code",
      "execution_count": null,
      "metadata": {
        "id": "ITvV1u0_aKQg"
      },
      "outputs": [],
      "source": [
        "def evaluate(model, dataloader, metric=accuracy_score):\n",
        "\n",
        "  # Initialize lists to store model outputs and the true labels\n",
        "  outputs = []\n",
        "  targets = []\n",
        "\n",
        "  # TODO: Iterate through dataloader\n",
        "  for i, data in enumerate(dataloader):\n",
        "    x, y = data\n",
        "    # TODO: Get model outputs and store in outputs\n",
        "    y_hat = model(x).detach().numpy()\n",
        "    outputs.extend(y_hat)\n",
        "    # TODO: Store the targets (labels) in targets\n",
        "    targets.extend(y.detach().numpy())\n",
        "    # Note: You need to convert outputs and labels into numpy arrays!\n",
        "    # Note 2: You'll also need to reshape arrays for this to work!\n",
        "\n",
        "  # TODO: Compute metric_result given outputs and labels\n",
        "  # TODO: If no metric is specified, default to using accuracy_score()\n",
        "  # TODO: Return metric result\n",
        "  metric_result = metric(targets, np.argmax(outputs, axis=1))\n",
        "  return metric_result"
      ]
    },
    {
      "cell_type": "code",
      "execution_count": null,
      "metadata": {
        "id": "LurvFBz-qwLM"
      },
      "outputs": [],
      "source": [
        "def train(epochs=10, model=None, train_dataloader=None, val_dataloader=None, optimizer=None, loss_fn=None, use_wandb=False):\n",
        "\n",
        "  ########## Copy&paste your code from the most recent train function ##########  \n",
        "  if use_wandb:\n",
        "    print(\"Using wandb\")\n",
        "    wandb.init(config = {\"batch_size\":64, \"lr\": 1e-4})\n",
        "  step = 0\n",
        "\n",
        "  for epoch in range(epochs):\n",
        "    # TODO: Create loop over data batches\n",
        "    for i, data in enumerate(train_dataloader):\n",
        "      # TODO: Get x, y from data batch\n",
        "      x, y = data\n",
        "      # TODO: Get outputs from model\n",
        "      outputs = model(x)\n",
        "      # TODO: Compute loss\n",
        "      loss = loss_fn(outputs, y)\n",
        "      # TODO: Run backpropagation\n",
        "      loss.backward()\n",
        "      # TODO: Update weights\n",
        "      optimizer.step()\n",
        "      # TODO: Reset gradients\n",
        "      optimizer.zero_grad()\n",
        "      step +=1\n",
        "      # TODO: Use wandb.log() to store the loss every 100 steps.\n",
        "      if step % 100 == 0:\n",
        "        wandb.log({\"loss\":loss})\n",
        "  ########## ^^^^^^^^^^^^^^^^^^^^^^^^^^^^^^^^^^^^^^^^^^^^^^^^^^^^^ ########## \n",
        "    # TODO: Compute and log the evaluation results as \"val_acc\"\n",
        "    # Note: Make sure to check that val_dataloader exists and use_wandb is True before doing so.\n",
        "    if val_dataloader and use_wandb:\n",
        "      val_acc = evaluate(model, val_dataloader, accuracy_score)\n",
        "      print(f\"Finished epoch {epoch}, val_acc: {val_acc}\")\n",
        "      wandb.log({\"val_accuracy\": val_acc})"
      ]
    },
    {
      "cell_type": "code",
      "execution_count": null,
      "metadata": {
        "id": "TGG9AVIRIKka",
        "colab": {
          "base_uri": "https://localhost:8080/",
          "height": 64
        },
        "outputId": "8331f3de-c38b-469a-8c73-ed6e7a161a02"
      },
      "outputs": [
        {
          "output_type": "execute_result",
          "data": {
            "text/plain": [
              "<IPython.core.display.Markdown object>"
            ],
            "text/markdown": "## Correct! 🎉"
          },
          "metadata": {},
          "execution_count": 30
        }
      ],
      "source": [
        "#@title Run this cell to check your answer!\n",
        "torch.manual_seed(0)\n",
        "mlp = MLP()\n",
        "score = evaluate(model=mlp, dataloader=test_dataloader)\n",
        "check_answer(math.isclose(score, 0.10175, abs_tol=1e-7))"
      ]
    },
    {
      "cell_type": "markdown",
      "metadata": {
        "id": "6EM06Gk3a0lw"
      },
      "source": [
        "**TODO**: Then, call `evaluate` on the validation dataset at the end of every epoch in your `train` function. Log the validation accuracy to W&B. After the training loop finishes, call `evaluate` on the test dataset and log the test accuracy to W&B. Finally, save the model using the following line:\n",
        "\n",
        "`torch.save(model, 'mlp.pt')`"
      ]
    },
    {
      "cell_type": "code",
      "execution_count": null,
      "metadata": {
        "id": "rSLTl2O44C5x",
        "colab": {
          "base_uri": "https://localhost:8080/",
          "height": 547,
          "referenced_widgets": [
            "a2f66ec755f84ae3a7a89a91c63a2423",
            "c0ecc87036d3448e83d83bdec450c63f",
            "7682f68ad1a846668f21fe5d487d097e",
            "99d9e794a0d9445c833108bb260ab1a4",
            "773c52973cab47299c24cb76d6f93bd1",
            "554f48b044a64e10b00e0d7fcde772d8",
            "215a0e050c1641e194438f0e328a85d2",
            "02a5e68a76b448f5838b89686cfc9e42"
          ]
        },
        "outputId": "758444c4-dc46-44d5-aec7-fbf7d7a7ecf7"
      },
      "outputs": [
        {
          "output_type": "stream",
          "name": "stdout",
          "text": [
            "Using wandb\n"
          ]
        },
        {
          "output_type": "display_data",
          "data": {
            "text/plain": [
              "<IPython.core.display.HTML object>"
            ],
            "text/html": [
              "Finishing last run (ID:3r1cpgh7) before initializing another..."
            ]
          },
          "metadata": {}
        },
        {
          "output_type": "display_data",
          "data": {
            "text/plain": [
              "<IPython.core.display.HTML object>"
            ],
            "text/html": [
              "Waiting for W&B process to finish... <strong style=\"color:green\">(success).</strong>"
            ]
          },
          "metadata": {}
        },
        {
          "output_type": "display_data",
          "data": {
            "text/plain": [
              "VBox(children=(Label(value='0.000 MB of 0.000 MB uploaded (0.000 MB deduped)\\r'), FloatProgress(value=1.0, max…"
            ],
            "application/vnd.jupyter.widget-view+json": {
              "version_major": 2,
              "version_minor": 0,
              "model_id": "a2f66ec755f84ae3a7a89a91c63a2423"
            }
          },
          "metadata": {}
        },
        {
          "output_type": "display_data",
          "data": {
            "text/plain": [
              "<IPython.core.display.HTML object>"
            ],
            "text/html": [
              "<style>\n",
              "    table.wandb td:nth-child(1) { padding: 0 10px; text-align: left ; width: auto;} td:nth-child(2) {text-align: left ; width: 100%}\n",
              "    .wandb-row { display: flex; flex-direction: row; flex-wrap: wrap; justify-content: flex-start; width: 100% }\n",
              "    .wandb-col { display: flex; flex-direction: column; flex-basis: 100%; flex: 1; padding: 10px; }\n",
              "    </style>\n",
              "<div class=\"wandb-row\"><div class=\"wandb-col\"><h3>Run history:</h3><br/><table class=\"wandb\"><tr><td>loss</td><td>█▄▄▄▃▃▄▃▂▄▃▂▃▃▂▄▃▃▃▁▁▂▃▃▂▁▁▂▃▂▂▂▂▂▂▁▂▁▁▁</td></tr></table><br/></div><div class=\"wandb-col\"><h3>Run summary:</h3><br/><table class=\"wandb\"><tr><td>loss</td><td>0.44251</td></tr></table><br/></div></div>"
            ]
          },
          "metadata": {}
        },
        {
          "output_type": "display_data",
          "data": {
            "text/plain": [
              "<IPython.core.display.HTML object>"
            ],
            "text/html": [
              "Synced <strong style=\"color:#cdcd00\">bumbling-bush-2</strong>: <a href=\"https://wandb.ai/ashish08/uncategorized/runs/3r1cpgh7\" target=\"_blank\">https://wandb.ai/ashish08/uncategorized/runs/3r1cpgh7</a><br/>Synced 5 W&B file(s), 0 media file(s), 0 artifact file(s) and 0 other file(s)"
            ]
          },
          "metadata": {}
        },
        {
          "output_type": "display_data",
          "data": {
            "text/plain": [
              "<IPython.core.display.HTML object>"
            ],
            "text/html": [
              "Find logs at: <code>./wandb/run-20221103_172428-3r1cpgh7/logs</code>"
            ]
          },
          "metadata": {}
        },
        {
          "output_type": "display_data",
          "data": {
            "text/plain": [
              "<IPython.core.display.HTML object>"
            ],
            "text/html": [
              "Successfully finished last run (ID:3r1cpgh7). Initializing new run:<br/>"
            ]
          },
          "metadata": {}
        },
        {
          "output_type": "display_data",
          "data": {
            "text/plain": [
              "<IPython.core.display.HTML object>"
            ],
            "text/html": [
              "Tracking run with wandb version 0.13.4"
            ]
          },
          "metadata": {}
        },
        {
          "output_type": "display_data",
          "data": {
            "text/plain": [
              "<IPython.core.display.HTML object>"
            ],
            "text/html": [
              "Run data is saved locally in <code>/content/drive/MyDrive/Colab Notebooks/wandb/run-20221103_172750-1cdtqm8t</code>"
            ]
          },
          "metadata": {}
        },
        {
          "output_type": "display_data",
          "data": {
            "text/plain": [
              "<IPython.core.display.HTML object>"
            ],
            "text/html": [
              "Syncing run <strong><a href=\"https://wandb.ai/ashish08/uncategorized/runs/1cdtqm8t\" target=\"_blank\">swept-glade-3</a></strong> to <a href=\"https://wandb.ai/ashish08/uncategorized\" target=\"_blank\">Weights & Biases</a> (<a href=\"https://wandb.me/run\" target=\"_blank\">docs</a>)<br/>"
            ]
          },
          "metadata": {}
        },
        {
          "output_type": "stream",
          "name": "stdout",
          "text": [
            "Finished eopch 0, val_acc: 0.69115\n",
            "Finished eopch 1, val_acc: 0.7151\n",
            "Finished eopch 2, val_acc: 0.7385\n",
            "Finished eopch 3, val_acc: 0.7523\n",
            "Finished eopch 4, val_acc: 0.7663\n",
            "Finished eopch 5, val_acc: 0.7732\n",
            "Finished eopch 6, val_acc: 0.78195\n",
            "Finished eopch 7, val_acc: 0.78805\n",
            "Finished eopch 8, val_acc: 0.79375\n",
            "Finished eopch 9, val_acc: 0.79885\n"
          ]
        }
      ],
      "source": [
        "# TODO: Copy&paste same code to train your model for 10 epochs, with use_wandb=True\n",
        "\n",
        "model = MLP()\n",
        "optimizer = torch.optim.Adam(model.parameters(), lr=1e-4)\n",
        "loss_fn = nn.CrossEntropyLoss()\n",
        "\n",
        "# Pass in those parameters and run train()\n",
        "train(model=model, train_dataloader=train_dataloader, val_dataloader=val_dataloader, optimizer=optimizer, loss_fn=loss_fn, use_wandb=True)\n",
        "\n",
        "# TODO: Use evaluate() to compute the accuracy on the test set.\n",
        "test_acc = evaluate(model=model, dataloader=test_dataloader)\n",
        "\n",
        "# TODO: Use wandb.log(), save the test accuracy as \"test_acc\"\n",
        "wandb.log({\"test_acc\": test_acc})\n",
        "\n",
        "# Save the model as 'mlp.pt'\n",
        "torch.save(model, 'mlp.pt')"
      ]
    },
    {
      "cell_type": "markdown",
      "metadata": {
        "id": "h5zvnqT74GbR"
      },
      "source": [
        "Great job! We've now finished the full neural network training and evaluation pipeline. So far, we've only used the default settings for the loss function, metric, and optimizer. You can try to play around with variations of these to improve your model!"
      ]
    },
    {
      "cell_type": "markdown",
      "metadata": {
        "id": "JipiAzGcmbWO"
      },
      "source": [
        "# 4. Optimizers\n",
        "\n",
        "Optimizers are algorithms that perform the actual updating of the weights. In our example above, we used Adam, a variant of Stochastic Gradient Descent. SGD performs a simple linear scaling on the gradient to update each weight.\n",
        "\n",
        "**TODO**: Using any resources you'd like, answer the following questions:"
      ]
    },
    {
      "cell_type": "code",
      "execution_count": null,
      "metadata": {
        "cellView": "form",
        "id": "KQMyZxtcKFD7",
        "colab": {
          "base_uri": "https://localhost:8080/",
          "height": 197
        },
        "outputId": "3f964610-b1d9-4efa-cece-e8895b02e425"
      },
      "outputs": [
        {
          "output_type": "display_data",
          "data": {
            "text/plain": [
              "<IPython.core.display.Markdown object>"
            ],
            "text/markdown": "\n  ### ***Answer 1 is correct!*** \n  "
          },
          "metadata": {}
        },
        {
          "output_type": "display_data",
          "data": {
            "text/plain": [
              "<IPython.core.display.Markdown object>"
            ],
            "text/markdown": "\n  ### ***Answer 2 is correct!*** \n  SGD does not use momentum in its update calculations. Adam, a popular momentum-based optimizer, uses first-order gradients to compute update values.\n  "
          },
          "metadata": {}
        },
        {
          "output_type": "display_data",
          "data": {
            "text/plain": [
              "<IPython.core.display.Markdown object>"
            ],
            "text/markdown": "\n  ### ***Answer 3 is correct!*** \n  Gradient descent algorithms are not guaranteed to find global minima (only local minima!). In fact, with complex neural networks, it is unlikely -- rather, a good local approximation is found instead.\n  "
          },
          "metadata": {}
        }
      ],
      "source": [
        "from IPython.display import display, Markdown\n",
        "#@title Concept check #3: { vertical-output: true, form-width: \"500px\" }\n",
        "#@markdown \n",
        "#@markdown ####  Which of the following statements are true?\n",
        "\n",
        "#@markdown Momentum-based optimizers determines the weight update value as a linear combination of the gradient and the previous update.\n",
        "Answer1 = True #@param {type:\"boolean\"}\n",
        "\n",
        "#@markdown Stochastic gradient descent uses first-order momentum.\n",
        "Answer2 = False #@param {type:\"boolean\"}\n",
        "\n",
        "#@markdown All gradient descent algorithms asymptotically approach the global minimum of the loss function.\n",
        "Answer3 = False #@param {type:\"boolean\"}\n",
        "\n",
        "#@markdown (Run cell to submit.) \n",
        "\n",
        "if Answer1:\n",
        "  display(Markdown('''\n",
        "  ### ***Answer 1 is correct!*** \n",
        "  '''))\n",
        "else:\n",
        "  display(Markdown('### Answer 1 is incorrect, try again!'))\n",
        "\n",
        "if not Answer2:\n",
        "  display(Markdown('''\n",
        "  ### ***Answer 2 is correct!*** \n",
        "  SGD does not use momentum in its update calculations. Adam, a popular momentum-based optimizer, uses first-order gradients to compute update values.\n",
        "  '''))\n",
        "else:\n",
        "  display(Markdown('### Answer 2 is incorrect, try again!'))\n",
        "\n",
        "if not Answer3:\n",
        "  display(Markdown('''\n",
        "  ### ***Answer 3 is correct!*** \n",
        "  Gradient descent algorithms are not guaranteed to find global minima (only local minima!). In fact, with complex neural networks, it is unlikely -- rather, a good local approximation is found instead.\n",
        "  '''))\n",
        "else:\n",
        "  display(Markdown('### Answer 2 is incorrect, try again!'))"
      ]
    },
    {
      "cell_type": "markdown",
      "metadata": {
        "id": "7IciQPuGDlqe"
      },
      "source": [
        "# 5. Model improvements\n",
        "\n",
        "The last part this week will cover techniques for improving model performance. Though there are numerous tricks and tips that you can try to improve your model:\n",
        "\n",
        "Model design:\n",
        "- Increasing number of layers\n",
        "- Increasing number of nodes per layer\n",
        "\n",
        "Regularization:\n",
        "- [Dropout](https://pytorch.org/docs/stable/generated/torch.nn.Dropout.html) is a layer that you can add to your model. The layer doesn't contain any weights -- in fact, it's only function is to randomly zero-out a fraction of the weights coming from the previous layer.\n",
        "- Weight decay (L2) adds a penalty term proportional to the size of the weights in the model. The idea here is to ensure that no subset of weights grows too large, which can be a cause of overfitting. In PyTorch, this is done through the `weight_decay` parameter in the optimizer object. For instance, with the Adam optimizer:\n",
        "\n",
        "    `torch.optim.Adam(model.parameters(), lr=1e-5, weight_decay=1e-4)`\n",
        "\n",
        "And many others! We encourage you to try out some of the ideas above, or some that you might have discovered yourself.\n",
        "\n",
        "**TODO**: This last TODO is open-ended: using what we've covered so far, modify the MLP architecture and/or training hyperparameters to achieve a test accuracy of at least ***0.80***. Kudos points if you get higher than this!\n",
        "\n"
      ]
    },
    {
      "cell_type": "code",
      "execution_count": null,
      "metadata": {
        "id": "cpy533pd0A0v"
      },
      "outputs": [],
      "source": [
        "# TODO: Anything and everything you'd like :)"
      ]
    },
    {
      "cell_type": "markdown",
      "metadata": {
        "id": "TtwAWPP1PD-H"
      },
      "source": [
        "#6. Putting it all together\n",
        "\n",
        "Congratulations on making it all the way through this project! Let's plug in our model to the demo and give it a test drive now."
      ]
    },
    {
      "cell_type": "markdown",
      "metadata": {
        "id": "Xd3oMbsSmRSz"
      },
      "source": [
        "### Start the demo:"
      ]
    },
    {
      "cell_type": "code",
      "execution_count": null,
      "metadata": {
        "id": "Os6nzb4LfoPK",
        "colab": {
          "base_uri": "https://localhost:8080/",
          "height": 1000
        },
        "outputId": "2247b41c-b704-4671-a271-4456e9a8ccdc"
      },
      "outputs": [
        {
          "output_type": "stream",
          "name": "stdout",
          "text": [
            "Hint: Set streaming=True for Sketchpad component to use live streaming.\n",
            "Colab notebook detected. This cell will run indefinitely so that you can see errors and logs. To turn off, set debug=False in launch().\n",
            "Running on public URL: https://622c8105056895d4.gradio.app\n",
            "\n",
            "This share link expires in 72 hours. For free permanent hosting and GPU upgrades (NEW!), check out Spaces: https://huggingface.co/spaces\n"
          ]
        },
        {
          "output_type": "display_data",
          "data": {
            "text/plain": [
              "<IPython.core.display.HTML object>"
            ],
            "text/html": [
              "<div><iframe src=\"https://622c8105056895d4.gradio.app\" width=\"900\" height=\"500\" allow=\"autoplay; camera; microphone; clipboard-read; clipboard-write;\" frameborder=\"0\" allowfullscreen></iframe></div>"
            ]
          },
          "metadata": {}
        },
        {
          "output_type": "stream",
          "name": "stderr",
          "text": [
            "Traceback (most recent call last):\n",
            "  File \"/usr/local/lib/python3.7/dist-packages/gradio/routes.py\", line 285, in run_predict\n",
            "    fn_index, raw_input, username, session_state, iterators\n",
            "  File \"/usr/local/lib/python3.7/dist-packages/gradio/blocks.py\", line 950, in process_api\n",
            "    result = await self.call_function(fn_index, inputs, iterator)\n",
            "  File \"/usr/local/lib/python3.7/dist-packages/gradio/blocks.py\", line 793, in call_function\n",
            "    block_fn.fn, *processed_input, limiter=self.limiter\n",
            "  File \"/usr/local/lib/python3.7/dist-packages/anyio/to_thread.py\", line 32, in run_sync\n",
            "    func, *args, cancellable=cancellable, limiter=limiter\n",
            "  File \"/usr/local/lib/python3.7/dist-packages/anyio/_backends/_asyncio.py\", line 937, in run_sync_in_worker_thread\n",
            "    return await future\n",
            "  File \"/usr/local/lib/python3.7/dist-packages/anyio/_backends/_asyncio.py\", line 867, in run\n",
            "    result = context.run(func, *args)\n",
            "  File \"<ipython-input-35-4a83827ae8cd>\", line 2, in predict\n",
            "    doodle = doodle / 255.\n",
            "TypeError: unsupported operand type(s) for /: 'NoneType' and 'float'\n",
            "Traceback (most recent call last):\n",
            "  File \"/usr/local/lib/python3.7/dist-packages/gradio/routes.py\", line 285, in run_predict\n",
            "    fn_index, raw_input, username, session_state, iterators\n",
            "  File \"/usr/local/lib/python3.7/dist-packages/gradio/blocks.py\", line 950, in process_api\n",
            "    result = await self.call_function(fn_index, inputs, iterator)\n",
            "  File \"/usr/local/lib/python3.7/dist-packages/gradio/blocks.py\", line 793, in call_function\n",
            "    block_fn.fn, *processed_input, limiter=self.limiter\n",
            "  File \"/usr/local/lib/python3.7/dist-packages/anyio/to_thread.py\", line 32, in run_sync\n",
            "    func, *args, cancellable=cancellable, limiter=limiter\n",
            "  File \"/usr/local/lib/python3.7/dist-packages/anyio/_backends/_asyncio.py\", line 937, in run_sync_in_worker_thread\n",
            "    return await future\n",
            "  File \"/usr/local/lib/python3.7/dist-packages/anyio/_backends/_asyncio.py\", line 867, in run\n",
            "    result = context.run(func, *args)\n",
            "  File \"<ipython-input-35-4a83827ae8cd>\", line 2, in predict\n",
            "    doodle = doodle / 255.\n",
            "TypeError: unsupported operand type(s) for /: 'NoneType' and 'float'\n"
          ]
        },
        {
          "output_type": "stream",
          "name": "stdout",
          "text": [
            "Keyboard interruption in main thread... closing server.\n"
          ]
        },
        {
          "output_type": "execute_result",
          "data": {
            "text/plain": [
              "(<gradio.routes.App at 0x7f43f0e22a50>,\n",
              " 'http://127.0.0.1:7860/',\n",
              " 'https://622c8105056895d4.gradio.app')"
            ]
          },
          "metadata": {},
          "execution_count": 35
        }
      ],
      "source": [
        "def predict(doodle):\n",
        "    doodle = doodle / 255.\n",
        "    pt_input = torch.Tensor(doodle).view(1, 1, doodle.shape[0], doodle.shape[1])\n",
        "    y_hats = model(pt_input).detach().numpy()[0]\n",
        "    y_hats = softmax(y_hats)\n",
        "    emoji_names = np.array(list(const.DOODLE_TO_EMOJI_MAP.values()))\n",
        "    emoji_dict = {emoji.emojize(f':{emoji_names[i]}:', use_aliases=True): float(y_hat) \\\n",
        "                  for i, y_hat in enumerate(y_hats)}\n",
        "    return emoji_dict\n",
        "\n",
        "interface = gr.Interface(predict, inputs='sketchpad', outputs='label', theme=\"default\", live=True, description=\"Guess the Doodle!\")\n",
        "interface.launch(debug=True)"
      ]
    },
    {
      "cell_type": "markdown",
      "metadata": {
        "id": "TdQaVcY7SCND"
      },
      "source": [
        "### How did you do?\n",
        "\n",
        "Let's see how well your function does! We've created tiers to show you how well your model is performing:\n",
        "\n",
        "**S+**: Amazing job! You've done better than the instructors at getting this to work!\n",
        "\n",
        "**S**: You have incredible intuiiton about neural networks! \n",
        "\n",
        "**A**: Superb and among the top tier of this class.\n",
        "\n",
        "**B**: Congrats! You've done as well as any reasonble ML engineer would do on this project!\n",
        "\n",
        "**C**: There might be some issues with your code since the baseline is higher than the score you got :) \n",
        "\n",
        "We encourage you to edit your model with all the knowledge that you have now and see how much you can improve your model!\n"
      ]
    },
    {
      "cell_type": "code",
      "execution_count": null,
      "metadata": {
        "id": "4TMEMlaHSJZS",
        "colab": {
          "base_uri": "https://localhost:8080/",
          "height": 90
        },
        "outputId": "d904b4d6-2e5e-4a6f-c2f2-9e397f280f56"
      },
      "outputs": [
        {
          "output_type": "display_data",
          "data": {
            "text/plain": [
              "<IPython.core.display.Markdown object>"
            ],
            "text/markdown": "## Performance Tier: B."
          },
          "metadata": {}
        },
        {
          "output_type": "display_data",
          "data": {
            "text/plain": [
              "<IPython.core.display.Markdown object>"
            ],
            "text/markdown": "Great job! Now, see if changing some hyperparameters can improve your model even more!"
          },
          "metadata": {}
        }
      ],
      "source": [
        "from IPython.display import display, Markdown as md\n",
        "\n",
        "#@title How did your model do?\n",
        "#@markdown Input your final evaluation score (from 0.0 to 1.0) below and see how you performed!\n",
        "accuracy_score = 0.6 #@param {type:\"number\"}\n",
        "\n",
        "tier_dict = {'C': .5, 'B': .7, 'A': .8, 'S': .85, 'S+': .9}\n",
        "for tier in ['C', 'B', 'A', 'S', 'S+']:\n",
        "    if accuracy_score < tier_dict[tier]:\n",
        "        break\n",
        "\n",
        "display(md(f'## Performance Tier: {tier}.'))\n",
        "if tier in ['A', 'S', 'S+']:\n",
        "  display(md(f'Amazing job! Your model has excellent performance.'))\n",
        "else:\n",
        "  display(md(f'Great job! Now, see if changing some hyperparameters can improve your model even more!'))"
      ]
    }
  ],
  "metadata": {
    "accelerator": "GPU",
    "colab": {
      "collapsed_sections": [],
      "provenance": [],
      "toc_visible": true,
      "include_colab_link": true
    },
    "kernelspec": {
      "display_name": "Python 3",
      "name": "python3"
    },
    "language_info": {
      "name": "python"
    },
    "widgets": {
      "application/vnd.jupyter.widget-state+json": {
        "ced337ce75ff4b0dbd844d667607d575": {
          "model_module": "@jupyter-widgets/controls",
          "model_name": "HBoxModel",
          "model_module_version": "1.5.0",
          "state": {
            "_dom_classes": [],
            "_model_module": "@jupyter-widgets/controls",
            "_model_module_version": "1.5.0",
            "_model_name": "HBoxModel",
            "_view_count": null,
            "_view_module": "@jupyter-widgets/controls",
            "_view_module_version": "1.5.0",
            "_view_name": "HBoxView",
            "box_style": "",
            "children": [
              "IPY_MODEL_6ebadbf927864b168b06b9b2fbcd802d",
              "IPY_MODEL_30f3531b7dfb4beb8299219d4985966b",
              "IPY_MODEL_5be88bf8b7924762afd929e3b86c8359"
            ],
            "layout": "IPY_MODEL_e131e06acbfa493abfd019a5f88ebdee"
          }
        },
        "6ebadbf927864b168b06b9b2fbcd802d": {
          "model_module": "@jupyter-widgets/controls",
          "model_name": "HTMLModel",
          "model_module_version": "1.5.0",
          "state": {
            "_dom_classes": [],
            "_model_module": "@jupyter-widgets/controls",
            "_model_module_version": "1.5.0",
            "_model_name": "HTMLModel",
            "_view_count": null,
            "_view_module": "@jupyter-widgets/controls",
            "_view_module_version": "1.5.0",
            "_view_name": "HTMLView",
            "description": "",
            "description_tooltip": null,
            "layout": "IPY_MODEL_fbd3d002027a44ff995e4a65a8ed0f26",
            "placeholder": "​",
            "style": "IPY_MODEL_2f0beac2fcb84b2f9a40bb9db0351e6c",
            "value": "100%"
          }
        },
        "30f3531b7dfb4beb8299219d4985966b": {
          "model_module": "@jupyter-widgets/controls",
          "model_name": "FloatProgressModel",
          "model_module_version": "1.5.0",
          "state": {
            "_dom_classes": [],
            "_model_module": "@jupyter-widgets/controls",
            "_model_module_version": "1.5.0",
            "_model_name": "FloatProgressModel",
            "_view_count": null,
            "_view_module": "@jupyter-widgets/controls",
            "_view_module_version": "1.5.0",
            "_view_name": "ProgressView",
            "bar_style": "success",
            "description": "",
            "description_tooltip": null,
            "layout": "IPY_MODEL_baba01aab99d4c1d83dd1b105ad7f9e6",
            "max": 10,
            "min": 0,
            "orientation": "horizontal",
            "style": "IPY_MODEL_861936874143410b84eef95c5d0e2f98",
            "value": 10
          }
        },
        "5be88bf8b7924762afd929e3b86c8359": {
          "model_module": "@jupyter-widgets/controls",
          "model_name": "HTMLModel",
          "model_module_version": "1.5.0",
          "state": {
            "_dom_classes": [],
            "_model_module": "@jupyter-widgets/controls",
            "_model_module_version": "1.5.0",
            "_model_name": "HTMLModel",
            "_view_count": null,
            "_view_module": "@jupyter-widgets/controls",
            "_view_module_version": "1.5.0",
            "_view_name": "HTMLView",
            "description": "",
            "description_tooltip": null,
            "layout": "IPY_MODEL_c5b26dc90e74410780b9266813f6c4bb",
            "placeholder": "​",
            "style": "IPY_MODEL_ce0c53b1c726476f9efeeab23e9b0bff",
            "value": " 10/10 [00:00&lt;00:00, 253.40it/s]"
          }
        },
        "e131e06acbfa493abfd019a5f88ebdee": {
          "model_module": "@jupyter-widgets/base",
          "model_name": "LayoutModel",
          "model_module_version": "1.2.0",
          "state": {
            "_model_module": "@jupyter-widgets/base",
            "_model_module_version": "1.2.0",
            "_model_name": "LayoutModel",
            "_view_count": null,
            "_view_module": "@jupyter-widgets/base",
            "_view_module_version": "1.2.0",
            "_view_name": "LayoutView",
            "align_content": null,
            "align_items": null,
            "align_self": null,
            "border": null,
            "bottom": null,
            "display": null,
            "flex": null,
            "flex_flow": null,
            "grid_area": null,
            "grid_auto_columns": null,
            "grid_auto_flow": null,
            "grid_auto_rows": null,
            "grid_column": null,
            "grid_gap": null,
            "grid_row": null,
            "grid_template_areas": null,
            "grid_template_columns": null,
            "grid_template_rows": null,
            "height": null,
            "justify_content": null,
            "justify_items": null,
            "left": null,
            "margin": null,
            "max_height": null,
            "max_width": null,
            "min_height": null,
            "min_width": null,
            "object_fit": null,
            "object_position": null,
            "order": null,
            "overflow": null,
            "overflow_x": null,
            "overflow_y": null,
            "padding": null,
            "right": null,
            "top": null,
            "visibility": null,
            "width": null
          }
        },
        "fbd3d002027a44ff995e4a65a8ed0f26": {
          "model_module": "@jupyter-widgets/base",
          "model_name": "LayoutModel",
          "model_module_version": "1.2.0",
          "state": {
            "_model_module": "@jupyter-widgets/base",
            "_model_module_version": "1.2.0",
            "_model_name": "LayoutModel",
            "_view_count": null,
            "_view_module": "@jupyter-widgets/base",
            "_view_module_version": "1.2.0",
            "_view_name": "LayoutView",
            "align_content": null,
            "align_items": null,
            "align_self": null,
            "border": null,
            "bottom": null,
            "display": null,
            "flex": null,
            "flex_flow": null,
            "grid_area": null,
            "grid_auto_columns": null,
            "grid_auto_flow": null,
            "grid_auto_rows": null,
            "grid_column": null,
            "grid_gap": null,
            "grid_row": null,
            "grid_template_areas": null,
            "grid_template_columns": null,
            "grid_template_rows": null,
            "height": null,
            "justify_content": null,
            "justify_items": null,
            "left": null,
            "margin": null,
            "max_height": null,
            "max_width": null,
            "min_height": null,
            "min_width": null,
            "object_fit": null,
            "object_position": null,
            "order": null,
            "overflow": null,
            "overflow_x": null,
            "overflow_y": null,
            "padding": null,
            "right": null,
            "top": null,
            "visibility": null,
            "width": null
          }
        },
        "2f0beac2fcb84b2f9a40bb9db0351e6c": {
          "model_module": "@jupyter-widgets/controls",
          "model_name": "DescriptionStyleModel",
          "model_module_version": "1.5.0",
          "state": {
            "_model_module": "@jupyter-widgets/controls",
            "_model_module_version": "1.5.0",
            "_model_name": "DescriptionStyleModel",
            "_view_count": null,
            "_view_module": "@jupyter-widgets/base",
            "_view_module_version": "1.2.0",
            "_view_name": "StyleView",
            "description_width": ""
          }
        },
        "baba01aab99d4c1d83dd1b105ad7f9e6": {
          "model_module": "@jupyter-widgets/base",
          "model_name": "LayoutModel",
          "model_module_version": "1.2.0",
          "state": {
            "_model_module": "@jupyter-widgets/base",
            "_model_module_version": "1.2.0",
            "_model_name": "LayoutModel",
            "_view_count": null,
            "_view_module": "@jupyter-widgets/base",
            "_view_module_version": "1.2.0",
            "_view_name": "LayoutView",
            "align_content": null,
            "align_items": null,
            "align_self": null,
            "border": null,
            "bottom": null,
            "display": null,
            "flex": null,
            "flex_flow": null,
            "grid_area": null,
            "grid_auto_columns": null,
            "grid_auto_flow": null,
            "grid_auto_rows": null,
            "grid_column": null,
            "grid_gap": null,
            "grid_row": null,
            "grid_template_areas": null,
            "grid_template_columns": null,
            "grid_template_rows": null,
            "height": null,
            "justify_content": null,
            "justify_items": null,
            "left": null,
            "margin": null,
            "max_height": null,
            "max_width": null,
            "min_height": null,
            "min_width": null,
            "object_fit": null,
            "object_position": null,
            "order": null,
            "overflow": null,
            "overflow_x": null,
            "overflow_y": null,
            "padding": null,
            "right": null,
            "top": null,
            "visibility": null,
            "width": null
          }
        },
        "861936874143410b84eef95c5d0e2f98": {
          "model_module": "@jupyter-widgets/controls",
          "model_name": "ProgressStyleModel",
          "model_module_version": "1.5.0",
          "state": {
            "_model_module": "@jupyter-widgets/controls",
            "_model_module_version": "1.5.0",
            "_model_name": "ProgressStyleModel",
            "_view_count": null,
            "_view_module": "@jupyter-widgets/base",
            "_view_module_version": "1.2.0",
            "_view_name": "StyleView",
            "bar_color": null,
            "description_width": ""
          }
        },
        "c5b26dc90e74410780b9266813f6c4bb": {
          "model_module": "@jupyter-widgets/base",
          "model_name": "LayoutModel",
          "model_module_version": "1.2.0",
          "state": {
            "_model_module": "@jupyter-widgets/base",
            "_model_module_version": "1.2.0",
            "_model_name": "LayoutModel",
            "_view_count": null,
            "_view_module": "@jupyter-widgets/base",
            "_view_module_version": "1.2.0",
            "_view_name": "LayoutView",
            "align_content": null,
            "align_items": null,
            "align_self": null,
            "border": null,
            "bottom": null,
            "display": null,
            "flex": null,
            "flex_flow": null,
            "grid_area": null,
            "grid_auto_columns": null,
            "grid_auto_flow": null,
            "grid_auto_rows": null,
            "grid_column": null,
            "grid_gap": null,
            "grid_row": null,
            "grid_template_areas": null,
            "grid_template_columns": null,
            "grid_template_rows": null,
            "height": null,
            "justify_content": null,
            "justify_items": null,
            "left": null,
            "margin": null,
            "max_height": null,
            "max_width": null,
            "min_height": null,
            "min_width": null,
            "object_fit": null,
            "object_position": null,
            "order": null,
            "overflow": null,
            "overflow_x": null,
            "overflow_y": null,
            "padding": null,
            "right": null,
            "top": null,
            "visibility": null,
            "width": null
          }
        },
        "ce0c53b1c726476f9efeeab23e9b0bff": {
          "model_module": "@jupyter-widgets/controls",
          "model_name": "DescriptionStyleModel",
          "model_module_version": "1.5.0",
          "state": {
            "_model_module": "@jupyter-widgets/controls",
            "_model_module_version": "1.5.0",
            "_model_name": "DescriptionStyleModel",
            "_view_count": null,
            "_view_module": "@jupyter-widgets/base",
            "_view_module_version": "1.2.0",
            "_view_name": "StyleView",
            "description_width": ""
          }
        },
        "b48984a113a84895bbb31625c69e0c15": {
          "model_module": "@jupyter-widgets/controls",
          "model_name": "HBoxModel",
          "model_module_version": "1.5.0",
          "state": {
            "_dom_classes": [],
            "_model_module": "@jupyter-widgets/controls",
            "_model_module_version": "1.5.0",
            "_model_name": "HBoxModel",
            "_view_count": null,
            "_view_module": "@jupyter-widgets/controls",
            "_view_module_version": "1.5.0",
            "_view_name": "HBoxView",
            "box_style": "",
            "children": [
              "IPY_MODEL_6e9954be055b4477a7c13d2e08b8a84d",
              "IPY_MODEL_72e06da494204cc8a820882ae09eb7b5",
              "IPY_MODEL_bbc7f2263370461da853eec7f3ae6e79"
            ],
            "layout": "IPY_MODEL_47c5e096b62e42b8b729b8ffed8ec120"
          }
        },
        "6e9954be055b4477a7c13d2e08b8a84d": {
          "model_module": "@jupyter-widgets/controls",
          "model_name": "HTMLModel",
          "model_module_version": "1.5.0",
          "state": {
            "_dom_classes": [],
            "_model_module": "@jupyter-widgets/controls",
            "_model_module_version": "1.5.0",
            "_model_name": "HTMLModel",
            "_view_count": null,
            "_view_module": "@jupyter-widgets/controls",
            "_view_module_version": "1.5.0",
            "_view_name": "HTMLView",
            "description": "",
            "description_tooltip": null,
            "layout": "IPY_MODEL_b70a5dc16c254e43a1816c4e553f2743",
            "placeholder": "​",
            "style": "IPY_MODEL_248847e0492943e3b6e22d364d0068cd",
            "value": "100%"
          }
        },
        "72e06da494204cc8a820882ae09eb7b5": {
          "model_module": "@jupyter-widgets/controls",
          "model_name": "FloatProgressModel",
          "model_module_version": "1.5.0",
          "state": {
            "_dom_classes": [],
            "_model_module": "@jupyter-widgets/controls",
            "_model_module_version": "1.5.0",
            "_model_name": "FloatProgressModel",
            "_view_count": null,
            "_view_module": "@jupyter-widgets/controls",
            "_view_module_version": "1.5.0",
            "_view_name": "ProgressView",
            "bar_style": "success",
            "description": "",
            "description_tooltip": null,
            "layout": "IPY_MODEL_840eab94e0b0417daedf9ecdf8c424d6",
            "max": 10,
            "min": 0,
            "orientation": "horizontal",
            "style": "IPY_MODEL_f9d95933c7604561a6902963f40557df",
            "value": 10
          }
        },
        "bbc7f2263370461da853eec7f3ae6e79": {
          "model_module": "@jupyter-widgets/controls",
          "model_name": "HTMLModel",
          "model_module_version": "1.5.0",
          "state": {
            "_dom_classes": [],
            "_model_module": "@jupyter-widgets/controls",
            "_model_module_version": "1.5.0",
            "_model_name": "HTMLModel",
            "_view_count": null,
            "_view_module": "@jupyter-widgets/controls",
            "_view_module_version": "1.5.0",
            "_view_name": "HTMLView",
            "description": "",
            "description_tooltip": null,
            "layout": "IPY_MODEL_16d06acfac734fe4a9cc255ae1c89035",
            "placeholder": "​",
            "style": "IPY_MODEL_8a3902c177004a6c86eba46b93b827d6",
            "value": " 10/10 [00:00&lt;00:00, 205.59it/s]"
          }
        },
        "47c5e096b62e42b8b729b8ffed8ec120": {
          "model_module": "@jupyter-widgets/base",
          "model_name": "LayoutModel",
          "model_module_version": "1.2.0",
          "state": {
            "_model_module": "@jupyter-widgets/base",
            "_model_module_version": "1.2.0",
            "_model_name": "LayoutModel",
            "_view_count": null,
            "_view_module": "@jupyter-widgets/base",
            "_view_module_version": "1.2.0",
            "_view_name": "LayoutView",
            "align_content": null,
            "align_items": null,
            "align_self": null,
            "border": null,
            "bottom": null,
            "display": null,
            "flex": null,
            "flex_flow": null,
            "grid_area": null,
            "grid_auto_columns": null,
            "grid_auto_flow": null,
            "grid_auto_rows": null,
            "grid_column": null,
            "grid_gap": null,
            "grid_row": null,
            "grid_template_areas": null,
            "grid_template_columns": null,
            "grid_template_rows": null,
            "height": null,
            "justify_content": null,
            "justify_items": null,
            "left": null,
            "margin": null,
            "max_height": null,
            "max_width": null,
            "min_height": null,
            "min_width": null,
            "object_fit": null,
            "object_position": null,
            "order": null,
            "overflow": null,
            "overflow_x": null,
            "overflow_y": null,
            "padding": null,
            "right": null,
            "top": null,
            "visibility": null,
            "width": null
          }
        },
        "b70a5dc16c254e43a1816c4e553f2743": {
          "model_module": "@jupyter-widgets/base",
          "model_name": "LayoutModel",
          "model_module_version": "1.2.0",
          "state": {
            "_model_module": "@jupyter-widgets/base",
            "_model_module_version": "1.2.0",
            "_model_name": "LayoutModel",
            "_view_count": null,
            "_view_module": "@jupyter-widgets/base",
            "_view_module_version": "1.2.0",
            "_view_name": "LayoutView",
            "align_content": null,
            "align_items": null,
            "align_self": null,
            "border": null,
            "bottom": null,
            "display": null,
            "flex": null,
            "flex_flow": null,
            "grid_area": null,
            "grid_auto_columns": null,
            "grid_auto_flow": null,
            "grid_auto_rows": null,
            "grid_column": null,
            "grid_gap": null,
            "grid_row": null,
            "grid_template_areas": null,
            "grid_template_columns": null,
            "grid_template_rows": null,
            "height": null,
            "justify_content": null,
            "justify_items": null,
            "left": null,
            "margin": null,
            "max_height": null,
            "max_width": null,
            "min_height": null,
            "min_width": null,
            "object_fit": null,
            "object_position": null,
            "order": null,
            "overflow": null,
            "overflow_x": null,
            "overflow_y": null,
            "padding": null,
            "right": null,
            "top": null,
            "visibility": null,
            "width": null
          }
        },
        "248847e0492943e3b6e22d364d0068cd": {
          "model_module": "@jupyter-widgets/controls",
          "model_name": "DescriptionStyleModel",
          "model_module_version": "1.5.0",
          "state": {
            "_model_module": "@jupyter-widgets/controls",
            "_model_module_version": "1.5.0",
            "_model_name": "DescriptionStyleModel",
            "_view_count": null,
            "_view_module": "@jupyter-widgets/base",
            "_view_module_version": "1.2.0",
            "_view_name": "StyleView",
            "description_width": ""
          }
        },
        "840eab94e0b0417daedf9ecdf8c424d6": {
          "model_module": "@jupyter-widgets/base",
          "model_name": "LayoutModel",
          "model_module_version": "1.2.0",
          "state": {
            "_model_module": "@jupyter-widgets/base",
            "_model_module_version": "1.2.0",
            "_model_name": "LayoutModel",
            "_view_count": null,
            "_view_module": "@jupyter-widgets/base",
            "_view_module_version": "1.2.0",
            "_view_name": "LayoutView",
            "align_content": null,
            "align_items": null,
            "align_self": null,
            "border": null,
            "bottom": null,
            "display": null,
            "flex": null,
            "flex_flow": null,
            "grid_area": null,
            "grid_auto_columns": null,
            "grid_auto_flow": null,
            "grid_auto_rows": null,
            "grid_column": null,
            "grid_gap": null,
            "grid_row": null,
            "grid_template_areas": null,
            "grid_template_columns": null,
            "grid_template_rows": null,
            "height": null,
            "justify_content": null,
            "justify_items": null,
            "left": null,
            "margin": null,
            "max_height": null,
            "max_width": null,
            "min_height": null,
            "min_width": null,
            "object_fit": null,
            "object_position": null,
            "order": null,
            "overflow": null,
            "overflow_x": null,
            "overflow_y": null,
            "padding": null,
            "right": null,
            "top": null,
            "visibility": null,
            "width": null
          }
        },
        "f9d95933c7604561a6902963f40557df": {
          "model_module": "@jupyter-widgets/controls",
          "model_name": "ProgressStyleModel",
          "model_module_version": "1.5.0",
          "state": {
            "_model_module": "@jupyter-widgets/controls",
            "_model_module_version": "1.5.0",
            "_model_name": "ProgressStyleModel",
            "_view_count": null,
            "_view_module": "@jupyter-widgets/base",
            "_view_module_version": "1.2.0",
            "_view_name": "StyleView",
            "bar_color": null,
            "description_width": ""
          }
        },
        "16d06acfac734fe4a9cc255ae1c89035": {
          "model_module": "@jupyter-widgets/base",
          "model_name": "LayoutModel",
          "model_module_version": "1.2.0",
          "state": {
            "_model_module": "@jupyter-widgets/base",
            "_model_module_version": "1.2.0",
            "_model_name": "LayoutModel",
            "_view_count": null,
            "_view_module": "@jupyter-widgets/base",
            "_view_module_version": "1.2.0",
            "_view_name": "LayoutView",
            "align_content": null,
            "align_items": null,
            "align_self": null,
            "border": null,
            "bottom": null,
            "display": null,
            "flex": null,
            "flex_flow": null,
            "grid_area": null,
            "grid_auto_columns": null,
            "grid_auto_flow": null,
            "grid_auto_rows": null,
            "grid_column": null,
            "grid_gap": null,
            "grid_row": null,
            "grid_template_areas": null,
            "grid_template_columns": null,
            "grid_template_rows": null,
            "height": null,
            "justify_content": null,
            "justify_items": null,
            "left": null,
            "margin": null,
            "max_height": null,
            "max_width": null,
            "min_height": null,
            "min_width": null,
            "object_fit": null,
            "object_position": null,
            "order": null,
            "overflow": null,
            "overflow_x": null,
            "overflow_y": null,
            "padding": null,
            "right": null,
            "top": null,
            "visibility": null,
            "width": null
          }
        },
        "8a3902c177004a6c86eba46b93b827d6": {
          "model_module": "@jupyter-widgets/controls",
          "model_name": "DescriptionStyleModel",
          "model_module_version": "1.5.0",
          "state": {
            "_model_module": "@jupyter-widgets/controls",
            "_model_module_version": "1.5.0",
            "_model_name": "DescriptionStyleModel",
            "_view_count": null,
            "_view_module": "@jupyter-widgets/base",
            "_view_module_version": "1.2.0",
            "_view_name": "StyleView",
            "description_width": ""
          }
        },
        "76d156c3489247ea8d814c1069675f1a": {
          "model_module": "@jupyter-widgets/controls",
          "model_name": "VBoxModel",
          "model_module_version": "1.5.0",
          "state": {
            "_dom_classes": [],
            "_model_module": "@jupyter-widgets/controls",
            "_model_module_version": "1.5.0",
            "_model_name": "VBoxModel",
            "_view_count": null,
            "_view_module": "@jupyter-widgets/controls",
            "_view_module_version": "1.5.0",
            "_view_name": "VBoxView",
            "box_style": "",
            "children": [
              "IPY_MODEL_a9daaa18714c45709f62b229b25e886b",
              "IPY_MODEL_048b5f6f2ec44407b554d099dc0a7d3c"
            ],
            "layout": "IPY_MODEL_2e46c4128fba4a14850b271608e15a5a"
          }
        },
        "a9daaa18714c45709f62b229b25e886b": {
          "model_module": "@jupyter-widgets/controls",
          "model_name": "LabelModel",
          "model_module_version": "1.5.0",
          "state": {
            "_dom_classes": [],
            "_model_module": "@jupyter-widgets/controls",
            "_model_module_version": "1.5.0",
            "_model_name": "LabelModel",
            "_view_count": null,
            "_view_module": "@jupyter-widgets/controls",
            "_view_module_version": "1.5.0",
            "_view_name": "LabelView",
            "description": "",
            "description_tooltip": null,
            "layout": "IPY_MODEL_d22c268bc92e4897b92df549e390ea8d",
            "placeholder": "​",
            "style": "IPY_MODEL_eb1a3ad0466d42d0852b9bb86d80ca63",
            "value": "0.008 MB of 0.008 MB uploaded (0.000 MB deduped)\r"
          }
        },
        "048b5f6f2ec44407b554d099dc0a7d3c": {
          "model_module": "@jupyter-widgets/controls",
          "model_name": "FloatProgressModel",
          "model_module_version": "1.5.0",
          "state": {
            "_dom_classes": [],
            "_model_module": "@jupyter-widgets/controls",
            "_model_module_version": "1.5.0",
            "_model_name": "FloatProgressModel",
            "_view_count": null,
            "_view_module": "@jupyter-widgets/controls",
            "_view_module_version": "1.5.0",
            "_view_name": "ProgressView",
            "bar_style": "",
            "description": "",
            "description_tooltip": null,
            "layout": "IPY_MODEL_842459c320794e1f98ee2a09913d7b3b",
            "max": 1,
            "min": 0,
            "orientation": "horizontal",
            "style": "IPY_MODEL_884efa0a59074210b3574868ab9082ae",
            "value": 1
          }
        },
        "2e46c4128fba4a14850b271608e15a5a": {
          "model_module": "@jupyter-widgets/base",
          "model_name": "LayoutModel",
          "model_module_version": "1.2.0",
          "state": {
            "_model_module": "@jupyter-widgets/base",
            "_model_module_version": "1.2.0",
            "_model_name": "LayoutModel",
            "_view_count": null,
            "_view_module": "@jupyter-widgets/base",
            "_view_module_version": "1.2.0",
            "_view_name": "LayoutView",
            "align_content": null,
            "align_items": null,
            "align_self": null,
            "border": null,
            "bottom": null,
            "display": null,
            "flex": null,
            "flex_flow": null,
            "grid_area": null,
            "grid_auto_columns": null,
            "grid_auto_flow": null,
            "grid_auto_rows": null,
            "grid_column": null,
            "grid_gap": null,
            "grid_row": null,
            "grid_template_areas": null,
            "grid_template_columns": null,
            "grid_template_rows": null,
            "height": null,
            "justify_content": null,
            "justify_items": null,
            "left": null,
            "margin": null,
            "max_height": null,
            "max_width": null,
            "min_height": null,
            "min_width": null,
            "object_fit": null,
            "object_position": null,
            "order": null,
            "overflow": null,
            "overflow_x": null,
            "overflow_y": null,
            "padding": null,
            "right": null,
            "top": null,
            "visibility": null,
            "width": null
          }
        },
        "d22c268bc92e4897b92df549e390ea8d": {
          "model_module": "@jupyter-widgets/base",
          "model_name": "LayoutModel",
          "model_module_version": "1.2.0",
          "state": {
            "_model_module": "@jupyter-widgets/base",
            "_model_module_version": "1.2.0",
            "_model_name": "LayoutModel",
            "_view_count": null,
            "_view_module": "@jupyter-widgets/base",
            "_view_module_version": "1.2.0",
            "_view_name": "LayoutView",
            "align_content": null,
            "align_items": null,
            "align_self": null,
            "border": null,
            "bottom": null,
            "display": null,
            "flex": null,
            "flex_flow": null,
            "grid_area": null,
            "grid_auto_columns": null,
            "grid_auto_flow": null,
            "grid_auto_rows": null,
            "grid_column": null,
            "grid_gap": null,
            "grid_row": null,
            "grid_template_areas": null,
            "grid_template_columns": null,
            "grid_template_rows": null,
            "height": null,
            "justify_content": null,
            "justify_items": null,
            "left": null,
            "margin": null,
            "max_height": null,
            "max_width": null,
            "min_height": null,
            "min_width": null,
            "object_fit": null,
            "object_position": null,
            "order": null,
            "overflow": null,
            "overflow_x": null,
            "overflow_y": null,
            "padding": null,
            "right": null,
            "top": null,
            "visibility": null,
            "width": null
          }
        },
        "eb1a3ad0466d42d0852b9bb86d80ca63": {
          "model_module": "@jupyter-widgets/controls",
          "model_name": "DescriptionStyleModel",
          "model_module_version": "1.5.0",
          "state": {
            "_model_module": "@jupyter-widgets/controls",
            "_model_module_version": "1.5.0",
            "_model_name": "DescriptionStyleModel",
            "_view_count": null,
            "_view_module": "@jupyter-widgets/base",
            "_view_module_version": "1.2.0",
            "_view_name": "StyleView",
            "description_width": ""
          }
        },
        "842459c320794e1f98ee2a09913d7b3b": {
          "model_module": "@jupyter-widgets/base",
          "model_name": "LayoutModel",
          "model_module_version": "1.2.0",
          "state": {
            "_model_module": "@jupyter-widgets/base",
            "_model_module_version": "1.2.0",
            "_model_name": "LayoutModel",
            "_view_count": null,
            "_view_module": "@jupyter-widgets/base",
            "_view_module_version": "1.2.0",
            "_view_name": "LayoutView",
            "align_content": null,
            "align_items": null,
            "align_self": null,
            "border": null,
            "bottom": null,
            "display": null,
            "flex": null,
            "flex_flow": null,
            "grid_area": null,
            "grid_auto_columns": null,
            "grid_auto_flow": null,
            "grid_auto_rows": null,
            "grid_column": null,
            "grid_gap": null,
            "grid_row": null,
            "grid_template_areas": null,
            "grid_template_columns": null,
            "grid_template_rows": null,
            "height": null,
            "justify_content": null,
            "justify_items": null,
            "left": null,
            "margin": null,
            "max_height": null,
            "max_width": null,
            "min_height": null,
            "min_width": null,
            "object_fit": null,
            "object_position": null,
            "order": null,
            "overflow": null,
            "overflow_x": null,
            "overflow_y": null,
            "padding": null,
            "right": null,
            "top": null,
            "visibility": null,
            "width": null
          }
        },
        "884efa0a59074210b3574868ab9082ae": {
          "model_module": "@jupyter-widgets/controls",
          "model_name": "ProgressStyleModel",
          "model_module_version": "1.5.0",
          "state": {
            "_model_module": "@jupyter-widgets/controls",
            "_model_module_version": "1.5.0",
            "_model_name": "ProgressStyleModel",
            "_view_count": null,
            "_view_module": "@jupyter-widgets/base",
            "_view_module_version": "1.2.0",
            "_view_name": "StyleView",
            "bar_color": null,
            "description_width": ""
          }
        },
        "a2f66ec755f84ae3a7a89a91c63a2423": {
          "model_module": "@jupyter-widgets/controls",
          "model_name": "VBoxModel",
          "model_module_version": "1.5.0",
          "state": {
            "_dom_classes": [],
            "_model_module": "@jupyter-widgets/controls",
            "_model_module_version": "1.5.0",
            "_model_name": "VBoxModel",
            "_view_count": null,
            "_view_module": "@jupyter-widgets/controls",
            "_view_module_version": "1.5.0",
            "_view_name": "VBoxView",
            "box_style": "",
            "children": [
              "IPY_MODEL_c0ecc87036d3448e83d83bdec450c63f",
              "IPY_MODEL_7682f68ad1a846668f21fe5d487d097e"
            ],
            "layout": "IPY_MODEL_99d9e794a0d9445c833108bb260ab1a4"
          }
        },
        "c0ecc87036d3448e83d83bdec450c63f": {
          "model_module": "@jupyter-widgets/controls",
          "model_name": "LabelModel",
          "model_module_version": "1.5.0",
          "state": {
            "_dom_classes": [],
            "_model_module": "@jupyter-widgets/controls",
            "_model_module_version": "1.5.0",
            "_model_name": "LabelModel",
            "_view_count": null,
            "_view_module": "@jupyter-widgets/controls",
            "_view_module_version": "1.5.0",
            "_view_name": "LabelView",
            "description": "",
            "description_tooltip": null,
            "layout": "IPY_MODEL_773c52973cab47299c24cb76d6f93bd1",
            "placeholder": "​",
            "style": "IPY_MODEL_554f48b044a64e10b00e0d7fcde772d8",
            "value": "0.009 MB of 0.009 MB uploaded (0.000 MB deduped)\r"
          }
        },
        "7682f68ad1a846668f21fe5d487d097e": {
          "model_module": "@jupyter-widgets/controls",
          "model_name": "FloatProgressModel",
          "model_module_version": "1.5.0",
          "state": {
            "_dom_classes": [],
            "_model_module": "@jupyter-widgets/controls",
            "_model_module_version": "1.5.0",
            "_model_name": "FloatProgressModel",
            "_view_count": null,
            "_view_module": "@jupyter-widgets/controls",
            "_view_module_version": "1.5.0",
            "_view_name": "ProgressView",
            "bar_style": "",
            "description": "",
            "description_tooltip": null,
            "layout": "IPY_MODEL_215a0e050c1641e194438f0e328a85d2",
            "max": 1,
            "min": 0,
            "orientation": "horizontal",
            "style": "IPY_MODEL_02a5e68a76b448f5838b89686cfc9e42",
            "value": 1
          }
        },
        "99d9e794a0d9445c833108bb260ab1a4": {
          "model_module": "@jupyter-widgets/base",
          "model_name": "LayoutModel",
          "model_module_version": "1.2.0",
          "state": {
            "_model_module": "@jupyter-widgets/base",
            "_model_module_version": "1.2.0",
            "_model_name": "LayoutModel",
            "_view_count": null,
            "_view_module": "@jupyter-widgets/base",
            "_view_module_version": "1.2.0",
            "_view_name": "LayoutView",
            "align_content": null,
            "align_items": null,
            "align_self": null,
            "border": null,
            "bottom": null,
            "display": null,
            "flex": null,
            "flex_flow": null,
            "grid_area": null,
            "grid_auto_columns": null,
            "grid_auto_flow": null,
            "grid_auto_rows": null,
            "grid_column": null,
            "grid_gap": null,
            "grid_row": null,
            "grid_template_areas": null,
            "grid_template_columns": null,
            "grid_template_rows": null,
            "height": null,
            "justify_content": null,
            "justify_items": null,
            "left": null,
            "margin": null,
            "max_height": null,
            "max_width": null,
            "min_height": null,
            "min_width": null,
            "object_fit": null,
            "object_position": null,
            "order": null,
            "overflow": null,
            "overflow_x": null,
            "overflow_y": null,
            "padding": null,
            "right": null,
            "top": null,
            "visibility": null,
            "width": null
          }
        },
        "773c52973cab47299c24cb76d6f93bd1": {
          "model_module": "@jupyter-widgets/base",
          "model_name": "LayoutModel",
          "model_module_version": "1.2.0",
          "state": {
            "_model_module": "@jupyter-widgets/base",
            "_model_module_version": "1.2.0",
            "_model_name": "LayoutModel",
            "_view_count": null,
            "_view_module": "@jupyter-widgets/base",
            "_view_module_version": "1.2.0",
            "_view_name": "LayoutView",
            "align_content": null,
            "align_items": null,
            "align_self": null,
            "border": null,
            "bottom": null,
            "display": null,
            "flex": null,
            "flex_flow": null,
            "grid_area": null,
            "grid_auto_columns": null,
            "grid_auto_flow": null,
            "grid_auto_rows": null,
            "grid_column": null,
            "grid_gap": null,
            "grid_row": null,
            "grid_template_areas": null,
            "grid_template_columns": null,
            "grid_template_rows": null,
            "height": null,
            "justify_content": null,
            "justify_items": null,
            "left": null,
            "margin": null,
            "max_height": null,
            "max_width": null,
            "min_height": null,
            "min_width": null,
            "object_fit": null,
            "object_position": null,
            "order": null,
            "overflow": null,
            "overflow_x": null,
            "overflow_y": null,
            "padding": null,
            "right": null,
            "top": null,
            "visibility": null,
            "width": null
          }
        },
        "554f48b044a64e10b00e0d7fcde772d8": {
          "model_module": "@jupyter-widgets/controls",
          "model_name": "DescriptionStyleModel",
          "model_module_version": "1.5.0",
          "state": {
            "_model_module": "@jupyter-widgets/controls",
            "_model_module_version": "1.5.0",
            "_model_name": "DescriptionStyleModel",
            "_view_count": null,
            "_view_module": "@jupyter-widgets/base",
            "_view_module_version": "1.2.0",
            "_view_name": "StyleView",
            "description_width": ""
          }
        },
        "215a0e050c1641e194438f0e328a85d2": {
          "model_module": "@jupyter-widgets/base",
          "model_name": "LayoutModel",
          "model_module_version": "1.2.0",
          "state": {
            "_model_module": "@jupyter-widgets/base",
            "_model_module_version": "1.2.0",
            "_model_name": "LayoutModel",
            "_view_count": null,
            "_view_module": "@jupyter-widgets/base",
            "_view_module_version": "1.2.0",
            "_view_name": "LayoutView",
            "align_content": null,
            "align_items": null,
            "align_self": null,
            "border": null,
            "bottom": null,
            "display": null,
            "flex": null,
            "flex_flow": null,
            "grid_area": null,
            "grid_auto_columns": null,
            "grid_auto_flow": null,
            "grid_auto_rows": null,
            "grid_column": null,
            "grid_gap": null,
            "grid_row": null,
            "grid_template_areas": null,
            "grid_template_columns": null,
            "grid_template_rows": null,
            "height": null,
            "justify_content": null,
            "justify_items": null,
            "left": null,
            "margin": null,
            "max_height": null,
            "max_width": null,
            "min_height": null,
            "min_width": null,
            "object_fit": null,
            "object_position": null,
            "order": null,
            "overflow": null,
            "overflow_x": null,
            "overflow_y": null,
            "padding": null,
            "right": null,
            "top": null,
            "visibility": null,
            "width": null
          }
        },
        "02a5e68a76b448f5838b89686cfc9e42": {
          "model_module": "@jupyter-widgets/controls",
          "model_name": "ProgressStyleModel",
          "model_module_version": "1.5.0",
          "state": {
            "_model_module": "@jupyter-widgets/controls",
            "_model_module_version": "1.5.0",
            "_model_name": "ProgressStyleModel",
            "_view_count": null,
            "_view_module": "@jupyter-widgets/base",
            "_view_module_version": "1.2.0",
            "_view_name": "StyleView",
            "bar_color": null,
            "description_width": ""
          }
        }
      }
    }
  },
  "nbformat": 4,
  "nbformat_minor": 0
}