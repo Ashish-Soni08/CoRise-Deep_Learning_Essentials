{
  "nbformat": 4,
  "nbformat_minor": 0,
  "metadata": {
    "colab": {
      "provenance": [],
      "collapsed_sections": [],
      "include_colab_link": true
    },
    "kernelspec": {
      "name": "python3",
      "display_name": "Python 3"
    },
    "language_info": {
      "name": "python"
    },
    "accelerator": "GPU",
    "widgets": {
      "application/vnd.jupyter.widget-state+json": {
        "eaf089b31bd14fe4b994bf58dc50aabe": {
          "model_module": "@jupyter-widgets/controls",
          "model_name": "HBoxModel",
          "model_module_version": "1.5.0",
          "state": {
            "_dom_classes": [],
            "_model_module": "@jupyter-widgets/controls",
            "_model_module_version": "1.5.0",
            "_model_name": "HBoxModel",
            "_view_count": null,
            "_view_module": "@jupyter-widgets/controls",
            "_view_module_version": "1.5.0",
            "_view_name": "HBoxView",
            "box_style": "",
            "children": [
              "IPY_MODEL_4ee6a88f56c748d5bb69340dfbcaf240",
              "IPY_MODEL_cd189f663ff94ef6aedade0ef02e807a",
              "IPY_MODEL_c3f45832cb5d4e598d96004c1ddbae5c"
            ],
            "layout": "IPY_MODEL_69b710e8100a46b4bf30c6267c39a12d"
          }
        },
        "4ee6a88f56c748d5bb69340dfbcaf240": {
          "model_module": "@jupyter-widgets/controls",
          "model_name": "HTMLModel",
          "model_module_version": "1.5.0",
          "state": {
            "_dom_classes": [],
            "_model_module": "@jupyter-widgets/controls",
            "_model_module_version": "1.5.0",
            "_model_name": "HTMLModel",
            "_view_count": null,
            "_view_module": "@jupyter-widgets/controls",
            "_view_module_version": "1.5.0",
            "_view_name": "HTMLView",
            "description": "",
            "description_tooltip": null,
            "layout": "IPY_MODEL_7c5bec9ec88f4c80acd7dc5fe05384a3",
            "placeholder": "​",
            "style": "IPY_MODEL_4b3955a9ea214fff941d0d0831ff9c38",
            "value": "100%"
          }
        },
        "cd189f663ff94ef6aedade0ef02e807a": {
          "model_module": "@jupyter-widgets/controls",
          "model_name": "FloatProgressModel",
          "model_module_version": "1.5.0",
          "state": {
            "_dom_classes": [],
            "_model_module": "@jupyter-widgets/controls",
            "_model_module_version": "1.5.0",
            "_model_name": "FloatProgressModel",
            "_view_count": null,
            "_view_module": "@jupyter-widgets/controls",
            "_view_module_version": "1.5.0",
            "_view_name": "ProgressView",
            "bar_style": "success",
            "description": "",
            "description_tooltip": null,
            "layout": "IPY_MODEL_b6230a4092d64ac28652c8d39905c3c1",
            "max": 10,
            "min": 0,
            "orientation": "horizontal",
            "style": "IPY_MODEL_36602867198a4530979bec79e4f8ea03",
            "value": 10
          }
        },
        "c3f45832cb5d4e598d96004c1ddbae5c": {
          "model_module": "@jupyter-widgets/controls",
          "model_name": "HTMLModel",
          "model_module_version": "1.5.0",
          "state": {
            "_dom_classes": [],
            "_model_module": "@jupyter-widgets/controls",
            "_model_module_version": "1.5.0",
            "_model_name": "HTMLModel",
            "_view_count": null,
            "_view_module": "@jupyter-widgets/controls",
            "_view_module_version": "1.5.0",
            "_view_name": "HTMLView",
            "description": "",
            "description_tooltip": null,
            "layout": "IPY_MODEL_48c7cdc8ed2c48a585eac682215c09bb",
            "placeholder": "​",
            "style": "IPY_MODEL_42eed6e3a2cc44fba2442e8be48af128",
            "value": " 10/10 [00:00&lt;00:00, 358.88it/s]"
          }
        },
        "69b710e8100a46b4bf30c6267c39a12d": {
          "model_module": "@jupyter-widgets/base",
          "model_name": "LayoutModel",
          "model_module_version": "1.2.0",
          "state": {
            "_model_module": "@jupyter-widgets/base",
            "_model_module_version": "1.2.0",
            "_model_name": "LayoutModel",
            "_view_count": null,
            "_view_module": "@jupyter-widgets/base",
            "_view_module_version": "1.2.0",
            "_view_name": "LayoutView",
            "align_content": null,
            "align_items": null,
            "align_self": null,
            "border": null,
            "bottom": null,
            "display": null,
            "flex": null,
            "flex_flow": null,
            "grid_area": null,
            "grid_auto_columns": null,
            "grid_auto_flow": null,
            "grid_auto_rows": null,
            "grid_column": null,
            "grid_gap": null,
            "grid_row": null,
            "grid_template_areas": null,
            "grid_template_columns": null,
            "grid_template_rows": null,
            "height": null,
            "justify_content": null,
            "justify_items": null,
            "left": null,
            "margin": null,
            "max_height": null,
            "max_width": null,
            "min_height": null,
            "min_width": null,
            "object_fit": null,
            "object_position": null,
            "order": null,
            "overflow": null,
            "overflow_x": null,
            "overflow_y": null,
            "padding": null,
            "right": null,
            "top": null,
            "visibility": null,
            "width": null
          }
        },
        "7c5bec9ec88f4c80acd7dc5fe05384a3": {
          "model_module": "@jupyter-widgets/base",
          "model_name": "LayoutModel",
          "model_module_version": "1.2.0",
          "state": {
            "_model_module": "@jupyter-widgets/base",
            "_model_module_version": "1.2.0",
            "_model_name": "LayoutModel",
            "_view_count": null,
            "_view_module": "@jupyter-widgets/base",
            "_view_module_version": "1.2.0",
            "_view_name": "LayoutView",
            "align_content": null,
            "align_items": null,
            "align_self": null,
            "border": null,
            "bottom": null,
            "display": null,
            "flex": null,
            "flex_flow": null,
            "grid_area": null,
            "grid_auto_columns": null,
            "grid_auto_flow": null,
            "grid_auto_rows": null,
            "grid_column": null,
            "grid_gap": null,
            "grid_row": null,
            "grid_template_areas": null,
            "grid_template_columns": null,
            "grid_template_rows": null,
            "height": null,
            "justify_content": null,
            "justify_items": null,
            "left": null,
            "margin": null,
            "max_height": null,
            "max_width": null,
            "min_height": null,
            "min_width": null,
            "object_fit": null,
            "object_position": null,
            "order": null,
            "overflow": null,
            "overflow_x": null,
            "overflow_y": null,
            "padding": null,
            "right": null,
            "top": null,
            "visibility": null,
            "width": null
          }
        },
        "4b3955a9ea214fff941d0d0831ff9c38": {
          "model_module": "@jupyter-widgets/controls",
          "model_name": "DescriptionStyleModel",
          "model_module_version": "1.5.0",
          "state": {
            "_model_module": "@jupyter-widgets/controls",
            "_model_module_version": "1.5.0",
            "_model_name": "DescriptionStyleModel",
            "_view_count": null,
            "_view_module": "@jupyter-widgets/base",
            "_view_module_version": "1.2.0",
            "_view_name": "StyleView",
            "description_width": ""
          }
        },
        "b6230a4092d64ac28652c8d39905c3c1": {
          "model_module": "@jupyter-widgets/base",
          "model_name": "LayoutModel",
          "model_module_version": "1.2.0",
          "state": {
            "_model_module": "@jupyter-widgets/base",
            "_model_module_version": "1.2.0",
            "_model_name": "LayoutModel",
            "_view_count": null,
            "_view_module": "@jupyter-widgets/base",
            "_view_module_version": "1.2.0",
            "_view_name": "LayoutView",
            "align_content": null,
            "align_items": null,
            "align_self": null,
            "border": null,
            "bottom": null,
            "display": null,
            "flex": null,
            "flex_flow": null,
            "grid_area": null,
            "grid_auto_columns": null,
            "grid_auto_flow": null,
            "grid_auto_rows": null,
            "grid_column": null,
            "grid_gap": null,
            "grid_row": null,
            "grid_template_areas": null,
            "grid_template_columns": null,
            "grid_template_rows": null,
            "height": null,
            "justify_content": null,
            "justify_items": null,
            "left": null,
            "margin": null,
            "max_height": null,
            "max_width": null,
            "min_height": null,
            "min_width": null,
            "object_fit": null,
            "object_position": null,
            "order": null,
            "overflow": null,
            "overflow_x": null,
            "overflow_y": null,
            "padding": null,
            "right": null,
            "top": null,
            "visibility": null,
            "width": null
          }
        },
        "36602867198a4530979bec79e4f8ea03": {
          "model_module": "@jupyter-widgets/controls",
          "model_name": "ProgressStyleModel",
          "model_module_version": "1.5.0",
          "state": {
            "_model_module": "@jupyter-widgets/controls",
            "_model_module_version": "1.5.0",
            "_model_name": "ProgressStyleModel",
            "_view_count": null,
            "_view_module": "@jupyter-widgets/base",
            "_view_module_version": "1.2.0",
            "_view_name": "StyleView",
            "bar_color": null,
            "description_width": ""
          }
        },
        "48c7cdc8ed2c48a585eac682215c09bb": {
          "model_module": "@jupyter-widgets/base",
          "model_name": "LayoutModel",
          "model_module_version": "1.2.0",
          "state": {
            "_model_module": "@jupyter-widgets/base",
            "_model_module_version": "1.2.0",
            "_model_name": "LayoutModel",
            "_view_count": null,
            "_view_module": "@jupyter-widgets/base",
            "_view_module_version": "1.2.0",
            "_view_name": "LayoutView",
            "align_content": null,
            "align_items": null,
            "align_self": null,
            "border": null,
            "bottom": null,
            "display": null,
            "flex": null,
            "flex_flow": null,
            "grid_area": null,
            "grid_auto_columns": null,
            "grid_auto_flow": null,
            "grid_auto_rows": null,
            "grid_column": null,
            "grid_gap": null,
            "grid_row": null,
            "grid_template_areas": null,
            "grid_template_columns": null,
            "grid_template_rows": null,
            "height": null,
            "justify_content": null,
            "justify_items": null,
            "left": null,
            "margin": null,
            "max_height": null,
            "max_width": null,
            "min_height": null,
            "min_width": null,
            "object_fit": null,
            "object_position": null,
            "order": null,
            "overflow": null,
            "overflow_x": null,
            "overflow_y": null,
            "padding": null,
            "right": null,
            "top": null,
            "visibility": null,
            "width": null
          }
        },
        "42eed6e3a2cc44fba2442e8be48af128": {
          "model_module": "@jupyter-widgets/controls",
          "model_name": "DescriptionStyleModel",
          "model_module_version": "1.5.0",
          "state": {
            "_model_module": "@jupyter-widgets/controls",
            "_model_module_version": "1.5.0",
            "_model_name": "DescriptionStyleModel",
            "_view_count": null,
            "_view_module": "@jupyter-widgets/base",
            "_view_module_version": "1.2.0",
            "_view_name": "StyleView",
            "description_width": ""
          }
        },
        "85fc6d8e0dfc41baa562e36a613dce49": {
          "model_module": "@jupyter-widgets/controls",
          "model_name": "VBoxModel",
          "model_module_version": "1.5.0",
          "state": {
            "_dom_classes": [],
            "_model_module": "@jupyter-widgets/controls",
            "_model_module_version": "1.5.0",
            "_model_name": "VBoxModel",
            "_view_count": null,
            "_view_module": "@jupyter-widgets/controls",
            "_view_module_version": "1.5.0",
            "_view_name": "VBoxView",
            "box_style": "",
            "children": [
              "IPY_MODEL_ddcdd7fc9232451b921f1184ddae96cd",
              "IPY_MODEL_47e5bdcb93a94e6c9472480ebabf0bdc"
            ],
            "layout": "IPY_MODEL_5acd285fe3ca4e9a84f322800b3cfb14"
          }
        },
        "ddcdd7fc9232451b921f1184ddae96cd": {
          "model_module": "@jupyter-widgets/controls",
          "model_name": "LabelModel",
          "model_module_version": "1.5.0",
          "state": {
            "_dom_classes": [],
            "_model_module": "@jupyter-widgets/controls",
            "_model_module_version": "1.5.0",
            "_model_name": "LabelModel",
            "_view_count": null,
            "_view_module": "@jupyter-widgets/controls",
            "_view_module_version": "1.5.0",
            "_view_name": "LabelView",
            "description": "",
            "description_tooltip": null,
            "layout": "IPY_MODEL_eca56e40a78140f68fc2f70b1fd9faf4",
            "placeholder": "​",
            "style": "IPY_MODEL_288ef97288644e69bf949ce430b5bee9",
            "value": "0.009 MB of 0.009 MB uploaded (0.000 MB deduped)\r"
          }
        },
        "47e5bdcb93a94e6c9472480ebabf0bdc": {
          "model_module": "@jupyter-widgets/controls",
          "model_name": "FloatProgressModel",
          "model_module_version": "1.5.0",
          "state": {
            "_dom_classes": [],
            "_model_module": "@jupyter-widgets/controls",
            "_model_module_version": "1.5.0",
            "_model_name": "FloatProgressModel",
            "_view_count": null,
            "_view_module": "@jupyter-widgets/controls",
            "_view_module_version": "1.5.0",
            "_view_name": "ProgressView",
            "bar_style": "",
            "description": "",
            "description_tooltip": null,
            "layout": "IPY_MODEL_a0ef67593c33491c9378be9d40feb071",
            "max": 1,
            "min": 0,
            "orientation": "horizontal",
            "style": "IPY_MODEL_2c429af7b62e4f4ab00548cf0aebfb64",
            "value": 1
          }
        },
        "5acd285fe3ca4e9a84f322800b3cfb14": {
          "model_module": "@jupyter-widgets/base",
          "model_name": "LayoutModel",
          "model_module_version": "1.2.0",
          "state": {
            "_model_module": "@jupyter-widgets/base",
            "_model_module_version": "1.2.0",
            "_model_name": "LayoutModel",
            "_view_count": null,
            "_view_module": "@jupyter-widgets/base",
            "_view_module_version": "1.2.0",
            "_view_name": "LayoutView",
            "align_content": null,
            "align_items": null,
            "align_self": null,
            "border": null,
            "bottom": null,
            "display": null,
            "flex": null,
            "flex_flow": null,
            "grid_area": null,
            "grid_auto_columns": null,
            "grid_auto_flow": null,
            "grid_auto_rows": null,
            "grid_column": null,
            "grid_gap": null,
            "grid_row": null,
            "grid_template_areas": null,
            "grid_template_columns": null,
            "grid_template_rows": null,
            "height": null,
            "justify_content": null,
            "justify_items": null,
            "left": null,
            "margin": null,
            "max_height": null,
            "max_width": null,
            "min_height": null,
            "min_width": null,
            "object_fit": null,
            "object_position": null,
            "order": null,
            "overflow": null,
            "overflow_x": null,
            "overflow_y": null,
            "padding": null,
            "right": null,
            "top": null,
            "visibility": null,
            "width": null
          }
        },
        "eca56e40a78140f68fc2f70b1fd9faf4": {
          "model_module": "@jupyter-widgets/base",
          "model_name": "LayoutModel",
          "model_module_version": "1.2.0",
          "state": {
            "_model_module": "@jupyter-widgets/base",
            "_model_module_version": "1.2.0",
            "_model_name": "LayoutModel",
            "_view_count": null,
            "_view_module": "@jupyter-widgets/base",
            "_view_module_version": "1.2.0",
            "_view_name": "LayoutView",
            "align_content": null,
            "align_items": null,
            "align_self": null,
            "border": null,
            "bottom": null,
            "display": null,
            "flex": null,
            "flex_flow": null,
            "grid_area": null,
            "grid_auto_columns": null,
            "grid_auto_flow": null,
            "grid_auto_rows": null,
            "grid_column": null,
            "grid_gap": null,
            "grid_row": null,
            "grid_template_areas": null,
            "grid_template_columns": null,
            "grid_template_rows": null,
            "height": null,
            "justify_content": null,
            "justify_items": null,
            "left": null,
            "margin": null,
            "max_height": null,
            "max_width": null,
            "min_height": null,
            "min_width": null,
            "object_fit": null,
            "object_position": null,
            "order": null,
            "overflow": null,
            "overflow_x": null,
            "overflow_y": null,
            "padding": null,
            "right": null,
            "top": null,
            "visibility": null,
            "width": null
          }
        },
        "288ef97288644e69bf949ce430b5bee9": {
          "model_module": "@jupyter-widgets/controls",
          "model_name": "DescriptionStyleModel",
          "model_module_version": "1.5.0",
          "state": {
            "_model_module": "@jupyter-widgets/controls",
            "_model_module_version": "1.5.0",
            "_model_name": "DescriptionStyleModel",
            "_view_count": null,
            "_view_module": "@jupyter-widgets/base",
            "_view_module_version": "1.2.0",
            "_view_name": "StyleView",
            "description_width": ""
          }
        },
        "a0ef67593c33491c9378be9d40feb071": {
          "model_module": "@jupyter-widgets/base",
          "model_name": "LayoutModel",
          "model_module_version": "1.2.0",
          "state": {
            "_model_module": "@jupyter-widgets/base",
            "_model_module_version": "1.2.0",
            "_model_name": "LayoutModel",
            "_view_count": null,
            "_view_module": "@jupyter-widgets/base",
            "_view_module_version": "1.2.0",
            "_view_name": "LayoutView",
            "align_content": null,
            "align_items": null,
            "align_self": null,
            "border": null,
            "bottom": null,
            "display": null,
            "flex": null,
            "flex_flow": null,
            "grid_area": null,
            "grid_auto_columns": null,
            "grid_auto_flow": null,
            "grid_auto_rows": null,
            "grid_column": null,
            "grid_gap": null,
            "grid_row": null,
            "grid_template_areas": null,
            "grid_template_columns": null,
            "grid_template_rows": null,
            "height": null,
            "justify_content": null,
            "justify_items": null,
            "left": null,
            "margin": null,
            "max_height": null,
            "max_width": null,
            "min_height": null,
            "min_width": null,
            "object_fit": null,
            "object_position": null,
            "order": null,
            "overflow": null,
            "overflow_x": null,
            "overflow_y": null,
            "padding": null,
            "right": null,
            "top": null,
            "visibility": null,
            "width": null
          }
        },
        "2c429af7b62e4f4ab00548cf0aebfb64": {
          "model_module": "@jupyter-widgets/controls",
          "model_name": "ProgressStyleModel",
          "model_module_version": "1.5.0",
          "state": {
            "_model_module": "@jupyter-widgets/controls",
            "_model_module_version": "1.5.0",
            "_model_name": "ProgressStyleModel",
            "_view_count": null,
            "_view_module": "@jupyter-widgets/base",
            "_view_module_version": "1.2.0",
            "_view_name": "StyleView",
            "bar_color": null,
            "description_width": ""
          }
        }
      }
    }
  },
  "cells": [
    {
      "cell_type": "markdown",
      "metadata": {
        "id": "view-in-github",
        "colab_type": "text"
      },
      "source": [
        "<a href=\"https://colab.research.google.com/github/Ashish-Soni08/CoRise-Deep_Learning_Essentials/blob/main/Week3_Student_Ashish_Soni.ipynb\" target=\"_parent\"><img src=\"https://colab.research.google.com/assets/colab-badge.svg\" alt=\"Open In Colab\"/></a>"
      ]
    },
    {
      "cell_type": "markdown",
      "source": [
        "## Prerequisites:\n",
        "\n",
        "Run the below cell to install the dependencies for this project and mount the drive:"
      ],
      "metadata": {
        "id": "tcUSUQomg-pY"
      }
    },
    {
      "cell_type": "code",
      "source": [
        "#@title Installing packages\n",
        "%%capture\n",
        "!pip install numpy pandas matplotlib emoji==1.6.3 torch lrcurve gradio wandb fsspec dask[bag]"
      ],
      "metadata": {
        "id": "SU_ao81igG67",
        "cellView": "form"
      },
      "execution_count": null,
      "outputs": []
    },
    {
      "cell_type": "code",
      "source": [
        "from google.colab import drive\n",
        "import os\n",
        "import sys\n",
        "drive.mount('/content/drive', force_remount=False)\n",
        "\n",
        "#@markdown Specify the full \"DLE-Projects\" folder in your Google Drive. \n",
        "#@markdown You can find this by navigating in the folder icon tab on the left.\n",
        "directory = '/content/drive/MyDrive/DLE-Projects/' #@param {type:\"string\"}\n",
        "\n",
        "sys.path.append(directory)\n",
        "sys.path.append(os.path.join(directory, 'utils'))\n",
        "os.chdir(os.path.join(directory, 'Week3'))\n",
        "%matplotlib inline\n",
        "\n",
        "# This is the directory that local changes get saved to.\n",
        "# Change this if you'd like to save them somewhere else!\n",
        "os.chdir('/content/drive/MyDrive/Colab Notebooks/')\n"
      ],
      "metadata": {
        "id": "KlqaJcHHJiv0",
        "colab": {
          "base_uri": "https://localhost:8080/"
        },
        "outputId": "c56466d3-1e97-4052-aa3f-b2f568ebea2b"
      },
      "execution_count": null,
      "outputs": [
        {
          "output_type": "stream",
          "name": "stdout",
          "text": [
            "Mounted at /content/drive\n"
          ]
        }
      ]
    },
    {
      "cell_type": "code",
      "source": [
        "#@title Import packages\n",
        "%%capture\n",
        "%load_ext autoreload\n",
        "%autoreload 2 \n",
        "import gradio as gr\n",
        "import torch\n",
        "torch.backends.cudnn.benchmark = True\n",
        "import io\n",
        "import torch.nn as nn\n",
        "import math\n",
        "import numpy as np\n",
        "import matplotlib.pyplot as plt\n",
        "import emoji\n",
        "import wandb\n",
        "import pandas as pd\n",
        "from scipy.special import softmax\n",
        "from sklearn.metrics import accuracy_score, f1_score, classification_report\n",
        "import imageio\n",
        "import torchvision\n",
        "\n",
        "import constants as const\n",
        "from utils import *\n",
        "from quickdraw import *\n",
        "from assignment_helpers import *\n",
        "\n",
        "from torchvision import transforms, utils\n",
        "from PIL import Image\n",
        "import random\n",
        "\n",
        "os.environ['WANDB_START_METHOD']=\"thread\"\n",
        "torch.manual_seed(0)"
      ],
      "metadata": {
        "id": "zZJTVwa63r7-",
        "cellView": "form"
      },
      "execution_count": null,
      "outputs": []
    },
    {
      "cell_type": "markdown",
      "source": [
        "# Welcome to Week 3!\n",
        "\n",
        "This week, we'll be using our knowledge of building and training neural networks toward computer vision!\n",
        "\n",
        "## Overview of Week 3\n",
        "\n",
        "1. Convolutions\n",
        "  - First, you will be exploring the convolutional operation in PyTorch. Here, you'll get hands-on intuition for what happens under the hood of a Convolutional layer.\n",
        "2. Convolutional neural networks\n",
        "  - Building upon our model training and evaluation experience from last week, you will write, train, and evaluate your own convolutional neural network and compare its performance to an MLP.\n",
        "4. Experimenting with GANs\n",
        "  - Finally, you will go beyond classification and train a GAN (generative adversarial network). Here, you will fine-tune a pre-trained GAN on face styles, and then apply this style filter to your own face!\n"
      ],
      "metadata": {
        "id": "Lw_39UUTNaE5"
      }
    },
    {
      "cell_type": "markdown",
      "source": [
        "# Part 1: CNNs"
      ],
      "metadata": {
        "id": "BLtTBQMPPApW"
      }
    },
    {
      "cell_type": "markdown",
      "source": [
        "## The Convolutional Layer\n",
        "\n",
        "Convolutional Neural Networks (CNNs) the model of choice for most computer vision tasks, and they are behind the massive advances made in AI over the last 10 years. At the very core of CNNs are the convolutional layer. When you think of CNNs, you can think of many stacked convolutional layers.\n",
        "\n",
        "<img src=\"https://drive.google.com/uc?id=1iDkeAz-6Z0sysulWA3wvNid3AO0yayJR\" width=\"600\">\n",
        "\n",
        "In this first part, we will be probing into the convolutional layer. The goal here is to develop a deeper intuition for how and why they work!\n",
        "\n",
        "To implement a convolutional layer in PyTorch, just use ```nn.Conv2d()```.\n",
        "\n",
        "Read the documentation for this layer [here](https://pytorch.org/docs/stable/generated/torch.nn.Conv2d.html) and implement a 2D convolutional layer with 1 input channel, 3 output channel, and a 5x5 kernel:\n",
        "\n",
        "\n"
      ],
      "metadata": {
        "id": "LAKS8J4PQ85Z"
      }
    },
    {
      "cell_type": "code",
      "source": [
        "# TODO: Implement a 2D convolutional layer with 1 input channel, 3 output channel, and a 5x5 kernel\n",
        "\n",
        "conv_layer = nn.Conv2d(1, 3, (5, 5))\n",
        "\n",
        "check_answer(type(conv_layer)==nn.modules.conv.Conv2d and  conv_layer.in_channels==1 and conv_layer.out_channels==3 and conv_layer.kernel_size==(5, 5))"
      ],
      "metadata": {
        "id": "sP0JEoEoFyFg",
        "colab": {
          "base_uri": "https://localhost:8080/",
          "height": 64
        },
        "outputId": "3d2e0b5a-a6f9-46ca-aca2-de9a74e59915"
      },
      "execution_count": null,
      "outputs": [
        {
          "output_type": "execute_result",
          "data": {
            "text/plain": [
              "<IPython.core.display.Markdown object>"
            ],
            "text/markdown": "## Correct! 🎉"
          },
          "metadata": {},
          "execution_count": 4
        }
      ]
    },
    {
      "cell_type": "markdown",
      "source": [
        "Let's investigate this layer!\n",
        "\n",
        "First, we will look at the weights. In the cell below, compute and print the shape of ```conv_layer```'s weights. "
      ],
      "metadata": {
        "id": "8V7TIlGxkqzm"
      }
    },
    {
      "cell_type": "code",
      "source": [
        "# TODO: Compute and print the shape of the weights of conv_layer\n",
        "\n",
        "weights_shape = conv_layer.weight.shape\n",
        "\n",
        "print(f'Shape of the weights of conv_layer; {weights_shape}')\n",
        "\n",
        "check_answer(weights_shape==(3, 1, 5, 5))"
      ],
      "metadata": {
        "id": "LUkTpO2JksSI",
        "colab": {
          "base_uri": "https://localhost:8080/",
          "height": 82
        },
        "outputId": "346d1aae-47f2-4c97-9604-a9d790d7ba07"
      },
      "execution_count": null,
      "outputs": [
        {
          "output_type": "stream",
          "name": "stdout",
          "text": [
            "Shape of the weights of conv_layer; torch.Size([3, 1, 5, 5])\n"
          ]
        },
        {
          "output_type": "execute_result",
          "data": {
            "text/plain": [
              "<IPython.core.display.Markdown object>"
            ],
            "text/markdown": "## Correct! 🎉"
          },
          "metadata": {},
          "execution_count": 6
        }
      ]
    },
    {
      "cell_type": "code",
      "source": [
        "from IPython.display import display, Markdown\n",
        "#@title Pop Quiz! { vertical-output: true, form-width: \"500px\" }\n",
        "#@markdown \n",
        "#@markdown #####  Without writing any code, what is the first dimension of the following layer's weights? (Or in Python, the 0th)\n",
        "#@markdown ```nn.Conv2d(32, 64, 7)``` \n",
        "\n",
        "Answer =  64#@param {type:\"integer\"}\n",
        "\n",
        "#@markdown (Run cell to submit.) \n",
        "\n",
        "if Answer == 64:\n",
        "  display(Markdown('''\n",
        "  ### ***Correct! 🎉***\n",
        "  There are four dimensions to the weights of a convolutional layer:\n",
        "  \n",
        "  The first dimension is the number of output channels, the second dimension is the number of input channels, and the last two dimensions are the kernel size. \n",
        "  '''))\n",
        "else:\n",
        "  display(Markdown('### Answer is incorrect, try again!'))"
      ],
      "metadata": {
        "id": "EurfN8Q_kt-N",
        "cellView": "form",
        "colab": {
          "base_uri": "https://localhost:8080/",
          "height": 106
        },
        "outputId": "f703713d-b3f9-4a50-f152-3aecf380f2cb"
      },
      "execution_count": null,
      "outputs": [
        {
          "output_type": "display_data",
          "data": {
            "text/plain": [
              "<IPython.core.display.Markdown object>"
            ],
            "text/markdown": "\n  ### ***Correct! 🎉***\n  There are four dimensions to the weights of a convolutional layer:\n  \n  The first dimension is the number of output channels, the second dimension is the number of input channels, and the last two dimensions are the kernel size. \n  "
          },
          "metadata": {}
        }
      ]
    },
    {
      "cell_type": "markdown",
      "source": [
        "Next, let's feed data through this layer to see what it does to it.\n",
        "\n",
        "Notice that we'll need to add a \"channel\" dimension to an image in order to feed it through the layer.\n",
        "\n",
        "In the cell below, create a PyTorch tensor with dimensions (1, 64, 64) and print out the dimensions of the output from the layer."
      ],
      "metadata": {
        "id": "LPFHajgnkv8f"
      }
    },
    {
      "cell_type": "code",
      "source": [
        "# TODO: Create input -- PyTorch tensor with dimension (1, 64, 64)\n",
        "input_image = torch.Tensor(1, 64, 64)\n",
        "\n",
        "# TODO: Feed it through conv_layer\n",
        "conv_output = conv_layer(input_image)\n",
        "\n",
        "# TODO: Print dimensions\n",
        "print(conv_output.shape)\n",
        "\n",
        "check_answer(conv_output.size()==torch.Size([3, 60, 60]))"
      ],
      "metadata": {
        "id": "n0aGFL6jGCR2",
        "colab": {
          "base_uri": "https://localhost:8080/",
          "height": 82
        },
        "outputId": "43dc2828-d2ec-4a67-d504-48899a90426e"
      },
      "execution_count": null,
      "outputs": [
        {
          "output_type": "stream",
          "name": "stdout",
          "text": [
            "torch.Size([3, 60, 60])\n"
          ]
        },
        {
          "output_type": "execute_result",
          "data": {
            "text/plain": [
              "<IPython.core.display.Markdown object>"
            ],
            "text/markdown": "## Correct! 🎉"
          },
          "metadata": {},
          "execution_count": 14
        }
      ]
    },
    {
      "cell_type": "markdown",
      "source": [
        "Notice that the shape of the image has changed!\n",
        "\n",
        "It went from one \"slice\" of a 64x64 image to three \"slices\" of 60x60.\n",
        "\n",
        "So what happened?\n",
        "\n",
        "The convolutional operation cuts off part of the edges of the input image (this was covered in the lecture slides). Additionally, it creates three copies of the input image and performs separate convolutional operations on each of these copies according to different kernels (remember we had 3 5x5 kernels from the weights)."
      ],
      "metadata": {
        "id": "nDcoP-Gpky_E"
      }
    },
    {
      "cell_type": "code",
      "source": [
        "from IPython.display import display, Markdown\n",
        "#@title Pop Quiz! { vertical-output: true, form-width: \"500px\" }\n",
        "#@markdown \n",
        "#@markdown Without running the code below, what will the last line return (think about it)?\n",
        "\n",
        "#@markdown ```input_x = torch.Tensor(64, 124, 124)```\n",
        "\n",
        "#@markdown ```layer = nn.Conv2d(64, 128, 5)```\n",
        "\n",
        "#@markdown ```print(layer(input_x).size())```\n",
        "\n",
        "Answer = torch.Size([128, 120, 120]) #@param {type:\"raw\"}\n",
        "\n",
        "#@markdown (Run cell to submit.) \n",
        "\n",
        "if Answer == torch.Size([128, 120, 120]):\n",
        "  display(Markdown('''\n",
        "  ### ***Correct!*** 🎉\n",
        "  The convolutional layer \"shaves off\" 4 pixels off each side of the input image.\n",
        "\n",
        "  For an image with $n$ pixels on each side will have ($n-$ kernel_size $+1$) after passing through a convolutional layer.\n",
        "  \n",
        "  (One day, someone might ask you this in a job interview and you'll be happy to know this 😀)\n",
        "  '''))\n",
        "else:\n",
        "  display(Markdown('### Answer is incorrect, try again!'))"
      ],
      "metadata": {
        "id": "AwUEPizlk0bw",
        "cellView": "form",
        "colab": {
          "base_uri": "https://localhost:8080/",
          "height": 134
        },
        "outputId": "5a61364f-0a17-4138-de33-c28e3a398fe2"
      },
      "execution_count": null,
      "outputs": [
        {
          "output_type": "display_data",
          "data": {
            "text/plain": [
              "<IPython.core.display.Markdown object>"
            ],
            "text/markdown": "\n  ### ***Correct!*** 🎉\n  The convolutional layer \"shaves off\" 4 pixels off each side of the input image.\n\n  For an image with $n$ pixels on each side will have ($n-$ kernel_size $+1$) after passing through a convolutional layer.\n  \n  (One day, someone might ask you this in a job interview and you'll be happy to know this 😀)\n  "
          },
          "metadata": {}
        }
      ]
    },
    {
      "cell_type": "markdown",
      "source": [
        "Next, let's see how the convolutional layers actually work! (It's kind of neat)\n",
        "\n",
        "To do this, we will be manually specifying the weights of ```conv_layer```.\n",
        "\n",
        "In the cell below, set the weights as the three matrices described and zero out the bias."
      ],
      "metadata": {
        "id": "ITeEQm5Wk2z2"
      }
    },
    {
      "cell_type": "code",
      "source": [
        "''' TODO: First, create three PyTorch tensors:\n",
        "1. A 5x5 tensor that contains 1 on the 3rd column and zeros elsewhere:\n",
        "    0  0  1  0  0\n",
        "    0  0  1  0  0\n",
        "    0  0  1  0  0\n",
        "    0  0  1  0  0\n",
        "    0  0  1  0  0\n",
        "2. A 5x5 tensor that contains 1 on the 3rd row and zeros elsewhere:\n",
        "    0  0  0  0  0\n",
        "    0  0  0  0  0\n",
        "    1  1  1  1  1\n",
        "    0  0  0  0  0\n",
        "    0  0  0  0  0\n",
        "3. A 5x5 tensor that has 1s on the diagonal and zeros elsewhere:\n",
        "    1  0  0  0  0\n",
        "    0  1  0  0  0\n",
        "    0  0  1  0  0\n",
        "    0  0  0  1  0\n",
        "    0  0  0  0  1\n",
        "'''\n",
        "\n",
        "\n",
        "filter_1 = torch.zeros(1, 5, 5)\n",
        "filter_1[:,:,2]=1\n",
        "\n",
        "filter_2 = torch.zeros(1, 5, 5)\n",
        "filter_2[:,2,:]=1\n",
        "\n",
        "filter_3 = torch.zeros(1, 5, 5)\n",
        "filter_3[0].fill_diagonal_(1)\n",
        "# TODO: Next, using your PyTorch tensor manipulation prowess, find a way to set these three filters as the weights of conv_layer.\n",
        "\n",
        "conv_layer.weight = torch.nn.Parameter(torch.stack((filter_1,filter_2,filter_3),axis=0))\n",
        "# TODO: Finally, zero out the bias!\n",
        "\n",
        "conv_layer.bias = nn.Parameter(torch.zeros((3,)))"
      ],
      "metadata": {
        "id": "6WZwTDVhGme3"
      },
      "execution_count": null,
      "outputs": []
    },
    {
      "cell_type": "code",
      "source": [
        "#@markdown ### Run this cell to check your answer!\n",
        "\n",
        "check_answer(all(np.linalg.eig(conv_layer.weight[0][0].detach().numpy())[0]==[0., 0., 0., 0., 1.]) and \\\n",
        "             all(np.linalg.eig(conv_layer.weight[1][0].detach().numpy())[0] == [1., 0., 0., 0., 0.]) and \\\n",
        "             all(np.linalg.eig(conv_layer.weight[2][0].detach().numpy())[0] == [1., 1., 1., 1., 1.]))"
      ],
      "metadata": {
        "cellView": "form",
        "id": "yRfA4XjXIoPr",
        "colab": {
          "base_uri": "https://localhost:8080/",
          "height": 64
        },
        "outputId": "fc072e39-a186-4a45-aab4-830094ac0a79"
      },
      "execution_count": null,
      "outputs": [
        {
          "output_type": "execute_result",
          "data": {
            "text/plain": [
              "<IPython.core.display.Markdown object>"
            ],
            "text/markdown": "## Correct! 🎉"
          },
          "metadata": {},
          "execution_count": 18
        }
      ]
    },
    {
      "cell_type": "markdown",
      "source": [
        "Now that we've set up our own convolutional layer, let's see how it works!\n",
        "\n",
        "Run the cell below.\n",
        "\n",
        "In the sketchpad, draw any shape (start with a circle). This is just intuition building for you -- notice what parts of the shape are highlighted for each filter.\n",
        "\n",
        "Remember, the first filter is a vertical line, the second is a horizontal line, and the third is a diagonal."
      ],
      "metadata": {
        "id": "7vw36KIwk7TM"
      }
    },
    {
      "cell_type": "code",
      "source": [
        "'''\n",
        "If you did the above correctly, then you should be able to just press run on the demo below!\n",
        "'''\n",
        "\n",
        "def get_filters(image):\n",
        "    image = 1. - image / 255.\n",
        "    pt_input = torch.Tensor(image).view(1, 1, image.shape[0], image.shape[1])\n",
        "    conv_output = conv_layer(pt_input).detach().numpy()[0]\n",
        "    num_filters = conv_output.shape[0]\n",
        "    fig, axes = plt.subplots(1, num_filters)\n",
        "    fig.set_size_inches(8, 4)\n",
        "    fig.tight_layout(pad=0.5)\n",
        "    \n",
        "    for i in range(num_filters):\n",
        "        ax = axes[i]\n",
        "        ax.axes.xaxis.set_visible(False)\n",
        "        ax.axes.yaxis.set_visible(False)\n",
        "        ax.imshow(conv_output[i], cmap='seismic_r')\n",
        "        ax.title.set_text(f'Convolution w/ \\n filter {i+1}')\n",
        "\n",
        "    fig.canvas.draw()\n",
        "    data = np.frombuffer(fig.canvas.tostring_rgb(), dtype=np.uint8)\n",
        "    data = data.reshape(fig.canvas.get_width_height()[::-1] + (3,))\n",
        "    plt.close()\n",
        "    \n",
        "    return data\n",
        "\n",
        "\n",
        "see_filters = gr.Interface(get_filters, inputs='sketchpad', outputs='image', live=True).launch(debug=True)"
      ],
      "metadata": {
        "id": "M7lvWhJyk88M",
        "colab": {
          "base_uri": "https://localhost:8080/",
          "height": 963
        },
        "outputId": "078d5d3c-7c35-427e-ea35-39edf6bc07a0"
      },
      "execution_count": null,
      "outputs": [
        {
          "output_type": "stream",
          "name": "stdout",
          "text": [
            "Hint: Set streaming=True for Sketchpad component to use live streaming.\n",
            "Colab notebook detected. This cell will run indefinitely so that you can see errors and logs. To turn off, set debug=False in launch().\n",
            "\n",
            "Using Embedded Colab Mode (NEW). If you have issues, please use share=True and file an issue at https://github.com/gradio-app/gradio/\n",
            "Note: opening the browser inspector may crash Embedded Colab Mode.\n",
            "\n",
            "To create a public link, set `share=True` in `launch()`.\n"
          ]
        },
        {
          "output_type": "display_data",
          "data": {
            "text/plain": [
              "<IPython.core.display.Javascript object>"
            ],
            "application/javascript": [
              "(async (port, path, width, height, cache, element) => {\n",
              "                        if (!google.colab.kernel.accessAllowed && !cache) {\n",
              "                            return;\n",
              "                        }\n",
              "                        element.appendChild(document.createTextNode(''));\n",
              "                        const url = await google.colab.kernel.proxyPort(port, {cache});\n",
              "\n",
              "                        const external_link = document.createElement('div');\n",
              "                        external_link.innerHTML = `\n",
              "                            <div style=\"font-family: monospace; margin-bottom: 0.5rem\">\n",
              "                                Running on <a href=${new URL(path, url).toString()} target=\"_blank\">\n",
              "                                    https://localhost:${port}${path}\n",
              "                                </a>\n",
              "                            </div>\n",
              "                        `;\n",
              "                        element.appendChild(external_link);\n",
              "\n",
              "                        const iframe = document.createElement('iframe');\n",
              "                        iframe.src = new URL(path, url).toString();\n",
              "                        iframe.height = height;\n",
              "                        iframe.allow = \"autoplay; camera; microphone; clipboard-read; clipboard-write;\"\n",
              "                        iframe.width = width;\n",
              "                        iframe.style.border = 0;\n",
              "                        element.appendChild(iframe);\n",
              "                    })(7860, \"/\", \"100%\", 500, false, window.element)"
            ]
          },
          "metadata": {}
        },
        {
          "output_type": "stream",
          "name": "stderr",
          "text": [
            "Traceback (most recent call last):\n",
            "  File \"/usr/local/lib/python3.7/dist-packages/gradio/routes.py\", line 285, in run_predict\n",
            "    fn_index, raw_input, username, session_state, iterators\n",
            "  File \"/usr/local/lib/python3.7/dist-packages/gradio/blocks.py\", line 982, in process_api\n",
            "    result = await self.call_function(fn_index, inputs, iterator)\n",
            "  File \"/usr/local/lib/python3.7/dist-packages/gradio/blocks.py\", line 825, in call_function\n",
            "    block_fn.fn, *processed_input, limiter=self.limiter\n",
            "  File \"/usr/local/lib/python3.7/dist-packages/anyio/to_thread.py\", line 32, in run_sync\n",
            "    func, *args, cancellable=cancellable, limiter=limiter\n",
            "  File \"/usr/local/lib/python3.7/dist-packages/anyio/_backends/_asyncio.py\", line 937, in run_sync_in_worker_thread\n",
            "    return await future\n",
            "  File \"/usr/local/lib/python3.7/dist-packages/anyio/_backends/_asyncio.py\", line 867, in run\n",
            "    result = context.run(func, *args)\n",
            "  File \"<ipython-input-19-95e1d58560a3>\", line 6, in get_filters\n",
            "    image = 1. - image / 255.\n",
            "TypeError: unsupported operand type(s) for /: 'NoneType' and 'float'\n"
          ]
        },
        {
          "output_type": "stream",
          "name": "stdout",
          "text": [
            "Keyboard interruption in main thread... closing server.\n"
          ]
        }
      ]
    },
    {
      "cell_type": "markdown",
      "source": [
        "Great! Hopefully, you will see that the reason why kernels work is because they highlight different features in the image, depending on what the values are!\n",
        "\n",
        "**Bonus**\n",
        "\n",
        "A few things to consider when trying to understand these plots:\n",
        "\n",
        "1. See what happens when you draw something on the border. The output of the convolutional layer seems to get cut off! This is partially due to the fact that the image shrinks. In defining the Conv2d layer, there is a parameter called ```padding```. Setting ```padding='same'``` will add zeros to the input before passing it through. Add this parameter in and see if this helps when you are drawing things near the border!\n",
        "\n",
        "2. You might notice that sometimes, horizontal lines will \"active\" under the filter with the vertical line. This is due to the thickness of the pen stroke in the sketchpad. Will doubling the thickness in the filter change this?\n",
        "\n",
        "3. You don't/shouldn't spend too much time on this, but are there other types of filters you can think of that show up when used? Feel free to go back to the previous cells to change them around."
      ],
      "metadata": {
        "id": "14d9a_j0k_SU"
      }
    },
    {
      "cell_type": "markdown",
      "source": [
        "### Pooling layers\n",
        "\n",
        "Pooling layers are commonly combined with convolutional layers to improve model efficiency and power. Let's gain some intuition on what's going on when we use a pooling layer.\n",
        "\n",
        "PyTorch has two types of pooling layers: `MaxPool2d`, and `AvgPool2d`. Each takes a parameter, `kernel_size`, which determines by what factor to pool the image by.\n",
        "\n",
        "**TODO**: Given the image in ```img```, visualize the images that are outputted by 1) average pooling, and 2) max pooling. For both, use a kernel size of 8."
      ],
      "metadata": {
        "id": "QDkahoaJTnUg"
      }
    },
    {
      "cell_type": "code",
      "source": [
        "# The image is loaded into img\n",
        "img = torch.tensor(imageio.imread(os.path.join(directory, 'assets/puppy.jpeg'))).permute(2, 0, 1)/255.\n",
        "\n",
        "plt.imshow(img.permute(1, 2, 0))\n",
        "plt.show()\n",
        "# Note: permute() moves the channel dimension to end. \n",
        "# We do this to follow Matplotlib convention of \"channels last\", while PyTorch is \"channels first\"\n",
        "\n",
        "# TODO: Create a nn.AvgPool2d(8) layer and apply it to the image.\n",
        "avg_pool = nn.AvgPool2d(8)\n",
        "avg_img = avg_pool(img)\n",
        "# TODO: Visualize the image. You will have to use .permute() and .numpy() to plot it!\n",
        "plt.imshow(avg_img.permute(1, 2, 0))\n",
        "plt.show()\n",
        "\n",
        "# TODO: Do the same with a nn.MaxPool2d(8) layer.\n",
        "max_pool = nn.MaxPool2d(8)\n",
        "max_img = max_pool(img)\n",
        "plt.imshow(max_img.permute(1, 2, 0))\n",
        "plt.show()\n",
        "\n",
        "check_answer(round(np.linalg.norm(avg_img))==25 and round(np.linalg.norm(max_img))==29)"
      ],
      "metadata": {
        "id": "war8euu3LFXw",
        "colab": {
          "base_uri": "https://localhost:8080/",
          "height": 812
        },
        "outputId": "4b2f72f7-405f-40e4-935f-f499d0c53852"
      },
      "execution_count": null,
      "outputs": [
        {
          "output_type": "display_data",
          "data": {
            "text/plain": [
              "<Figure size 432x288 with 1 Axes>"
            ],
            "image/png": "[encoded data removed]"
          },
          "metadata": {
            "needs_background": "light"
          }
        },
        {
          "output_type": "display_data",
          "data": {
            "text/plain": [
              "<Figure size 432x288 with 1 Axes>"
            ],
            "image/png": "[encoded data removed]"
          },
          "metadata": {
            "needs_background": "light"
          }
        },
        {
          "output_type": "display_data",
          "data": {
            "text/plain": [
              "<Figure size 432x288 with 1 Axes>"
            ],
            "image/png": "[encoded data removed]"
          },
          "metadata": {
            "needs_background": "light"
          }
        },
        {
          "output_type": "execute_result",
          "data": {
            "text/plain": [
              "<IPython.core.display.Markdown object>"
            ],
            "text/markdown": "## Correct! 🎉"
          },
          "metadata": {},
          "execution_count": 20
        }
      ]
    },
    {
      "cell_type": "markdown",
      "source": [
        "As you'll notice, both layers accomplish similar tasks -- reducing the dimension of the image while preserving the general gist of it!\n",
        "\n",
        "Can you think of some differences in the image and how taking average would be different than taking a max?"
      ],
      "metadata": {
        "id": "8j9R7pDLH9DF"
      }
    },
    {
      "cell_type": "markdown",
      "source": [
        "## 2. Convolutional Neural networks"
      ],
      "metadata": {
        "id": "m2ZbbRGURBQi"
      }
    },
    {
      "cell_type": "markdown",
      "source": [
        "Our goal this week is to *improve* the model that you trained last week with convolutional layers. \n",
        "\n",
        "Notice that last week, all of our neural network training was performed on the CPU. This week, as we scale up the size of our models, we will harness the power of GPUs!\n",
        "\n",
        "PyTorch makes this simple to do. In order to train on GPUs, PyTorch needs to first know the name of the GPU device we hope to train on. This is done by:\n",
        "\n",
        "    device = torch.device('cuda')\n",
        "\n",
        "*Cuda* is the name of the library that performs neural network operations on the GPU. Now, we use the `device` variable to send *1) data* and *2) weights* to the GPU. We can do this with the `.to(device)` call.\n",
        "\n",
        "For instance, to send a PyTorch Tensor `x` to GPU, do:\n",
        "\n",
        "    x.to(device)\n",
        "\n",
        "\n",
        "**TODO**: Copy/paste your QuickDraw `Dataset` class from last week in the cell below. Then, send the `X` and `y` variables in the `__getitem__` method of your `Dataset` class to GPU. Then, instantiate the `train_dataloader`, `val_dataloader`, and `test_dataloader` variables like you had last week."
      ],
      "metadata": {
        "id": "HB_eGygmRk8_"
      }
    },
    {
      "cell_type": "code",
      "source": [
        "data_dir = './data'\n",
        "labels = list(const.DOODLE_TO_EMOJI_MAP.keys())\n",
        "device = torch.device('cuda')\n",
        "\n",
        "\n",
        "... # TODO: Copy your Dataset class here and modify the __getitem__() function\n",
        "class QuickDrawDataset(torch.utils.data.Dataset):\n",
        "  def __init__(self, data_dir=None, class_names=None, device=None):\n",
        "        super().__init__()\n",
        "        \n",
        "        # TODO: Initialize data_dir, class_names, and num_classes instance variables\n",
        "        self.data_dir = data_dir\n",
        "        self.class_names = class_names\n",
        "        self.num_classes = len(class_names)\n",
        "        self.max_items_per_class = 20000\n",
        "        self.device = device\n",
        "\n",
        "        # TODO: Run download_quickdraw_dataset\n",
        "        download_quickdraw_dataset(data_dir, class_names)\n",
        "\n",
        "        # TODO: Get and set X, Y\n",
        "        self.X, self.Y = load_quickdraw_data(data_dir, class_names, self.max_items_per_class)\n",
        "\n",
        "  def __getitem__(self, idx):\n",
        "\n",
        "        # TODO: Get X[idx] \n",
        "        # TODO: Reshape image to (1, 28, 28)\n",
        "        # TODO: Convert datatype to np.float32\n",
        "        # TODO: Normalize image to [0, 1] range\n",
        "        # TODO: Return cleaned up x, y\n",
        "\n",
        "        x = self.X[idx]\n",
        "        x = np.reshape(x, (1,28,28))\n",
        "        x = x.astype(np.float32)\n",
        "        x /= 255\n",
        "        x = torch.tensor(x).to(device)\n",
        "\n",
        "        y = torch.tensor(self.Y[idx]).to(device)\n",
        "\n",
        "        return x, y\n",
        "\n",
        "  def __len__(self):\n",
        "\n",
        "        # TODO: Return the number of images in X\n",
        "        len_X = self.X.shape[0]\n",
        "        \n",
        "        return len_X\n",
        "    \n",
        "  def split(self, pct=0.1, seed=0):\n",
        "\n",
        "        # Nothing to do here, this function just splits your data\n",
        "\n",
        "        torch.manual_seed(seed)\n",
        "        indices = torch.randperm(len(self)).tolist()\n",
        "        n_pct = math.floor(len(indices) * pct)\n",
        "        train_ds = torch.utils.data.Subset(self, indices[:-(2*n_pct)])\n",
        "        val_ds = torch.utils.data.Subset(self, indices[-(2*n_pct):-n_pct])\n",
        "        test_ds = torch.utils.data.Subset(self, indices[-n_pct:])\n",
        "        return train_ds, val_ds, test_ds\n",
        "\n",
        "ds = QuickDrawDataset(data_dir,\n",
        "                      class_names=labels,\n",
        "                      device=device)\n",
        "\n",
        "# The rest of this code creates the appropriate variables!\n",
        "train_ds, val_ds, test_ds = ds.split(pct=0.1)\n",
        "\n",
        "batch_size = 64\n",
        "train_dataloader = torch.utils.data.DataLoader(train_ds, batch_size=batch_size, shuffle=True)\n",
        "val_dataloader = torch.utils.data.DataLoader(val_ds, batch_size=batch_size, shuffle=True)\n",
        "test_dataloader = torch.utils.data.DataLoader(test_ds, batch_size=batch_size, shuffle=True)"
      ],
      "metadata": {
        "id": "L8VW6wjFM0bf",
        "colab": {
          "base_uri": "https://localhost:8080/",
          "height": 84,
          "referenced_widgets": [
            "eaf089b31bd14fe4b994bf58dc50aabe",
            "4ee6a88f56c748d5bb69340dfbcaf240",
            "cd189f663ff94ef6aedade0ef02e807a",
            "c3f45832cb5d4e598d96004c1ddbae5c",
            "69b710e8100a46b4bf30c6267c39a12d",
            "7c5bec9ec88f4c80acd7dc5fe05384a3",
            "4b3955a9ea214fff941d0d0831ff9c38",
            "b6230a4092d64ac28652c8d39905c3c1",
            "36602867198a4530979bec79e4f8ea03",
            "48c7cdc8ed2c48a585eac682215c09bb",
            "42eed6e3a2cc44fba2442e8be48af128"
          ]
        },
        "outputId": "24259774-121a-4c85-99bc-6623e7b3c387"
      },
      "execution_count": null,
      "outputs": [
        {
          "output_type": "stream",
          "name": "stdout",
          "text": [
            "Downloading Quickdraw Dataset...\n"
          ]
        },
        {
          "output_type": "display_data",
          "data": {
            "text/plain": [
              "  0%|          | 0/10 [00:00<?, ?it/s]"
            ],
            "application/vnd.jupyter.widget-view+json": {
              "version_major": 2,
              "version_minor": 0,
              "model_id": "eaf089b31bd14fe4b994bf58dc50aabe"
            }
          },
          "metadata": {}
        },
        {
          "output_type": "stream",
          "name": "stdout",
          "text": [
            "Loading 20000 examples for each class from the Quickdraw Dataset...\n"
          ]
        }
      ]
    },
    {
      "cell_type": "code",
      "source": [
        "#@title Run this cell to check your answer!\n",
        "torch.manual_seed(0)\n",
        "cond = train_ds[0][0].get_device() == torch.cuda.current_device()\n",
        "cond &= train_ds[0][1].get_device() == torch.cuda.current_device()\n",
        "check_answer(cond)"
      ],
      "metadata": {
        "id": "YM2Yrw6ZOGQJ",
        "colab": {
          "base_uri": "https://localhost:8080/",
          "height": 64
        },
        "outputId": "0047ea01-a9d1-432d-c96f-5e34ed409b50"
      },
      "execution_count": null,
      "outputs": [
        {
          "output_type": "execute_result",
          "data": {
            "text/plain": [
              "<IPython.core.display.Markdown object>"
            ],
            "text/markdown": "## Correct! 🎉"
          },
          "metadata": {},
          "execution_count": 29
        }
      ]
    },
    {
      "cell_type": "markdown",
      "source": [
        "## 3. Creating the `CNN` class\n",
        "\n",
        "Introducing `nn.Sequential`:\n",
        "    \n",
        "    nn.Sequential(\n",
        "              nn.Conv2d(1,20,5),\n",
        "              nn.ReLU(),\n",
        "              nn.Conv2d(20,64,5),\n",
        "              nn.ReLU()\n",
        "            )\n",
        "    \n",
        "\n",
        "**TODO**: Using `nn.Sequential`, create a PyTorch model class (call it `CNN`) with the following specifications. For all `Conv2d` layers, set the kernel size to `3`.\n",
        "\n",
        "- A `Conv2D` layer with `1` input channel and `8` output channels and `ReLU` activation function\n",
        "- A `Conv2D` layer with `8` input channels and `16` output channels and `ReLU` activation function\n",
        "- A `MaxPool2d` layer with kernel size of `2`\n",
        "- A `Conv2D` layer with `16` input channels and `32` output channels and `ReLU` activation function\n",
        "- A `Conv2D` layer with `32` input channels and `64` output channels and `ReLU` activation function\n",
        "- A `MaxPool2d` layer with kernel size of `2`\n",
        "- A `Conv2D` layer with `64` input channels and `128` output channels and `ReLU` activation function\n",
        "- A `MaxPool2d` layer with kernel size of `2`\n",
        "- A `Flatten` layer with `start_dim=1` and `end_dim=-1`\n",
        "- A Linear layer with `128` input nodes and `10` output nodes."
      ],
      "metadata": {
        "id": "tIW_xps7X2BD"
      }
    },
    {
      "cell_type": "code",
      "source": [
        "class CNN(nn.Module):\n",
        "  def __init__(self):\n",
        "    super().__init__()\n",
        "\n",
        "    # TODO: Implement the layers!\n",
        "    self.model = nn.Sequential(\n",
        "         nn.Conv2d(1,8,3),\n",
        "          nn.ReLU(),\n",
        "          nn.Conv2d(8,16,3),\n",
        "          nn.ReLU(),\n",
        "          nn.MaxPool2d(2),\n",
        "          nn.Conv2d(16,32,3),\n",
        "          nn.ReLU(),\n",
        "          nn.Conv2d(32,64,3),\n",
        "          nn.ReLU(),\n",
        "          nn.MaxPool2d(2),\n",
        "          nn.Conv2d(64,128,3),\n",
        "          nn.ReLU(),\n",
        "          nn.MaxPool2d(2),\n",
        "          nn.Flatten(1, -1),\n",
        "          nn.Linear(128,10)\n",
        "    )\n",
        "    \n",
        "  def forward(self, x):\n",
        "    return self.model(x)"
      ],
      "metadata": {
        "id": "vZojP9wwg3mn"
      },
      "execution_count": null,
      "outputs": []
    },
    {
      "cell_type": "code",
      "source": [
        "#@title Run this cell to check your answer!\n",
        "torch.manual_seed(0)\n",
        "test_model = CNN()\n",
        "check_answer(test_model(torch.rand(64, 1, 28, 28)).shape == (64, 10))\n",
        "check_answer(math.isclose(test_model(torch.zeros(64, 1, 28, 28)).sum(), -4.367159, abs_tol=1e-5))\n",
        "cond = True\n",
        "layers = list(test_model.modules())[1]\n",
        "cond &= (layers[0].in_channels == 1)\n",
        "cond &= (layers[0].out_channels == 8)\n",
        "cond &= (layers[2].in_channels == 8)\n",
        "cond &= (layers[2].out_channels == 16)\n",
        "cond &= (layers[5].in_channels == 16)\n",
        "cond &= (layers[5].out_channels == 32)\n",
        "cond &= (layers[7].in_channels == 32)\n",
        "cond &= (layers[7].out_channels == 64)\n",
        "cond &= (layers[10].in_channels == 64)\n",
        "cond &= (layers[10].out_channels == 128)\n",
        "cond &= all([str(layers[x]) == 'ReLU()' for x in [1,3,6,8,11]])\n",
        "cond &= all([str(layers[x]) == 'MaxPool2d(kernel_size=2, stride=2, padding=0, dilation=1, ceil_mode=False)' for x in [4,9,12]])\n",
        "cond &= str(layers[13]) == 'Flatten(start_dim=1, end_dim=-1)'\n",
        "cond &= (layers[14].in_features == 128) & (layers[14].out_features == 10)\n",
        "check_answer(cond)\n"
      ],
      "metadata": {
        "cellView": "form",
        "id": "OP9Zr10T60SY",
        "colab": {
          "base_uri": "https://localhost:8080/",
          "height": 64
        },
        "outputId": "b76cc82b-9fcf-499a-89fc-cf1d1ff7c869"
      },
      "execution_count": null,
      "outputs": [
        {
          "output_type": "execute_result",
          "data": {
            "text/plain": [
              "<IPython.core.display.Markdown object>"
            ],
            "text/markdown": "## Correct! 🎉"
          },
          "metadata": {},
          "execution_count": 31
        }
      ]
    },
    {
      "cell_type": "markdown",
      "source": [
        "## 4. Training your CNN\n",
        "\n",
        "This week we are providing you with `train` and `evaluate` functions. These will look very similar to what you implemented last week! In fact, feel free to use your own functions if you are inclined.\n",
        "\n",
        "\n",
        "\n",
        "**TODO**: Train the `CNN` model with the following hyperparameters:\n",
        "- Learning rate: `1e-4`\n",
        "- Optimizer: `Adam`\n",
        "- Loss function: `CrossEntropyLoss`\n",
        "- Epochs: `15`\n",
        "- Implement early stopping:\n",
        "  - After every training epoch, evaluate the validation accuracy of the model.\n",
        "  - Keep track of the best validation accuracy.\n",
        "  - If the validation accuracy increases, keep training.\n",
        "  - If the validation accuracy has not improved in 3 epochs, stop training.\n",
        "- Send the model to GPU\n",
        "\n",
        "\n"
      ],
      "metadata": {
        "id": "bW08KXOQ26bX"
      }
    },
    {
      "cell_type": "code",
      "source": [
        "from train import *\n",
        "\n",
        "cuda = torch.device('cuda')\n",
        "model = CNN().to(device) # TODO: send to GPU!\n",
        "\n",
        "def train(epochs=10, model=None, train_dataloader=None, val_dataloader=None, optimizer=None, loss_fn=None, use_wandb=False, run_name=None, early_stopping=False):\n",
        "\n",
        "  if use_wandb:\n",
        "\n",
        "    wandb.init(config={\"batch_size\": 32,\"a\": run_name})\n",
        "  \n",
        "  acc_i=[]\n",
        "\n",
        "  for i in torch.arange(epochs):\n",
        "\n",
        "    for batch_idx,(X,Y) in enumerate(train_dataloader):\n",
        "\n",
        "      # Reset gradients\n",
        "      # https://pytorch.org/tutorials/recipes/recipes/zeroing_out_gradients.html\n",
        "      optimizer.zero_grad()\n",
        "\n",
        "      # Forward  \n",
        "      logits = model(X)\n",
        "\n",
        "      # Loss\n",
        "      loss=loss_fn(logits,Y)\n",
        "\n",
        "      # Backprop\n",
        "      loss.backward()\n",
        "      \n",
        "      # Update weights\n",
        "      optimizer.step()\n",
        "\n",
        "      # Use wandb.log() to store the loss every 100 steps\n",
        "      # https://docs.wandb.ai/guides/integrations/pytorch\n",
        "      if batch_idx % 100 == 0 and use_wandb:\n",
        "        wandb.log({\"loss\": loss})\n",
        "\n",
        "    if val_dataloader is not None:\n",
        "\n",
        "      acc=evaluate(model,val_dataloader)\n",
        "      acc_i.append(acc)\n",
        "\n",
        "      # Stopping condition  \n",
        "      if i > 2 and acc <= max(acc_i[-3:]) and early_stopping:\n",
        "        print(\"Early stopping: Acc=%s and -3 step best acc=%s\"%(acc,max(acc_i[-3:])))\n",
        "        break  \n",
        "\n",
        "      # Log\n",
        "      print(\"Val acc: %s\"%acc)\n",
        "      if use_wandb:\n",
        "        wandb.log({\"val_acc\": acc})\n",
        "# TODO: Initialize optimizer and loss function\n",
        "optimizer = torch.optim.Adam(model.parameters(), lr=1e-4) \n",
        "loss_fn = nn.CrossEntropyLoss()\n",
        "train(epochs=15,\n",
        "      model=model, \n",
        "      train_dataloader=train_dataloader, \n",
        "      val_dataloader=val_dataloader, \n",
        "      optimizer=optimizer, \n",
        "      loss_fn=loss_fn,\n",
        "      use_wandb=True)"
      ],
      "metadata": {
        "id": "Nk7o6mXunGL2",
        "colab": {
          "base_uri": "https://localhost:8080/",
          "height": 638,
          "referenced_widgets": [
            "85fc6d8e0dfc41baa562e36a613dce49",
            "ddcdd7fc9232451b921f1184ddae96cd",
            "47e5bdcb93a94e6c9472480ebabf0bdc",
            "5acd285fe3ca4e9a84f322800b3cfb14",
            "eca56e40a78140f68fc2f70b1fd9faf4",
            "288ef97288644e69bf949ce430b5bee9",
            "a0ef67593c33491c9378be9d40feb071",
            "2c429af7b62e4f4ab00548cf0aebfb64"
          ]
        },
        "outputId": "11613c2b-eec3-4d9f-9604-baffc24375aa"
      },
      "execution_count": null,
      "outputs": [
        {
          "output_type": "display_data",
          "data": {
            "text/plain": [
              "<IPython.core.display.HTML object>"
            ],
            "text/html": [
              "Finishing last run (ID:2uhzagcs) before initializing another..."
            ]
          },
          "metadata": {}
        },
        {
          "output_type": "display_data",
          "data": {
            "text/plain": [
              "<IPython.core.display.HTML object>"
            ],
            "text/html": [
              "Waiting for W&B process to finish... <strong style=\"color:green\">(success).</strong>"
            ]
          },
          "metadata": {}
        },
        {
          "output_type": "display_data",
          "data": {
            "text/plain": [
              "VBox(children=(Label(value='0.001 MB of 0.009 MB uploaded (0.000 MB deduped)\\r'), FloatProgress(value=0.082276…"
            ],
            "application/vnd.jupyter.widget-view+json": {
              "version_major": 2,
              "version_minor": 0,
              "model_id": "85fc6d8e0dfc41baa562e36a613dce49"
            }
          },
          "metadata": {}
        },
        {
          "output_type": "display_data",
          "data": {
            "text/plain": [
              "<IPython.core.display.HTML object>"
            ],
            "text/html": [
              "<style>\n",
              "    table.wandb td:nth-child(1) { padding: 0 10px; text-align: left ; width: auto;} td:nth-child(2) {text-align: left ; width: 100%}\n",
              "    .wandb-row { display: flex; flex-direction: row; flex-wrap: wrap; justify-content: flex-start; width: 100% }\n",
              "    .wandb-col { display: flex; flex-direction: column; flex-basis: 100%; flex: 1; padding: 10px; }\n",
              "    </style>\n",
              "<div class=\"wandb-row\"><div class=\"wandb-col\"><h3>Run history:</h3><br/><table class=\"wandb\"><tr><td>loss</td><td>█▅▅▅▂▃▃▄▅▃▃▄▃▃▃▂▂▃▃▃▂▃▂▂▃▁▂▂▃▃▂▁▂▂▁▁▃▂▂▁</td></tr><tr><td>val_acc</td><td>▁▃▅▅▆▆▇▇▇▇▇██</td></tr></table><br/></div><div class=\"wandb-col\"><h3>Run summary:</h3><br/><table class=\"wandb\"><tr><td>loss</td><td>0.0873</td></tr><tr><td>val_acc</td><td>0.90935</td></tr></table><br/></div></div>"
            ]
          },
          "metadata": {}
        },
        {
          "output_type": "display_data",
          "data": {
            "text/plain": [
              "<IPython.core.display.HTML object>"
            ],
            "text/html": [
              "Synced <strong style=\"color:#cdcd00\">eternal-forest-3</strong>: <a href=\"https://wandb.ai/ashish08/deep-learning-essentials/runs/2uhzagcs\" target=\"_blank\">https://wandb.ai/ashish08/deep-learning-essentials/runs/2uhzagcs</a><br/>Synced 4 W&B file(s), 0 media file(s), 0 artifact file(s) and 0 other file(s)"
            ]
          },
          "metadata": {}
        },
        {
          "output_type": "display_data",
          "data": {
            "text/plain": [
              "<IPython.core.display.HTML object>"
            ],
            "text/html": [
              "Find logs at: <code>./wandb/run-20221105_100122-2uhzagcs/logs</code>"
            ]
          },
          "metadata": {}
        },
        {
          "output_type": "display_data",
          "data": {
            "text/plain": [
              "<IPython.core.display.HTML object>"
            ],
            "text/html": [
              "Successfully finished last run (ID:2uhzagcs). Initializing new run:<br/>"
            ]
          },
          "metadata": {}
        },
        {
          "output_type": "display_data",
          "data": {
            "text/plain": [
              "<IPython.core.display.HTML object>"
            ],
            "text/html": [
              "Tracking run with wandb version 0.13.5"
            ]
          },
          "metadata": {}
        },
        {
          "output_type": "display_data",
          "data": {
            "text/plain": [
              "<IPython.core.display.HTML object>"
            ],
            "text/html": [
              "Run data is saved locally in <code>/content/drive/MyDrive/Colab Notebooks/wandb/run-20221105_100759-3j715w44</code>"
            ]
          },
          "metadata": {}
        },
        {
          "output_type": "display_data",
          "data": {
            "text/plain": [
              "<IPython.core.display.HTML object>"
            ],
            "text/html": [
              "Syncing run <strong><a href=\"https://wandb.ai/ashish08/uncategorized/runs/3j715w44\" target=\"_blank\">astral-elevator-4</a></strong> to <a href=\"https://wandb.ai/ashish08/uncategorized\" target=\"_blank\">Weights & Biases</a> (<a href=\"https://wandb.me/run\" target=\"_blank\">docs</a>)<br/>"
            ]
          },
          "metadata": {}
        },
        {
          "output_type": "stream",
          "name": "stdout",
          "text": [
            "Val acc: 0.7825\n",
            "Val acc: 0.8242\n",
            "Val acc: 0.8452\n",
            "Val acc: 0.85995\n",
            "Val acc: 0.86795\n",
            "Val acc: 0.87895\n",
            "Val acc: 0.88425\n",
            "Val acc: 0.8887\n",
            "Val acc: 0.88925\n",
            "Val acc: 0.893\n",
            "Val acc: 0.90135\n",
            "Val acc: 0.8998\n",
            "Val acc: 0.90275\n",
            "Val acc: 0.90605\n",
            "Val acc: 0.9048\n"
          ]
        }
      ]
    },
    {
      "cell_type": "markdown",
      "source": [
        "## 5. Evaluate your CNN!\n",
        "\n",
        "First, play with your shiny new model in the drawing board!\n",
        "\n",
        "In particular, try drawing objects that might challenge a neural network but rotating, translating, and resizing them. "
      ],
      "metadata": {
        "id": "Xd3oMbsSmRSz"
      }
    },
    {
      "cell_type": "code",
      "source": [
        "cuda = torch.device('cuda')\n",
        "def predict(doodle):\n",
        "    doodle = doodle / 255.\n",
        "    pt_input = torch.Tensor(doodle).view(1, 1, doodle.shape[0], doodle.shape[1]).to(cuda)\n",
        "    y_hats = model(pt_input).detach().cpu().numpy()[0]\n",
        "    y_hats = softmax(y_hats)\n",
        "    emoji_names = np.array(list(const.DOODLE_TO_EMOJI_MAP.values()))\n",
        "    emoji_dict = {emoji.emojize(f':{emoji_names[i]}:', use_aliases=True): float(y_hat) \\\n",
        "                  for i, y_hat in enumerate(y_hats)}\n",
        "    return emoji_dict\n",
        "\n",
        "interface = gr.Interface(predict, inputs='sketchpad', outputs='label', theme=\"default\", live=True, description=\"Guess the Doodle!\")\n",
        "interface.launch(debug=True)"
      ],
      "metadata": {
        "id": "Os6nzb4LfoPK",
        "colab": {
          "base_uri": "https://localhost:8080/",
          "height": 981
        },
        "outputId": "59f3ae70-a693-42e3-f0f2-884ee2251750"
      },
      "execution_count": null,
      "outputs": [
        {
          "output_type": "stream",
          "name": "stdout",
          "text": [
            "Hint: Set streaming=True for Sketchpad component to use live streaming.\n",
            "Colab notebook detected. This cell will run indefinitely so that you can see errors and logs. To turn off, set debug=False in launch().\n",
            "\n",
            "Using Embedded Colab Mode (NEW). If you have issues, please use share=True and file an issue at https://github.com/gradio-app/gradio/\n",
            "Note: opening the browser inspector may crash Embedded Colab Mode.\n",
            "\n",
            "To create a public link, set `share=True` in `launch()`.\n"
          ]
        },
        {
          "output_type": "display_data",
          "data": {
            "text/plain": [
              "<IPython.core.display.Javascript object>"
            ],
            "application/javascript": [
              "(async (port, path, width, height, cache, element) => {\n",
              "                        if (!google.colab.kernel.accessAllowed && !cache) {\n",
              "                            return;\n",
              "                        }\n",
              "                        element.appendChild(document.createTextNode(''));\n",
              "                        const url = await google.colab.kernel.proxyPort(port, {cache});\n",
              "\n",
              "                        const external_link = document.createElement('div');\n",
              "                        external_link.innerHTML = `\n",
              "                            <div style=\"font-family: monospace; margin-bottom: 0.5rem\">\n",
              "                                Running on <a href=${new URL(path, url).toString()} target=\"_blank\">\n",
              "                                    https://localhost:${port}${path}\n",
              "                                </a>\n",
              "                            </div>\n",
              "                        `;\n",
              "                        element.appendChild(external_link);\n",
              "\n",
              "                        const iframe = document.createElement('iframe');\n",
              "                        iframe.src = new URL(path, url).toString();\n",
              "                        iframe.height = height;\n",
              "                        iframe.allow = \"autoplay; camera; microphone; clipboard-read; clipboard-write;\"\n",
              "                        iframe.width = width;\n",
              "                        iframe.style.border = 0;\n",
              "                        element.appendChild(iframe);\n",
              "                    })(7860, \"/\", \"100%\", 500, false, window.element)"
            ]
          },
          "metadata": {}
        },
        {
          "output_type": "stream",
          "name": "stderr",
          "text": [
            "Traceback (most recent call last):\n",
            "  File \"/usr/local/lib/python3.7/dist-packages/gradio/routes.py\", line 285, in run_predict\n",
            "    fn_index, raw_input, username, session_state, iterators\n",
            "  File \"/usr/local/lib/python3.7/dist-packages/gradio/blocks.py\", line 982, in process_api\n",
            "    result = await self.call_function(fn_index, inputs, iterator)\n",
            "  File \"/usr/local/lib/python3.7/dist-packages/gradio/blocks.py\", line 825, in call_function\n",
            "    block_fn.fn, *processed_input, limiter=self.limiter\n",
            "  File \"/usr/local/lib/python3.7/dist-packages/anyio/to_thread.py\", line 32, in run_sync\n",
            "    func, *args, cancellable=cancellable, limiter=limiter\n",
            "  File \"/usr/local/lib/python3.7/dist-packages/anyio/_backends/_asyncio.py\", line 937, in run_sync_in_worker_thread\n",
            "    return await future\n",
            "  File \"/usr/local/lib/python3.7/dist-packages/anyio/_backends/_asyncio.py\", line 867, in run\n",
            "    result = context.run(func, *args)\n",
            "  File \"<ipython-input-35-df7c17d3ca90>\", line 3, in predict\n",
            "    doodle = doodle / 255.\n",
            "TypeError: unsupported operand type(s) for /: 'NoneType' and 'float'\n"
          ]
        },
        {
          "output_type": "stream",
          "name": "stdout",
          "text": [
            "Keyboard interruption in main thread... closing server.\n"
          ]
        },
        {
          "output_type": "execute_result",
          "data": {
            "text/plain": [
              "(<gradio.routes.App at 0x7fb9c1617450>, 'http://127.0.0.1:7860/', None)"
            ]
          },
          "metadata": {},
          "execution_count": 35
        }
      ]
    },
    {
      "cell_type": "markdown",
      "source": [
        "### How did you do?\n",
        "\n",
        "Let's see how well your function does! We've created tiers to show you how well your model is performing:\n",
        "\n",
        "**S+**: Amazing job! You've done better than the instructors at getting this to work!\n",
        "\n",
        "**S**: You have incredible intuiiton about neural networks! \n",
        "\n",
        "**A**: Superb and among the top tier of this class.\n",
        "\n",
        "**B**: Congrats! You've done as well as any reasonble ML engineer would do on this project!\n",
        "\n",
        "**C**: There might be some issues with your code since the baseline is higher than the score you got :) \n",
        "\n",
        "We encourage you to edit your model with all the knowledge that you have now and see how much you can improve your model!\n"
      ],
      "metadata": {
        "id": "TdQaVcY7SCND"
      }
    },
    {
      "cell_type": "code",
      "source": [
        "#@title How did your model do?\n",
        "#@markdown Run this cell to evaluate your model on the test dataset!\n",
        "#@markdown (Make sure that your model is named `model`).\n",
        "from train import *\n",
        "accuracy_score = evaluate(model, test_dataloader)\n",
        "display(md((f'Your test accuracy is {accuracy_score}.')))\n",
        "\n",
        "tier_dict = {'C': .5, 'B': .7, 'A': .8, 'S': .85, 'S+': .9}\n",
        "for tier in ['C', 'B', 'A', 'S', 'S+']:\n",
        "    if accuracy_score < tier_dict[tier]:\n",
        "        break\n",
        "\n",
        "display(md(f'## Performance Tier: {tier}.'))\n",
        "if tier in ['A', 'S', 'S+']:\n",
        "  display(md(f'Amazing job! Your model has excellent performance.'))\n",
        "else:\n",
        "  display(md(f'Great job! Now, see if changing some hyperparameters can improve your model even more!'))\n"
      ],
      "metadata": {
        "id": "4TMEMlaHSJZS",
        "cellView": "form",
        "colab": {
          "base_uri": "https://localhost:8080/",
          "height": 113
        },
        "outputId": "51a345a4-e69e-45f6-b511-20019488ca7b"
      },
      "execution_count": null,
      "outputs": [
        {
          "output_type": "display_data",
          "data": {
            "text/plain": [
              "<IPython.core.display.Markdown object>"
            ],
            "text/markdown": "Your test accuracy is 0.9047."
          },
          "metadata": {}
        },
        {
          "output_type": "display_data",
          "data": {
            "text/plain": [
              "<IPython.core.display.Markdown object>"
            ],
            "text/markdown": "## Performance Tier: S+."
          },
          "metadata": {}
        },
        {
          "output_type": "display_data",
          "data": {
            "text/plain": [
              "<IPython.core.display.Markdown object>"
            ],
            "text/markdown": "Amazing job! Your model has excellent performance."
          },
          "metadata": {}
        }
      ]
    },
    {
      "cell_type": "markdown",
      "source": [
        "Great! Hopefully your CNN outperforms the MLP that you trained from last week."
      ],
      "metadata": {
        "id": "eR1LmqmmvGaW"
      }
    },
    {
      "cell_type": "markdown",
      "source": [
        "## 6. Bonus! (Optional) Visualize your Model Outputs\n",
        "\n",
        "Deep learning models, in particular CNNs, learn *embeddings* of the training data. These embeddings are very useful for understanding what features the model learns during training!\n",
        "\n",
        "In this last module for this section, we will be modifying our model code to extract the outputs of the model's embedding vector, and then visualizing the outputs using a dimensionality reduction technique called t-SNE.\n",
        "\n",
        "`sklearn.manifold.TSNE` functions like a typical machine learning model: given an input, it will reduce the number of dimensions in the input while preserving the relative distances of each of the points in the distance. In other words, this technique allows us to visualize data that is originally in very high dimensions.\n",
        "\n",
        "**TODO**: First, modify the `CNN` model by adding an additional method `get_embedding(x)`. This should return the output of the `Flatten` layer in the model.\n",
        "\n",
        "*Hint*: This part requires some ingenuity. Can you access the Flatten layer in `self.model`? Try `list(self.model.modules())[1:]` to get a list of the layer objects. Then, iterate through the layers, evaluating each on the input, until you reach the `Flatten` layer."
      ],
      "metadata": {
        "id": "ykA7os0fxmun"
      }
    },
    {
      "cell_type": "code",
      "source": [
        "class CNN(nn.Module):\n",
        "  def __init__(self):\n",
        "    super().__init__()\n",
        "    # TODO: Copy over the layers from the previous problem!\n",
        "    self.model = nn.Sequential(\n",
        "        nn.Conv2d(1,8,3),\n",
        "        nn.ReLU(),\n",
        "        nn.Conv2d(8,16,3),\n",
        "        nn.ReLU(),\n",
        "        nn.MaxPool2d(2),\n",
        "        nn.Conv2d(16,32,3),\n",
        "        nn.ReLU(),\n",
        "        nn.Conv2d(32,64,3),\n",
        "        nn.ReLU(),\n",
        "        nn.MaxPool2d(2),\n",
        "        nn.Conv2d(64,128,3),\n",
        "        nn.ReLU(),\n",
        "        nn.MaxPool2d(2),\n",
        "        nn.Flatten(1, -1),\n",
        "        nn.Linear(128,10)\n",
        "    )\n",
        "    self.layers = list(self.model.modules())[1:]\n",
        "  \n",
        "  def forward(self, x):\n",
        "    return self.model(x)\n",
        "\n",
        "  def get_embedding(self, x):\n",
        "    # TODO: Implement a function to return the output of the Flatten layer!\n",
        "    output = x\n",
        "    for layer in self.layers:\n",
        "      output = layer(output)\n",
        "      if layer == self.layers[-2]:\n",
        "        break\n",
        "    return output"
      ],
      "metadata": {
        "id": "A7NPaLpW4ff5"
      },
      "execution_count": null,
      "outputs": []
    },
    {
      "cell_type": "code",
      "source": [
        "#@title Run this cell to check your answer!\n",
        "torch.manual_seed(0)\n",
        "test_model = CNN()\n",
        "check_answer(test_model.get_embedding(torch.rand(64, 1, 28, 28)).shape == (64, 128))\n",
        "\n"
      ],
      "metadata": {
        "cellView": "form",
        "id": "pf_N0QidMMBe",
        "colab": {
          "base_uri": "https://localhost:8080/",
          "height": 64
        },
        "outputId": "51172b9a-48c0-46c8-ab88-a2758b108da4"
      },
      "execution_count": null,
      "outputs": [
        {
          "output_type": "execute_result",
          "data": {
            "text/plain": [
              "<IPython.core.display.Markdown object>"
            ],
            "text/markdown": "## Correct! 🎉"
          },
          "metadata": {},
          "execution_count": 38
        }
      ]
    },
    {
      "cell_type": "markdown",
      "source": [
        "Great! Now, let's generate the emebddings with the test dataset.\n",
        "\n",
        "**TODO**: Generate the embedding for every data point in the test dataset, and store all of the embeddings into a Numpy array variable called `embeddings`. Separately, store the labels for each data point in another Numpy array variable called `labels`."
      ],
      "metadata": {
        "id": "MmbXy0bI4e4P"
      }
    },
    {
      "cell_type": "code",
      "source": [
        "# TODO: Fill out the missing parts of the code below to store the embeddings and labels!\n",
        "\n",
        "embeddings = []\n",
        "labels = []\n",
        "device = torch.device('cuda')\n",
        "model = CNN().to(device)\n",
        "for i, data in enumerate(test_dataloader):\n",
        "  x, y = data\n",
        "  labels.extend(y.to(device).cpu())\n",
        "  embeddings.extend(model.get_embedding(x.to(device)).cpu().detach().numpy())\n",
        "labels = np.array(labels)\n",
        "embeddings = np.array(embeddings)"
      ],
      "metadata": {
        "id": "R1yf9Z0bJ_dA"
      },
      "execution_count": null,
      "outputs": []
    },
    {
      "cell_type": "markdown",
      "source": [
        "From here, we simply use the `TSNE` function to fit and then project the data points into two dimension.\n",
        "\n",
        "**TODO**: Using the `TSNE` class, call the `fit_transform()` function to project the test data to two dimensions. Then, plot these points and display the legend containing labels corresponding to the class of each point.\n",
        "\n",
        "*Hint*: Visualizing 20,000 data points may take too long: instead, try sampling 1000 data points instead.\n",
        "\n",
        "*Hint*: The `seaborn` Python package is useful for visualizing scatter plots; try using the `seaborn.scatterplot()` function. This takes in a Pandas dataframe containing your x, y, and label columns. Then, specify the `x`, `y`, and `hue` parameter in the function to plot."
      ],
      "metadata": {
        "id": "-xefX9Vz4swA"
      }
    },
    {
      "cell_type": "code",
      "source": [
        "from sklearn.manifold import TSNE\n",
        "import seaborn as sns\n",
        "\n",
        "%matplotlib inline\n",
        "\n",
        "# TODO: Implement the TSNE function to gather the transformed embeddings.\n",
        "transformed = TSNE().fit_transform(embeddings[:1000, :])\n",
        "label_names = list(const.DOODLE_TO_EMOJI_MAP.keys())\n",
        "\n",
        "# This part is done for you! :)\n",
        "df = pd.DataFrame([])\n",
        "df['x'] = transformed[:, 0]\n",
        "df['y'] = transformed[:, 1]\n",
        "df['label'] = [label_names[i] for i in labels[0:1000]]\n",
        "sns.scatterplot(data=df, x='x', y='y', hue='label')\n",
        "plt.show()"
      ],
      "metadata": {
        "id": "fT8GbYPjKWTC",
        "colab": {
          "base_uri": "https://localhost:8080/",
          "height": 348
        },
        "outputId": "9af3df28-e74e-48cc-d959-0b9f1fce7e04"
      },
      "execution_count": null,
      "outputs": [
        {
          "output_type": "stream",
          "name": "stderr",
          "text": [
            "/usr/local/lib/python3.7/dist-packages/sklearn/manifold/_t_sne.py:783: FutureWarning: The default initialization in TSNE will change from 'random' to 'pca' in 1.2.\n",
            "  FutureWarning,\n",
            "/usr/local/lib/python3.7/dist-packages/sklearn/manifold/_t_sne.py:793: FutureWarning: The default learning rate in TSNE will change from 200.0 to 'auto' in 1.2.\n",
            "  FutureWarning,\n"
          ]
        },
        {
          "output_type": "display_data",
          "data": {
            "text/plain": [
              "<Figure size 432x288 with 1 Axes>"
            ],
            "image/png": "[encoded data removed]"
          },
          "metadata": {
            "needs_background": "light"
          }
        }
      ]
    },
    {
      "cell_type": "markdown",
      "source": [
        "Congratulations! If you've made it this far, please copy this plot and share it in the #projects-apr22 channel along with your submission.\n",
        "\n",
        "Consider the plot: can you see distinct clusters corresponding to the different classes?"
      ],
      "metadata": {
        "id": "ynYKsu6iBBdc"
      }
    },
    {
      "cell_type": "markdown",
      "source": [
        "# Part 2: Generative models (Optional!)\n",
        "\n",
        "Now that we've trained our own CNN classification model, let's do the reverse -- using convolutional layers, let's train (fine-tune) a model to generate images!\n",
        "\n",
        "  This project will be based on a Colab implementation of a recent paper, [JoJoGAN](https://github.com/mchong6/JoJoGAN). The model takes as input an image of a face, and then, given some training examples, transforms this face into the style of the training examples. Below is an illustration of this model in action:\n",
        "\n",
        "<img src=\"https://drive.google.com/uc?id=10JaUluszJEClQ1ZcyTGlKjErJaE57p2X\" width=\"600\">\n",
        "\n",
        "This module shows off the power of transfer learning -- instead of training a model from scratch, we are starting with a pre-trained model that has seen thousands of faces and styles already. Using the model, we will simply fine-tune the model on our own small training dataset to get it to match the style in those images.\n",
        "\n",
        "This module won't require you to code (phew!). Instead, you wil be executing cells to perform the necessary steps for training. We encourage you to double-click into each of the cells -- you will find that the code should look quite familiar in fact.\n",
        "\n",
        "The general structure of this GAN goes as follows:\n",
        "\n",
        "1. Take a photo using your webcam.\n",
        "2. We use a face detector model (non-deep learning) to center your face and remove unnecessary background.\n",
        "3. We load the generator CNN model.\n",
        "4. Upload your training dataset and process them through the face detector model as well.\n",
        "5. Train your model!\n",
        "6. Using your trained model, generate your face-filtered examples!\n",
        "\n",
        "**TODO**: Now would be a good time to clear your GPU of any leftover memory footprint from the previous module. Click on \"Runtime\" > \"Disconnect and delete runtime\" > \"Restart runtime\"."
      ],
      "metadata": {
        "id": "TNzDDs6Zw4HB"
      }
    },
    {
      "cell_type": "code",
      "source": [
        "#@title Import more packages! (This will take a few minutes.)\n",
        "!pip install tqdm gdown lpips dlib opencv-python\n",
        "!sudo unzip /content/drive/MyDrive/DLE-Projects/utils/week3/ninja-linux.zip -d /usr/local/bin/\n",
        "!sudo update-alternatives --install /usr/bin/ninja ninja /usr/local/bin/ninja 1 --force\n",
        "sys.path.append(os.path.join(directory, 'utils', 'week3'))\n",
        "%load_ext autoreload\n",
        "%autoreload 2 \n",
        "from copy import deepcopy\n",
        "from torch import nn, autograd, optim\n",
        "from torch.nn import functional as F\n",
        "from tqdm import tqdm\n",
        "from model import *\n",
        "from e4e_projection import projection as e4e_projection\n",
        "from util import *"
      ],
      "metadata": {
        "id": "FU9P4kqQf0NY",
        "colab": {
          "base_uri": "https://localhost:8080/"
        },
        "outputId": "0bc9af4a-fa73-45e0-9e7b-2537e8bede60"
      },
      "execution_count": null,
      "outputs": [
        {
          "output_type": "stream",
          "name": "stdout",
          "text": [
            "Looking in indexes: https://pypi.org/simple, https://us-python.pkg.dev/colab-wheels/public/simple/\n",
            "Requirement already satisfied: tqdm in /usr/local/lib/python3.7/dist-packages (4.64.1)\n",
            "Requirement already satisfied: gdown in /usr/local/lib/python3.7/dist-packages (4.4.0)\n",
            "Collecting lpips\n",
            "  Downloading lpips-0.1.4-py3-none-any.whl (53 kB)\n",
            "\u001b[K     |████████████████████████████████| 53 kB 2.0 MB/s \n",
            "\u001b[?25hRequirement already satisfied: dlib in /usr/local/lib/python3.7/dist-packages (19.24.0)\n",
            "Requirement already satisfied: opencv-python in /usr/local/lib/python3.7/dist-packages (4.6.0.66)\n",
            "Requirement already satisfied: filelock in /usr/local/lib/python3.7/dist-packages (from gdown) (3.8.0)\n",
            "Requirement already satisfied: beautifulsoup4 in /usr/local/lib/python3.7/dist-packages (from gdown) (4.6.3)\n",
            "Requirement already satisfied: six in /usr/local/lib/python3.7/dist-packages (from gdown) (1.15.0)\n",
            "Requirement already satisfied: requests[socks] in /usr/local/lib/python3.7/dist-packages (from gdown) (2.23.0)\n",
            "Requirement already satisfied: scipy>=1.0.1 in /usr/local/lib/python3.7/dist-packages (from lpips) (1.7.3)\n",
            "Requirement already satisfied: numpy>=1.14.3 in /usr/local/lib/python3.7/dist-packages (from lpips) (1.21.6)\n",
            "Requirement already satisfied: torchvision>=0.2.1 in /usr/local/lib/python3.7/dist-packages (from lpips) (0.13.1+cu113)\n",
            "Requirement already satisfied: torch>=0.4.0 in /usr/local/lib/python3.7/dist-packages (from lpips) (1.12.1+cu113)\n",
            "Requirement already satisfied: typing-extensions in /usr/local/lib/python3.7/dist-packages (from torch>=0.4.0->lpips) (4.1.1)\n",
            "Requirement already satisfied: pillow!=8.3.*,>=5.3.0 in /usr/local/lib/python3.7/dist-packages (from torchvision>=0.2.1->lpips) (7.1.2)\n",
            "Requirement already satisfied: certifi>=2017.4.17 in /usr/local/lib/python3.7/dist-packages (from requests[socks]->gdown) (2022.9.24)\n",
            "Requirement already satisfied: urllib3!=1.25.0,!=1.25.1,<1.26,>=1.21.1 in /usr/local/lib/python3.7/dist-packages (from requests[socks]->gdown) (1.24.3)\n",
            "Requirement already satisfied: idna<3,>=2.5 in /usr/local/lib/python3.7/dist-packages (from requests[socks]->gdown) (2.10)\n",
            "Requirement already satisfied: chardet<4,>=3.0.2 in /usr/local/lib/python3.7/dist-packages (from requests[socks]->gdown) (3.0.4)\n",
            "Requirement already satisfied: PySocks!=1.5.7,>=1.5.6 in /usr/local/lib/python3.7/dist-packages (from requests[socks]->gdown) (1.7.1)\n",
            "Installing collected packages: lpips\n",
            "Successfully installed lpips-0.1.4\n",
            "Archive:  /content/drive/MyDrive/DLE-Projects/utils/week3/ninja-linux.zip\n",
            "  inflating: /usr/local/bin/ninja    \n",
            "update-alternatives: using /usr/local/bin/ninja to provide /usr/bin/ninja (ninja) in auto mode\n",
            "The autoreload extension is already loaded. To reload it, use:\n",
            "  %reload_ext autoreload\n"
          ]
        }
      ]
    },
    {
      "cell_type": "code",
      "source": [
        "#@title 0. Run this cell to create your data folder \"week3_data\".\n",
        "#@markdown You should be able to see this folder by selecting the folder icon on the left panel.\n",
        "data_dir = '/content/week3_data/' #@param {type:\"string\"}\n",
        "week3_dir = os.path.join(directory, 'utils/week3')\n",
        "%cd $week3_dir\n",
        "os.makedirs(data_dir, exist_ok=True)\n",
        "if not os.path.exists(data_dir):\n",
        "  display(md(f'Error creating the folder! Restart your runtime and try again.'))\n",
        "else:\n",
        "  display(md(f'### Created `{data_dir}` successfully!'))\n"
      ],
      "metadata": {
        "id": "6tVBxIERO3Y2",
        "colab": {
          "base_uri": "https://localhost:8080/",
          "height": 76
        },
        "outputId": "a4aa5496-e273-4ce1-c2a1-ee6c1596ba2a"
      },
      "execution_count": null,
      "outputs": [
        {
          "output_type": "stream",
          "name": "stdout",
          "text": [
            "/content/drive/.shortcut-targets-by-id/1QgsrP5HH39Mi5Bpja_MN9b-yRSVz-hRn/DLE-Projects/utils/week3\n"
          ]
        },
        {
          "output_type": "display_data",
          "data": {
            "text/plain": [
              "<IPython.core.display.Markdown object>"
            ],
            "text/markdown": "### Created `/content/week3_data/` successfully!"
          },
          "metadata": {}
        }
      ]
    },
    {
      "cell_type": "code",
      "source": [
        "#@title 1. Run this cell to take a photo!\n",
        "\n",
        "from IPython.display import display, Javascript\n",
        "from google.colab.output import eval_js\n",
        "from base64 import b64decode\n",
        "\n",
        "def take_photo(filename='photo.jpg', quality=0.8):\n",
        "  js = Javascript('''\n",
        "    async function takePhoto(quality) {\n",
        "      const div = document.createElement('div');\n",
        "      const capture = document.createElement('button');\n",
        "      capture.textContent = 'Capture';\n",
        "      div.appendChild(capture);\n",
        "\n",
        "      const video = document.createElement('video');\n",
        "      video.style.display = 'block';\n",
        "      const stream = await navigator.mediaDevices.getUserMedia({video: true});\n",
        "\n",
        "      document.body.appendChild(div);\n",
        "      div.appendChild(video);\n",
        "      video.srcObject = stream;\n",
        "      await video.play();\n",
        "\n",
        "      // Resize the output to fit the video element.\n",
        "      google.colab.output.setIframeHeight(document.documentElement.scrollHeight, true);\n",
        "\n",
        "      // Wait for Capture to be clicked.\n",
        "      await new Promise((resolve) => capture.onclick = resolve);\n",
        "\n",
        "      const canvas = document.createElement('canvas');\n",
        "      canvas.width = video.videoWidth;\n",
        "      canvas.height = video.videoHeight;\n",
        "      canvas.getContext('2d').drawImage(video, 0, 0);\n",
        "      stream.getVideoTracks()[0].stop();\n",
        "      div.remove();\n",
        "      return canvas.toDataURL('image/jpeg', quality);\n",
        "    }\n",
        "    ''')\n",
        "  display(js)\n",
        "  data = eval_js('takePhoto({})'.format(quality))\n",
        "  binary = b64decode(data.split(',')[1])\n",
        "  with open(filename, 'wb') as f:\n",
        "    f.write(binary)\n",
        "  return filename\n",
        "\n",
        "try:\n",
        "  filename = take_photo(f'{data_dir}photo.jpg')\n",
        "  print(f'Saved to {filename}')\n",
        "  import time; time.sleep(3)\n",
        "  # Show the image which was just taken.\n",
        "  #display(Image(filename))\n",
        "except Exception as err:\n",
        "  # Errors will be thrown if the user does not have a webcam or if they do not\n",
        "  # grant the page permission to access it.\n",
        "  print(str(err))\n"
      ],
      "metadata": {
        "id": "tuxSq1tfw4i2",
        "colab": {
          "base_uri": "https://localhost:8080/",
          "height": 881
        },
        "outputId": "ef3ca4d2-6c03-46b7-c8cc-3050a3856014"
      },
      "execution_count": null,
      "outputs": [
        {
          "output_type": "display_data",
          "data": {
            "text/plain": [
              "<IPython.core.display.Javascript object>"
            ],
            "application/javascript": [
              "\n",
              "    async function takePhoto(quality) {\n",
              "      const div = document.createElement('div');\n",
              "      const capture = document.createElement('button');\n",
              "      capture.textContent = 'Capture';\n",
              "      div.appendChild(capture);\n",
              "\n",
              "      const video = document.createElement('video');\n",
              "      video.style.display = 'block';\n",
              "      const stream = await navigator.mediaDevices.getUserMedia({video: true});\n",
              "\n",
              "      document.body.appendChild(div);\n",
              "      div.appendChild(video);\n",
              "      video.srcObject = stream;\n",
              "      await video.play();\n",
              "\n",
              "      // Resize the output to fit the video element.\n",
              "      google.colab.output.setIframeHeight(document.documentElement.scrollHeight, true);\n",
              "\n",
              "      // Wait for Capture to be clicked.\n",
              "      await new Promise((resolve) => capture.onclick = resolve);\n",
              "\n",
              "      const canvas = document.createElement('canvas');\n",
              "      canvas.width = video.videoWidth;\n",
              "      canvas.height = video.videoHeight;\n",
              "      canvas.getContext('2d').drawImage(video, 0, 0);\n",
              "      stream.getVideoTracks()[0].stop();\n",
              "      div.remove();\n",
              "      return canvas.toDataURL('image/jpeg', quality);\n",
              "    }\n",
              "    "
            ]
          },
          "metadata": {}
        },
        {
          "output_type": "error",
          "ename": "KeyboardInterrupt",
          "evalue": "ignored",
          "traceback": [
            "\u001b[0;31m---------------------------------------------------------------------------\u001b[0m",
            "\u001b[0;31mKeyboardInterrupt\u001b[0m                         Traceback (most recent call last)",
            "\u001b[0;32m<ipython-input-48-1d10d7a5e1a6>\u001b[0m in \u001b[0;36m<module>\u001b[0;34m\u001b[0m\n\u001b[1;32m     45\u001b[0m \u001b[0;34m\u001b[0m\u001b[0m\n\u001b[1;32m     46\u001b[0m \u001b[0;32mtry\u001b[0m\u001b[0;34m:\u001b[0m\u001b[0;34m\u001b[0m\u001b[0;34m\u001b[0m\u001b[0m\n\u001b[0;32m---> 47\u001b[0;31m   \u001b[0mfilename\u001b[0m \u001b[0;34m=\u001b[0m \u001b[0mtake_photo\u001b[0m\u001b[0;34m(\u001b[0m\u001b[0;34mf'{data_dir}photo.jpg'\u001b[0m\u001b[0;34m)\u001b[0m\u001b[0;34m\u001b[0m\u001b[0;34m\u001b[0m\u001b[0m\n\u001b[0m\u001b[1;32m     48\u001b[0m   \u001b[0mprint\u001b[0m\u001b[0;34m(\u001b[0m\u001b[0;34mf'Saved to {filename}'\u001b[0m\u001b[0;34m)\u001b[0m\u001b[0;34m\u001b[0m\u001b[0;34m\u001b[0m\u001b[0m\n\u001b[1;32m     49\u001b[0m   \u001b[0;32mimport\u001b[0m \u001b[0mtime\u001b[0m\u001b[0;34m;\u001b[0m \u001b[0mtime\u001b[0m\u001b[0;34m.\u001b[0m\u001b[0msleep\u001b[0m\u001b[0;34m(\u001b[0m\u001b[0;36m3\u001b[0m\u001b[0;34m)\u001b[0m\u001b[0;34m\u001b[0m\u001b[0;34m\u001b[0m\u001b[0m\n",
            "\u001b[0;32m<ipython-input-48-1d10d7a5e1a6>\u001b[0m in \u001b[0;36mtake_photo\u001b[0;34m(filename, quality)\u001b[0m\n\u001b[1;32m     38\u001b[0m     ''')\n\u001b[1;32m     39\u001b[0m   \u001b[0mdisplay\u001b[0m\u001b[0;34m(\u001b[0m\u001b[0mjs\u001b[0m\u001b[0;34m)\u001b[0m\u001b[0;34m\u001b[0m\u001b[0;34m\u001b[0m\u001b[0m\n\u001b[0;32m---> 40\u001b[0;31m   \u001b[0mdata\u001b[0m \u001b[0;34m=\u001b[0m \u001b[0meval_js\u001b[0m\u001b[0;34m(\u001b[0m\u001b[0;34m'takePhoto({})'\u001b[0m\u001b[0;34m.\u001b[0m\u001b[0mformat\u001b[0m\u001b[0;34m(\u001b[0m\u001b[0mquality\u001b[0m\u001b[0;34m)\u001b[0m\u001b[0;34m)\u001b[0m\u001b[0;34m\u001b[0m\u001b[0;34m\u001b[0m\u001b[0m\n\u001b[0m\u001b[1;32m     41\u001b[0m   \u001b[0mbinary\u001b[0m \u001b[0;34m=\u001b[0m \u001b[0mb64decode\u001b[0m\u001b[0;34m(\u001b[0m\u001b[0mdata\u001b[0m\u001b[0;34m.\u001b[0m\u001b[0msplit\u001b[0m\u001b[0;34m(\u001b[0m\u001b[0;34m','\u001b[0m\u001b[0;34m)\u001b[0m\u001b[0;34m[\u001b[0m\u001b[0;36m1\u001b[0m\u001b[0;34m]\u001b[0m\u001b[0;34m)\u001b[0m\u001b[0;34m\u001b[0m\u001b[0;34m\u001b[0m\u001b[0m\n\u001b[1;32m     42\u001b[0m   \u001b[0;32mwith\u001b[0m \u001b[0mopen\u001b[0m\u001b[0;34m(\u001b[0m\u001b[0mfilename\u001b[0m\u001b[0;34m,\u001b[0m \u001b[0;34m'wb'\u001b[0m\u001b[0;34m)\u001b[0m \u001b[0;32mas\u001b[0m \u001b[0mf\u001b[0m\u001b[0;34m:\u001b[0m\u001b[0;34m\u001b[0m\u001b[0;34m\u001b[0m\u001b[0m\n",
            "\u001b[0;32m/usr/local/lib/python3.7/dist-packages/google/colab/output/_js.py\u001b[0m in \u001b[0;36meval_js\u001b[0;34m(script, ignore_result, timeout_sec)\u001b[0m\n\u001b[1;32m     38\u001b[0m   \u001b[0;32mif\u001b[0m \u001b[0mignore_result\u001b[0m\u001b[0;34m:\u001b[0m\u001b[0;34m\u001b[0m\u001b[0;34m\u001b[0m\u001b[0m\n\u001b[1;32m     39\u001b[0m     \u001b[0;32mreturn\u001b[0m\u001b[0;34m\u001b[0m\u001b[0;34m\u001b[0m\u001b[0m\n\u001b[0;32m---> 40\u001b[0;31m   \u001b[0;32mreturn\u001b[0m \u001b[0m_message\u001b[0m\u001b[0;34m.\u001b[0m\u001b[0mread_reply_from_input\u001b[0m\u001b[0;34m(\u001b[0m\u001b[0mrequest_id\u001b[0m\u001b[0;34m,\u001b[0m \u001b[0mtimeout_sec\u001b[0m\u001b[0;34m)\u001b[0m\u001b[0;34m\u001b[0m\u001b[0;34m\u001b[0m\u001b[0m\n\u001b[0m\u001b[1;32m     41\u001b[0m \u001b[0;34m\u001b[0m\u001b[0m\n\u001b[1;32m     42\u001b[0m \u001b[0;34m\u001b[0m\u001b[0m\n",
            "\u001b[0;32m/usr/local/lib/python3.7/dist-packages/google/colab/_message.py\u001b[0m in \u001b[0;36mread_reply_from_input\u001b[0;34m(message_id, timeout_sec)\u001b[0m\n\u001b[1;32m     95\u001b[0m     \u001b[0mreply\u001b[0m \u001b[0;34m=\u001b[0m \u001b[0m_read_next_input_message\u001b[0m\u001b[0;34m(\u001b[0m\u001b[0;34m)\u001b[0m\u001b[0;34m\u001b[0m\u001b[0;34m\u001b[0m\u001b[0m\n\u001b[1;32m     96\u001b[0m     \u001b[0;32mif\u001b[0m \u001b[0mreply\u001b[0m \u001b[0;34m==\u001b[0m \u001b[0m_NOT_READY\u001b[0m \u001b[0;32mor\u001b[0m \u001b[0;32mnot\u001b[0m \u001b[0misinstance\u001b[0m\u001b[0;34m(\u001b[0m\u001b[0mreply\u001b[0m\u001b[0;34m,\u001b[0m \u001b[0mdict\u001b[0m\u001b[0;34m)\u001b[0m\u001b[0;34m:\u001b[0m\u001b[0;34m\u001b[0m\u001b[0;34m\u001b[0m\u001b[0m\n\u001b[0;32m---> 97\u001b[0;31m       \u001b[0mtime\u001b[0m\u001b[0;34m.\u001b[0m\u001b[0msleep\u001b[0m\u001b[0;34m(\u001b[0m\u001b[0;36m0.025\u001b[0m\u001b[0;34m)\u001b[0m\u001b[0;34m\u001b[0m\u001b[0;34m\u001b[0m\u001b[0m\n\u001b[0m\u001b[1;32m     98\u001b[0m       \u001b[0;32mcontinue\u001b[0m\u001b[0;34m\u001b[0m\u001b[0;34m\u001b[0m\u001b[0m\n\u001b[1;32m     99\u001b[0m     if (reply.get('type') == 'colab_reply' and\n",
            "\u001b[0;31mKeyboardInterrupt\u001b[0m: "
          ]
        }
      ]
    },
    {
      "cell_type": "code",
      "source": [
        "#@title 2. Process and view aligned face\n",
        "%matplotlib inline\n",
        "filename = 'photo.jpg'\n",
        "filepath = f'{data_dir}{filename}'\n",
        "device = torch.device('cuda')\n",
        "\n",
        "# uploaded = files.upload()\n",
        "# filepath = list(uploaded.keys())[0]\n",
        "name = strip_path_extension(filepath)+'.pt'\n",
        "\n",
        "# aligns and crops face\n",
        "aligned_face = align_face(filepath)\n",
        "\n",
        "my_w = e4e_projection(aligned_face, device).unsqueeze(0)\n",
        "\n",
        "display_image(aligned_face, title='Aligned face')"
      ],
      "metadata": {
        "id": "-eQJXeXww7nh"
      },
      "execution_count": null,
      "outputs": []
    },
    {
      "cell_type": "code",
      "source": [
        "#@title 3. Load the  generator model\n",
        "\n",
        "latent_dim = 512 #256\n",
        "\n",
        "# Load original generator\n",
        "original_generator = Generator(1024, latent_dim, 8, 2).to(device)\n",
        "ckpt = torch.load('models/stylegan2-ffhq-config-f.pt', map_location=lambda storage, loc: storage)\n",
        "original_generator.load_state_dict(ckpt[\"g_ema\"], strict=False)\n",
        "mean_latent = original_generator.mean_latent(10000)\n",
        "\n",
        "# to be finetuned generator\n",
        "generator = deepcopy(original_generator)\n",
        "\n",
        "\n",
        "transform = transforms.Compose(\n",
        "    [\n",
        "        transforms.Resize((1024, 1024)),\n",
        "        transforms.ToTensor(),\n",
        "        transforms.Normalize((0.5, 0.5, 0.5), (0.5, 0.5, 0.5)),\n",
        "    ]\n",
        ")\n"
      ],
      "metadata": {
        "id": "UcDOGPIdw9Jg"
      },
      "execution_count": null,
      "outputs": []
    },
    {
      "cell_type": "code",
      "source": [
        "#@title 4. Process your own style training images.\n",
        "#@markdown Now, upload your own training images! Pick at least 4 face images of a certain style and specify the filenames in the field below.\n",
        "\n",
        "#@markdown To upload, simply drop the images into the `week3_data` folder under the folder tab on the left panel.\n",
        "\n",
        "#@markdown We've provided you sample sketch images -- you can download these in the `deep-learning-essentials/utils/week3/week3_images` folder.\n",
        "\n",
        "names = ['sketch.jpeg', 'sketch2.jpeg', 'sketch3.jpeg', 'sketch4.jpeg'] #@param\n",
        "print(\"Image names:\")\n",
        "print(names)\n",
        "targets = []\n",
        "latents = []\n",
        "style_images = []\n",
        "\n",
        "for name in names:\n",
        "    style_path = os.path.join(data_dir, name)\n",
        "    assert os.path.exists(style_path), f\"{style_path} does not exist!\"\n",
        "\n",
        "    name = strip_path_extension(name)\n",
        "\n",
        "    # crop and align the face\n",
        "    style_aligned_path = f'{name}_aligned.png'\n",
        "    # if not os.path.exists(style_aligned_path):\n",
        "    style_aligned = align_face(style_path)\n",
        "    style_images.append(style_aligned)\n",
        "    #     style_aligned.save(style_aligned_path)\n",
        "    # else:\n",
        "    #     style_aligned = Image.open(style_aligned_path).convert('RGB')\n",
        "\n",
        "    # GAN invert\n",
        "    # style_code_path = os.path.join('inversion_codes', f'{name}.pt')\n",
        "    # if not os.path.exists(style_code_path):\n",
        "    latent = e4e_projection(style_aligned, device)\n",
        "    # else:\n",
        "    #     latent = torch.load(style_code_path)['latent']\n",
        "\n",
        "    targets.append(transform(style_aligned).to(device))\n",
        "    latents.append(latent.to(device))\n",
        "\n",
        "targets = torch.stack(targets, 0)\n",
        "latents = torch.stack(latents, 0)\n",
        "\n",
        "target_im = utils.make_grid(targets, normalize=True, range=(-1, 1))\n",
        "display_image(target_im, title='Style References')"
      ],
      "metadata": {
        "id": "V0bCcLom9Wg_",
        "cellView": "form"
      },
      "execution_count": null,
      "outputs": []
    },
    {
      "cell_type": "code",
      "source": [
        "#@title Finetune model\n",
        "#@markdown Finally, let's train our model on these images.\n",
        "\n",
        "#@markdown `alpha` controls the strength of the style.  The larger this value, the more your face will conform to this style.\n",
        "torch.cuda.empty_cache()\n",
        "\n",
        "alpha =  0.5 #@param {type:\"slider\", min:0, max:1, step:0.1}\n",
        "alpha = 1-alpha\n",
        "\n",
        "#@markdown Log training on wandb and interval for image logging\n",
        "use_wandb = True #@param {type:\"boolean\"}\n",
        "log_interval = 50 #@param {type:\"number\"}\n",
        "\n",
        "#@markdown Number of finetuning steps. Different style reference may require different iterations. Try 200~500 iterations.\n",
        "num_iter =  10#@param {type:\"number\"}\n",
        "\n",
        "if use_wandb:\n",
        "    wandb.init(project=\"JoJoGAN\")\n",
        "    config = wandb.config\n",
        "    config.num_iter = num_iter\n",
        "    wandb.log(\n",
        "    {\"Style reference\": [wandb.Image(transforms.ToPILImage()(target_im))]},\n",
        "    step=0)\n",
        "\n",
        "# load discriminator for perceptual loss\n",
        "discriminator = Discriminator(1024, 2).eval().to(device)\n",
        "ckpt = torch.load('models/stylegan2-ffhq-config-f.pt', map_location=lambda storage, loc: storage)\n",
        "discriminator.load_state_dict(ckpt[\"d\"], strict=False)\n",
        "\n",
        "# reset generator\n",
        "del generator\n",
        "generator = deepcopy(original_generator)\n",
        "\n",
        "g_optim = optim.Adam(generator.parameters(), lr=2e-3, betas=(0, 0.99))\n",
        "\n",
        "# Which layers to swap for generating a family of plausible real images -> fake image\n",
        "id_swap = list(range(7, generator.n_latent))\n",
        "\n",
        "for idx in tqdm(range(num_iter)):\n",
        "    mean_w = generator.get_latent(torch.randn([latents.size(0), latent_dim]).to(device)).unsqueeze(1).repeat(1, generator.n_latent, 1)\n",
        "    in_latent = latents.clone()\n",
        "    in_latent[:, id_swap] = alpha*latents[:, id_swap] + (1-alpha)*mean_w[:, id_swap]\n",
        "\n",
        "    img = generator(in_latent, input_is_latent=True)\n",
        "\n",
        "    with torch.no_grad():\n",
        "        real_feat = discriminator(targets)\n",
        "    fake_feat = discriminator(img)\n",
        "\n",
        "    loss = sum([F.l1_loss(a, b) for a, b in zip(fake_feat, real_feat)])/len(fake_feat)\n",
        "\n",
        "    if use_wandb:\n",
        "        wandb.log({\"loss\": loss}, step=idx)\n",
        "        if idx % log_interval == 0:\n",
        "            generator.eval()\n",
        "            my_sample = generator(my_w, input_is_latent=True)\n",
        "            generator.train()\n",
        "            my_sample = transforms.ToPILImage()(utils.make_grid(my_sample, normalize=True, range=(-1, 1)))\n",
        "            wandb.log(\n",
        "            {\"Current stylization\": [wandb.Image(my_sample)]},\n",
        "            step=idx)\n",
        "\n",
        "    g_optim.zero_grad()\n",
        "    loss.backward()\n",
        "    g_optim.step()"
      ],
      "metadata": {
        "id": "XELw9dU39X-T",
        "cellView": "form"
      },
      "execution_count": null,
      "outputs": []
    },
    {
      "cell_type": "code",
      "source": [
        "#@title Generate results\n",
        "#@markdown The hard work is over! Run this cell to generate the results of your trained model.\n",
        "#@markdown Try adjusting the input random seed to see how the outputs change.\n",
        "n_sample =  5#@param {type:\"number\"}\n",
        "seed = 3000 #@param {type:\"number\"}\n",
        "\n",
        "torch.manual_seed(seed)\n",
        "with torch.no_grad():\n",
        "    generator.eval()\n",
        "    z = torch.randn(n_sample, latent_dim, device=device)\n",
        "\n",
        "    original_sample = original_generator([z], truncation=0.7, truncation_latent=mean_latent)\n",
        "    sample = generator([z], truncation=0.7, truncation_latent=mean_latent)\n",
        "\n",
        "    original_my_sample = original_generator(my_w, input_is_latent=True)\n",
        "    my_sample = generator(my_w, input_is_latent=True)\n",
        "\n",
        "# display reference images\n",
        "# style_images = []\n",
        "transformed_style_images = []\n",
        "for image in style_images:\n",
        "  transformed_style_images.append(transform(image))\n",
        "# for name in names:\n",
        "#     style_path = f'style_images_aligned/{strip_path_extension(name)}.png'\n",
        "#     style_image = transform(Image.open(style_path))\n",
        "#     style_images.append(style_image)\n",
        "    \n",
        "face = transform(aligned_face).to(device).unsqueeze(0)\n",
        "transformed_style_images = torch.stack(transformed_style_images, 0).to(device)\n",
        "display_image(utils.make_grid(transformed_style_images, normalize=True, range=(-1, 1)), title='References')\n",
        "\n",
        "my_output = torch.cat([face, my_sample], 0)\n",
        "display_image(utils.make_grid(my_output, normalize=True, range=(-1, 1)), title='My sample')\n",
        "\n",
        "output = torch.cat([original_sample, sample], 0)\n",
        "display_image(utils.make_grid(output, normalize=True, range=(-1, 1), nrow=n_sample), title='Random samples')"
      ],
      "metadata": {
        "id": "_gGWg81F9ZxE",
        "cellView": "form"
      },
      "execution_count": null,
      "outputs": []
    }
  ]
}